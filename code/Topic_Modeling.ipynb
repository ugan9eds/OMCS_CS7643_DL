{
 "cells": [
  {
   "cell_type": "code",
   "execution_count": 7,
   "id": "1a8d95f3",
   "metadata": {
    "pycharm": {
     "name": "#%%\n"
    }
   },
   "outputs": [],
   "source": [
    "import json\n",
    "\n",
    "import pandas as pd\n",
    "path_to_allrecipes = 'C:\\\\Users\\\\Nilay\\\\Documents\\\\GitHub\\\\OMCS_CS7643_DL\\\\data\\\\allrecipes-recipes.json.xz'\n",
    "path_to_kaggle = 'C:\\\\Users\\\\Nilay\\\\Documents\\\\GitHub\\\\OMCS_CS7643_DL\\\\data\\\\Food Ingredients and Recipe Dataset with Image Name Mapping.csv'"
   ]
  },
  {
   "cell_type": "code",
   "execution_count": 8,
   "id": "a1d3ddd6",
   "metadata": {
    "pycharm": {
     "name": "#%%\n"
    }
   },
   "outputs": [],
   "source": [
    "def combine_datasets(path_to_kaggle, path_to_allrecipes):\n",
    "    \n",
    "    def read_file(path):\n",
    "        recipes_lines = [json.loads(line) for line in open(path, 'r')]\n",
    "        return pd.DataFrame(recipes_lines)\n",
    "\n",
    "    df_all_recipies = pd.read_json(path_to_allrecipes,lines=True, compression='xz')\n",
    "    df_all_recipies = df_all_recipies[df_all_recipies['photo_url'] != \"http://images.media-allrecipes.com/global/recipes/nophoto/nopicture-910x511.png\"]\n",
    "    df_all_recipies = df_all_recipies[[\"ingredients\", \"instructions\", \"photo_url\", \"title\"]]\n",
    "    \n",
    "    df_kaggle = pd.read_csv(path_to_kaggle)\n",
    "    df_kaggle['Instructions'] = df_kaggle.apply(lambda x: [x.Instructions], axis=1)\n",
    "    df_kaggle.rename(columns={\"Title\":\"title\", \"Cleaned_Ingredients\":\"ingredients\", \"Instructions\": \"instructions\", \"Image_Name\":\"photo_url\"}, inplace = True)\n",
    "    df_kaggle = df_kaggle[[\"ingredients\", \"instructions\", \"photo_url\", \"title\"]]\n",
    "    final_df = pd.concat([df_all_recipies, df_kaggle])\n",
    "    \n",
    "    return final_df"
   ]
  },
  {
   "cell_type": "code",
   "execution_count": 9,
   "id": "c81bb630",
   "metadata": {
    "pycharm": {
     "name": "#%%\n"
    }
   },
   "outputs": [
    {
     "data": {
      "text/plain": "'Sun Dried Tomato and Asiago Cheese Bread'"
     },
     "execution_count": 9,
     "metadata": {},
     "output_type": "execute_result"
    }
   ],
   "source": [
    "data = combine_datasets(path_to_kaggle, path_to_allrecipes)\n",
    "data.iloc[10]['photo_url']\n",
    "data.iloc[10]['title']\n"
   ]
  },
  {
   "cell_type": "code",
   "execution_count": 10,
   "id": "ff9aee49",
   "metadata": {
    "pycharm": {
     "name": "#%%\n"
    }
   },
   "outputs": [
    {
     "data": {
      "text/plain": "                                             ingredients  \\\n0      [1/2 cup unsalted butter, chilled and cubed, 1...   \n1      [1/2 cup Parmesan cheese, 3/4 teaspoon ground ...   \n2      [2 cups hot water, 1/2 cup margarine, 1/3 cup ...   \n3      [1 1/2 cups white sugar, 1/2 cup vegetable oil...   \n4      [1/4 cup butter, 1 teaspoon white sugar, 1 cup...   \n...                                                  ...   \n13496  ['1 cup all-purpose flour', '2/3 cup unsweeten...   \n13497  ['1 preserved lemon', '1 1/2 pound butternut s...   \n13498  ['Leftover katsuo bushi (dried bonito flakes) ...   \n13499  ['1 stick (1/2 cup) plus 1 tablespoon unsalted...   \n13500  ['12 medium to large fresh poblano chiles (2 1...   \n\n                                            instructions  \\\n0      [Preheat oven to 400 degrees F (205 degrees C)...   \n1      [Combine parmesan cheese, pepper and garlic po...   \n2      [Melt margarine in hot water. Add sugar and sa...   \n3      [Combine sugar and oil; beat well. Add eggs an...   \n4      [Stir butter and 1 teaspoon sugar into the hot...   \n...                                                  ...   \n13496  [Preheat the oven to 350°F. Into a bowl sift t...   \n13497  [Preheat oven to 475°F.\\nHalve lemons and scoo...   \n13498  [If using katsuo bushi flakes from package, mo...   \n13499  [Melt 1 tablespoon butter in a 12-inch heavy s...   \n13500  [Lay 4 chiles on their sides on racks of gas b...   \n\n                                               photo_url  \\\n0      http://images.media-allrecipes.com/userphotos/...   \n1      http://images.media-allrecipes.com/userphotos/...   \n2      http://images.media-allrecipes.com/userphotos/...   \n3      http://images.media-allrecipes.com/userphotos/...   \n4      http://images.media-allrecipes.com/userphotos/...   \n...                                                  ...   \n13496                         brownie-pudding-cake-14408   \n13497  israeli-couscous-with-roasted-butternut-squash...   \n13498  rice-with-soy-glazed-bonito-flakes-and-sesame-...   \n13499                                 spanakopita-107344   \n13500  mexican-poblano-spinach-and-black-bean-lasagne...   \n\n                                                   title  \\\n0      Basil, Roasted Peppers and Monterey Jack Cornb...   \n1                                   Crispy Cheese Twists   \n2                                      Mom's Yeast Rolls   \n3                                   Sweet Potato Bread I   \n4                                            Orange Buns   \n...                                                  ...   \n13496                               Brownie Pudding Cake   \n13497  Israeli Couscous with Roasted Butternut Squash...   \n13498  Rice with Soy-Glazed Bonito Flakes and Sesame ...   \n13499                                        Spanakopita   \n13500  Mexican Poblano, Spinach, and Black Bean \"Lasa...   \n\n                                             recipe_name  \n0         basil, roasted peppers monterey jack cornbread  \n1                                   crispy cheese twists  \n2                                      mom's yeast rolls  \n3                                   sweet potato bread i  \n4                                            orange buns  \n...                                                  ...  \n13496                               brownie pudding cake  \n13497  israeli couscous roasted butternut squash pres...  \n13498         rice soy-glazed bonito flakes sesame seeds  \n13499                                        spanakopita  \n13500  mexican poblano, spinach, black bean \"lasagne\"...  \n\n[85986 rows x 5 columns]",
      "text/html": "<div>\n<style scoped>\n    .dataframe tbody tr th:only-of-type {\n        vertical-align: middle;\n    }\n\n    .dataframe tbody tr th {\n        vertical-align: top;\n    }\n\n    .dataframe thead th {\n        text-align: right;\n    }\n</style>\n<table border=\"1\" class=\"dataframe\">\n  <thead>\n    <tr style=\"text-align: right;\">\n      <th></th>\n      <th>ingredients</th>\n      <th>instructions</th>\n      <th>photo_url</th>\n      <th>title</th>\n      <th>recipe_name</th>\n    </tr>\n  </thead>\n  <tbody>\n    <tr>\n      <th>0</th>\n      <td>[1/2 cup unsalted butter, chilled and cubed, 1...</td>\n      <td>[Preheat oven to 400 degrees F (205 degrees C)...</td>\n      <td>http://images.media-allrecipes.com/userphotos/...</td>\n      <td>Basil, Roasted Peppers and Monterey Jack Cornb...</td>\n      <td>basil, roasted peppers monterey jack cornbread</td>\n    </tr>\n    <tr>\n      <th>1</th>\n      <td>[1/2 cup Parmesan cheese, 3/4 teaspoon ground ...</td>\n      <td>[Combine parmesan cheese, pepper and garlic po...</td>\n      <td>http://images.media-allrecipes.com/userphotos/...</td>\n      <td>Crispy Cheese Twists</td>\n      <td>crispy cheese twists</td>\n    </tr>\n    <tr>\n      <th>2</th>\n      <td>[2 cups hot water, 1/2 cup margarine, 1/3 cup ...</td>\n      <td>[Melt margarine in hot water. Add sugar and sa...</td>\n      <td>http://images.media-allrecipes.com/userphotos/...</td>\n      <td>Mom's Yeast Rolls</td>\n      <td>mom's yeast rolls</td>\n    </tr>\n    <tr>\n      <th>3</th>\n      <td>[1 1/2 cups white sugar, 1/2 cup vegetable oil...</td>\n      <td>[Combine sugar and oil; beat well. Add eggs an...</td>\n      <td>http://images.media-allrecipes.com/userphotos/...</td>\n      <td>Sweet Potato Bread I</td>\n      <td>sweet potato bread i</td>\n    </tr>\n    <tr>\n      <th>4</th>\n      <td>[1/4 cup butter, 1 teaspoon white sugar, 1 cup...</td>\n      <td>[Stir butter and 1 teaspoon sugar into the hot...</td>\n      <td>http://images.media-allrecipes.com/userphotos/...</td>\n      <td>Orange Buns</td>\n      <td>orange buns</td>\n    </tr>\n    <tr>\n      <th>...</th>\n      <td>...</td>\n      <td>...</td>\n      <td>...</td>\n      <td>...</td>\n      <td>...</td>\n    </tr>\n    <tr>\n      <th>13496</th>\n      <td>['1 cup all-purpose flour', '2/3 cup unsweeten...</td>\n      <td>[Preheat the oven to 350°F. Into a bowl sift t...</td>\n      <td>brownie-pudding-cake-14408</td>\n      <td>Brownie Pudding Cake</td>\n      <td>brownie pudding cake</td>\n    </tr>\n    <tr>\n      <th>13497</th>\n      <td>['1 preserved lemon', '1 1/2 pound butternut s...</td>\n      <td>[Preheat oven to 475°F.\\nHalve lemons and scoo...</td>\n      <td>israeli-couscous-with-roasted-butternut-squash...</td>\n      <td>Israeli Couscous with Roasted Butternut Squash...</td>\n      <td>israeli couscous roasted butternut squash pres...</td>\n    </tr>\n    <tr>\n      <th>13498</th>\n      <td>['Leftover katsuo bushi (dried bonito flakes) ...</td>\n      <td>[If using katsuo bushi flakes from package, mo...</td>\n      <td>rice-with-soy-glazed-bonito-flakes-and-sesame-...</td>\n      <td>Rice with Soy-Glazed Bonito Flakes and Sesame ...</td>\n      <td>rice soy-glazed bonito flakes sesame seeds</td>\n    </tr>\n    <tr>\n      <th>13499</th>\n      <td>['1 stick (1/2 cup) plus 1 tablespoon unsalted...</td>\n      <td>[Melt 1 tablespoon butter in a 12-inch heavy s...</td>\n      <td>spanakopita-107344</td>\n      <td>Spanakopita</td>\n      <td>spanakopita</td>\n    </tr>\n    <tr>\n      <th>13500</th>\n      <td>['12 medium to large fresh poblano chiles (2 1...</td>\n      <td>[Lay 4 chiles on their sides on racks of gas b...</td>\n      <td>mexican-poblano-spinach-and-black-bean-lasagne...</td>\n      <td>Mexican Poblano, Spinach, and Black Bean \"Lasa...</td>\n      <td>mexican poblano, spinach, black bean \"lasagne\"...</td>\n    </tr>\n  </tbody>\n</table>\n<p>85986 rows × 5 columns</p>\n</div>"
     },
     "execution_count": 10,
     "metadata": {},
     "output_type": "execute_result"
    }
   ],
   "source": [
    "import re\n",
    "def clean_dataset(dataset):\n",
    "    def remove_values(x):\n",
    "        prohibitedWords = [' and ', ' with ', ' the ', 'easy', 'best', ' i ', 'ii', 'iii', 'iv']\n",
    "        big_regex = re.compile('|'.join(map(re.escape, prohibitedWords)))\n",
    "        l = [big_regex.sub(\" \", str(t).lower()) for t in x]\n",
    "        return l\n",
    "    data = dataset.assign(recipe_name = lambda x: remove_values(x['title']))\n",
    "    return data\n",
    "data = clean_dataset(data)\n",
    "data"
   ]
  },
  {
   "cell_type": "code",
   "execution_count": 11,
   "id": "6c36b8be",
   "metadata": {
    "pycharm": {
     "name": "#%%\n"
    }
   },
   "outputs": [
    {
     "name": "stderr",
     "output_type": "stream",
     "text": [
      "[nltk_data] Downloading package stopwords to\n",
      "[nltk_data]     C:\\Users\\Nilay\\AppData\\Roaming\\nltk_data...\n",
      "[nltk_data]   Unzipping corpora\\stopwords.zip.\n"
     ]
    }
   ],
   "source": [
    "import nltk\n",
    "from nltk.tokenize import RegexpTokenizer\n",
    "from nltk.corpus import stopwords\n",
    "nltk.download('stopwords')\n",
    "de_stop = stopwords.words('english')\n",
    "tokenizer = RegexpTokenizer(r'\\w+')\n",
    "final_names=[]\n",
    "recipe_name = data['recipe_name'].tolist()\n",
    "for rec in recipe_name:\n",
    "    raw = rec.lower()\n",
    "    tokens = tokenizer.tokenize(raw)\n",
    "    stop_t = [recipe_name for recipe_name in tokens if not recipe_name in de_stop]\n",
    "    stem_t = [i for i in stop_t if len(i)>1]\n",
    "    if len(stem_t)==0: final_names.append(['error'])\n",
    "    else: final_names.append(stem_t)"
   ]
  },
  {
   "cell_type": "code",
   "execution_count": 12,
   "id": "d9d53fa8",
   "metadata": {
    "pycharm": {
     "name": "#%%\n"
    }
   },
   "outputs": [
    {
     "data": {
      "text/plain": "[['basil', 'roasted', 'peppers', 'monterey', 'jack', 'cornbread'],\n ['crispy', 'cheese', 'twists'],\n ['mom', 'yeast', 'rolls'],\n ['sweet', 'potato', 'bread'],\n ['orange', 'buns'],\n ['cornish', 'splits'],\n ['jalapeno', 'cheese', 'bread'],\n ['dee', 'health', 'bread'],\n ['oatmeal', 'bread'],\n ['strawberry', 'bread'],\n ['sun', 'dried', 'tomato', 'asiago', 'cheese', 'bread'],\n ['hawa', 'sweet', 'bread'],\n ['corn', 'bread', 'ever', 'eat'],\n ['knead', 'refrigerator', 'rolls'],\n ['sourdough', 'starter'],\n ['sourdough', 'bread'],\n ['dilly', 'bread'],\n ['pumpkin', 'bread'],\n ['sy', 'challah'],\n ['onion', 'bread'],\n ['grandma', 'vandoren', 'white', 'bread'],\n ['italian', 'bread'],\n ['sunday', 'dinner', 'rolls'],\n ['banana', 'wheat', 'bread'],\n ['banana', 'bread'],\n ['candied', 'fruit', 'bread'],\n ['nut', 'fruit', 'bread'],\n ['mother', 'banana', 'bread'],\n ['pumpernickel', 'bread'],\n ['buttermilk', 'bread'],\n ['sun', 'dried', 'tomato', 'focaccia'],\n ['michell', 'jenny', 'challah'],\n ['potato', 'bread'],\n ['delicious', 'pumpkin', 'bread'],\n ['mom', 'zucchini', 'bread'],\n ['cinnamon', 'cranraisin', 'bread'],\n ['molasses', 'oat', 'bran', 'bread'],\n ['fabulous', 'homemade', 'bread'],\n ['persimmon', 'bread'],\n ['cinnamon', 'carrot', 'bread'],\n ['strawberry', 'bread'],\n ['alienated', 'blueberry', 'muffins'],\n ['yummy', 'lemon', 'bread'],\n ['nick', 'favorite', 'cherry', 'pecan', 'bread'],\n ['swedish', 'rye', 'bread'],\n ['bran', 'muffins'],\n ['zucchini', 'walnut', 'bread'],\n ['apricot', 'nut', 'bread'],\n ['babka'],\n ['brazilian', 'banana', 'bread'],\n ['banana', 'bread'],\n ['banana', 'oat', 'muffins'],\n ['canadian', 'doughnuts'],\n ['beer', 'bread'],\n ['beer', 'biscuits'],\n ['cardamom', 'bread'],\n ['three', 'bread'],\n ['grandma', 'cornish', 'whole', 'wheat', 'potato', 'bread'],\n ['chocolate', 'bread'],\n ['strawberry', 'rhubarb', 'muffins'],\n ['poppy', 'seed', 'bread'],\n ['zucchini', 'bread'],\n ['honey', 'wheat', 'bread'],\n ['honey', 'white', 'bread'],\n ['quick', 'lemon', 'poppy', 'seed', 'bread'],\n ['maple', 'zucchini', 'bread'],\n ['chocolate', 'chip', 'orange', 'zucchini', 'bread'],\n ['chocolate', 'chip', 'pumpkin', 'bread'],\n ['red', 'pepper', 'biscuits'],\n ['chocolate', 'wave', 'zucchini', 'bread'],\n ['wheat', 'barley', 'bread'],\n ['tomato', 'bread'],\n ['zucchini', 'bread'],\n ['mall', 'pretzels'],\n ['soft', 'pretzels'],\n ['sweet', 'potato', 'rolls'],\n ['tea', 'biscuits'],\n ['cheddar', 'biscuits'],\n ['cottage', 'dill', 'bread'],\n ['english', 'muffin', 'loaves'],\n ['parmesan', 'focaccia', 'bread'],\n ['darbey', 'bread'],\n ['nonfat', 'sour', 'cream', 'cake', 'bread'],\n ['coconut', 'bread'],\n ['irish', 'soda', 'bread'],\n ['ciabatta'],\n ['lower', 'fat', 'banana', 'nut', 'bread'],\n ['orange', 'nut', 'bread'],\n ['poppy', 'seed', 'bread'],\n ['oatmeal', 'chocolate', 'chip', 'muffins'],\n ['lower', 'fat', 'banana', 'bread'],\n ['sourdough', 'bread'],\n ['parmesan', 'herb', 'bread'],\n ['simple', 'banana', 'bread'],\n ['unbelievable', 'rolls'],\n ['pecan', 'sticky', 'buns'],\n ['challah'],\n ['tasty', 'buns'],\n ['breakfast', 'muffins'],\n ['honey', 'wheat', 'bread'],\n ['special', 'pumpkin', 'bread'],\n ['4h', 'banana', 'bread'],\n ['oatmeal', 'blueberry', 'muffins'],\n ['instant', 'rolls'],\n ['basic', 'sweet', 'dough'],\n ['lemon', 'bread'],\n ['pumpkin', 'coconut', 'bread'],\n ['simple', 'white', 'bread'],\n ['hazelnut', 'chocolate', 'chip', 'scones'],\n ['simple', 'whole', 'wheat', 'bread'],\n ['rye', 'beer', 'bread'],\n ['mrs', 'kurtz', 'banana', 'bread'],\n ['pizza', 'dough'],\n ['banana', 'nut', 'bread'],\n ['blue', 'ribbon', 'overnight', 'rolls'],\n ['cinnamon', 'raisin', 'bread'],\n ['homemade', 'focaccia', 'bread'],\n ['whole', 'wheat', 'bread'],\n ['sourdough', 'drop', 'biscuits'],\n ['sourdough', 'starter'],\n ['milk', 'honey', 'loaf'],\n ['italian', 'herb', 'bread'],\n ['potato', 'bread'],\n ['amish', 'white', 'bread'],\n ['cottage', 'cheese', 'bread'],\n ['nana', 'nut', 'bread'],\n ['irish', 'soda', 'bread'],\n ['zucchini', 'bread'],\n ['cinnamon', 'rolls'],\n ['sweet', 'potato', 'pecan', 'waffles'],\n ['mom', 'baking', 'powder', 'biscuits'],\n ['cornbread'],\n ['pumpkin', 'bread'],\n ['cranberry', 'pumpkin', 'bread'],\n ['honey', 'whole', 'wheat', 'bread'],\n ['basic', 'rye', 'bread'],\n ['oat', 'honey', 'bread'],\n ['mexican', 'style', 'cornbread'],\n ['ol', 'bread'],\n ['donna', 'chocolate', 'zucchini', 'bread'],\n ['blueberry', 'muffins'],\n ['calzone'],\n ['uncle', 'wynn', 'bread', 'machine', 'rye'],\n ['beer', 'bread'],\n ['garden', 'herb', 'loaf'],\n ['panettone'],\n ['potato', 'rosemary', 'rolls'],\n ['white', 'bread', 'bread', 'machine'],\n ['valentino', 'pizza', 'crust'],\n ['monkey', 'bread'],\n ['italian', 'bread'],\n ['new', 'york', 'rye', 'bread'],\n ['sweet', 'honey', 'french', 'bread'],\n ['pineapple', 'tangerine', 'bread'],\n ['downeast', 'maine', 'pumpkin', 'bread'],\n ['peppy', 'pita', 'bread'],\n ['pineapple', 'zucchini', 'bread'],\n ['walnut', 'raisin', 'scones'],\n ['pumpkin', 'nut', 'muffins'],\n ['orange', 'muffins'],\n ['yogurt', 'cornbread'],\n ['bagels'],\n ['tortillas'],\n ['whole', 'wheat', 'banana', 'strawberry', 'loaf'],\n ['cheddar', 'muffins'],\n ['burger', 'hot', 'dog', 'buns'],\n ['buttermilk', 'white', 'bread'],\n ['carolyn', 'orange', 'rolls'],\n ['orange', 'juice', 'muffins', 'honey', 'spread'],\n ['seminole', 'pumpkin', 'bread'],\n ['garlic', 'cheese', 'biscuits'],\n ['quick', 'sticky', 'buns'],\n ['poppy', 'seed', 'bread'],\n ['sweeter', 'muffins'],\n ['pumpkin', 'bread'],\n ['whole', 'wheat', 'zucchini', 'herb', 'bread'],\n ['chinky', 'bibingka'],\n ['chinky', 'mango', 'bread'],\n ['chinky', 'puto', 'bread'],\n ['baked', 'pumpkin', 'bread'],\n ['blueberry', 'muffins'],\n ['eggnog', 'quick', 'bread'],\n ['strawberry', 'nut', 'bread'],\n ['boiled', 'bagels'],\n ['mocha', 'cream', 'bread'],\n ['pina', 'colada', 'bread'],\n ['date', 'nut', 'bread'],\n ['blueberry', 'monkey', 'bread'],\n ['streusel', 'topped', 'blueberry', 'muffins'],\n ['biscuits'],\n ['amish', 'friendship', 'bread'],\n ['jalapeno', 'bread'],\n ['jalapeno', 'bread'],\n ['sourdough', 'tomato', 'bread'],\n ['chocolate', 'chip', 'almond', 'bread'],\n ['hot', 'onion', 'pinwheels'],\n ['pumpkin', 'bread'],\n ['italian', 'bread'],\n ['monkey', 'bread'],\n ['die', 'blueberry', 'muffins'],\n ['angel', 'biscuits'],\n ['bread', 'life'],\n ['buttered', 'biscuits'],\n ['poppy', 'seed', 'muffins'],\n ['sour', 'cream', 'biscuits'],\n ['butter', 'honey', 'wheat', 'bread'],\n ['blueberry', 'bread'],\n ['ever', 'muffins'],\n ['rory', 'wonderful', 'corn', 'bread'],\n ['dad', 'orange', 'cardamom', 'breakfast', 'rolls'],\n ['white', 'bread'],\n ['almond', 'crescent', 'buns'],\n ['number', 'one', 'egg', 'bread'],\n ['fry', 'bread'],\n ['jalapeno', 'cornbread'],\n ['french', 'bread'],\n ['dark', 'sweet', 'rye', 'bread'],\n ['bishop', 'bread'],\n ['spicy', 'scones'],\n ['zucchini', 'muffins'],\n ['croutons'],\n ['savory', 'onion', 'bread'],\n ['cheddar', 'cheese', 'straws'],\n ['apricot', 'raisin', 'loaf'],\n ['cinnamon', 'coconut', 'loaf'],\n ['apple', 'loaf'],\n ['banana', 'coconut', 'loaf'],\n ['chocolate', 'date', 'loaf'],\n ['apricot', 'cheese', 'loaf'],\n ['whole', 'wheat', 'apple', 'muffins'],\n ['raisin', 'loaf'],\n ['blueberry', 'anadama', 'bread'],\n ['dumplings'],\n ['indian', 'naan'],\n ['zucchini', 'pineapple', 'loaf'],\n ['grandma', 'english', 'muffin', 'bread'],\n ['chocolate', 'filled', 'muffins'],\n ['apple', 'scones'],\n ['scottish', 'oat', 'scones'],\n ['jiffy', 'cinnamon', 'rolls'],\n ['butterscotch', 'buns'],\n ['jam', 'filled', 'buns'],\n ['kolaches'],\n ['sour', 'cream', 'onion', 'bread'],\n ['orange', 'loaf'],\n ['cranberry', 'orange', 'loaf'],\n ['cranberry', 'loaf'],\n ['zucchini', 'bread'],\n ['croissants'],\n ['portuguese', 'cornbread'],\n ['portuguese', 'fried', 'bread'],\n ['bannock'],\n ['orange', 'cinnamon', 'sticks'],\n ['quick', 'banana', 'bread'],\n ['fake', 'sourdough', 'biscuits'],\n ['monkey', 'bread'],\n ['monkey', 'bread'],\n ['monkey', 'bread'],\n ['bruce', 'honey', 'sesame', 'bread'],\n ['beaten', 'biscuits'],\n ['bagels'],\n ['date', 'orange', 'bread'],\n ['orange', 'pumpkin', 'loaf'],\n ['pumpkin', 'tea', 'bread'],\n ['cinnamon', 'bread'],\n ['cherry', 'spice', 'loaf'],\n ['pineapple', 'bread'],\n ['raisin', 'bread'],\n ['fruit', 'nut', 'loaf'],\n ['fruit', 'bread'],\n ['favorite', 'nut', 'bread'],\n ['zucchini', 'coconut', 'loaf'],\n ['cottage', 'cheese', 'loaf'],\n ['fancy', 'crescents'],\n ['pumpkin', 'loaf'],\n ['blueberry', 'scones'],\n ['english', 'muffins'],\n ['cinnamon', 'sour', 'cream', 'biscuits'],\n ['fruit', 'loaf'],\n ['sophie', 'zucchini', 'bread'],\n ['abby', 'super', 'zucchini', 'loaf'],\n ['butter', 'tart', 'muffins'],\n ['hot', 'water', 'cornbread'],\n ['maple', 'twists'],\n ['mama', 'italian', 'bread'],\n ['pepperoni', 'filled', 'bread'],\n ['banana', 'chip', 'muffins'],\n ['cinnamon', 'buns'],\n ['mustard', 'wheat', 'rye', 'sandwich', 'bread'],\n ['dr', 'michael', 'yeasted', 'cornbread'],\n ['pizza', 'crust'],\n ['seven', 'grain', 'bread'],\n ['good', '100', 'whole', 'wheat', 'bread'],\n ['persimmon', 'bread'],\n ['peanut', 'butter', 'sandwich', 'loaf'],\n ['soft', 'pretzels'],\n ['mincemeat', 'quick', 'bread'],\n ['peach', 'bread'],\n ['butterfly', 'buns'],\n ['honey', 'oatmeal', 'bread'],\n ['buttermilk', 'bread'],\n ['poppy', 'seed', 'loaf'],\n ['irish', 'bannock'],\n ['swedish', 'limpu', 'bread'],\n ['hot', 'water', 'cornmeal', 'bread'],\n ['cracklin', 'bread'],\n ['sausage', 'cornbread', 'bake'],\n ['bread', 'bowls'],\n ['crusty', 'white', 'bread'],\n ['zeppoli'],\n ['peanut', 'butter', 'bread'],\n ['sourdough', 'starter'],\n ['garlic', 'bread'],\n ['banana', 'sour', 'cream', 'bread'],\n ['holiday', 'pumpkin', 'bread'],\n ['sourdough', 'rye'],\n ['hungarian', 'braided', 'white', 'bread'],\n ['sarah', 'banana', 'bread', 'muffins'],\n ['banana', 'nut', 'muffins'],\n ['focaccia'],\n ['cheese', 'biscuits'],\n ['cathy', 'banana', 'bread'],\n ['rice', 'bread', 'pirog'],\n ['low', 'salt', 'white', 'bread'],\n ['braided', 'egg', 'bread'],\n ['cinnamon', 'rolls'],\n ['pumpkin', 'rolls'],\n ['quick', 'bread', 'mix'],\n ['golden', 'crescent', 'rolls'],\n ['poppy', 'seed', 'bread', 'glaze'],\n ['czech', 'christmas', 'hoska'],\n ['applesauce', 'bread'],\n ['raisin', 'brown', 'bread'],\n ['applesauce', 'raisin', 'bread'],\n ['apple', 'raisin', 'bread'],\n ['buttermilk', 'oatmeal', 'bread'],\n ['kolaches'],\n ['whole', 'wheat', 'bread'],\n ['finnish', 'pulla'],\n ['chinese', 'steamed', 'buns'],\n ['cottage', 'cheese', 'bread'],\n ['mocha', 'chocolate', 'chip', 'banana', 'muffins'],\n ['ruby', 'special', 'cornbread'],\n ['maple', 'muffins'],\n ['french', 'toast'],\n ['snow', 'day', 'french', 'toast'],\n ['angel', 'biscuits'],\n ['fudgy', 'chocolate', 'chip', 'muffins'],\n ['pumpernickel', 'bread'],\n ['indian', 'naan'],\n ['lefse'],\n ['chocolate', 'chocolate', 'chip', 'muffins'],\n ['banana', 'nut', 'bread', 'baked', 'jar'],\n ['light', 'oat', 'bread'],\n ['honey', 'oatmeal', 'bread'],\n ['potato', 'bread'],\n ['french', 'baguettes'],\n ['oatmeal', 'soda', 'bread'],\n ['chinese', 'steamed', 'buns', 'meat', 'filling'],\n ['chinese', 'steamed', 'buns', 'bbq', 'pork', 'filling'],\n ['mary', 'anne', 'moist', 'nutty', 'carrot', 'loaf'],\n ['basic', 'fruit', 'bread', 'recipe'],\n ['russian', 'black', 'bread'],\n ['raisin', 'bread'],\n ['dill', 'pickle', 'bread'],\n ['angel', 'biscuit', 'rolls'],\n ['panettone'],\n ['big', 'daddy', 'biscuits'],\n ['beer', 'rolls'],\n ['paska', 'bread'],\n ['bread', 'machine', 'challah'],\n ['pumpkin', 'bread'],\n ['ever', 'cinnamon', 'buns'],\n ['oatmeal', 'molasses', 'bread'],\n ['ezekiel', 'bread'],\n ['zucchini', 'pineapple', 'bread'],\n ['pumpkin', 'swirl', 'bread'],\n ['jule', 'kaka'],\n ['steve', 'whole', 'wheat'],\n ['oatmeal', 'bread'],\n ['dizzy', 'pineapple', 'bread'],\n ['coconut', 'pumpkin', 'nut', 'bread'],\n ['european', 'black', 'bread'],\n ['chili', 'bread'],\n ['old', 'fashion', 'molasses', 'bread'],\n ['whole', 'wheat', 'honey', 'bread'],\n ['carrot', 'thyme', 'bread'],\n ['golly', 'gee', 'gluten', 'free', 'pancakes'],\n ['salt', 'rising', 'bread'],\n ['baked', 'pretzels'],\n ['amish', 'friendship', 'bread', 'starter'],\n ['amish', 'cinnamon', 'bread'],\n ['rice', 'bread'],\n ['french', 'herb', 'bread'],\n ['lemon', 'poppy', 'seed', 'muffins'],\n ['lemon', 'poppy', 'seed', 'muffins'],\n ['special', 'banana', 'bread'],\n ['injera'],\n ['pita', 'bread'],\n ['raisin', 'bread'],\n ['hot', 'cross', 'buns'],\n ['hot', 'cross', 'buns'],\n ['plain', 'simple', 'sourdough', 'bread'],\n ['garlic', 'herb', 'bread'],\n ['ron', 'fruit', 'bread'],\n ['ron', 'bread', 'machine', 'white'],\n ['portuguese', 'sweet', 'bread'],\n ['pizza', 'crust'],\n ['tomato', 'basil', 'sherry', 'bread'],\n ['onion', 'garlic', 'cheese', 'bread'],\n ['irish', 'soda', 'bread'],\n ['sourdough', 'wheat', 'bread'],\n ['basic', 'british', 'scones'],\n ['yeast', 'free', 'bread'],\n ['bread', 'bowls'],\n ['bread', 'sticks'],\n ['cinnamon', 'bread'],\n ['banana', 'macadamia', 'nut', 'bread'],\n ['homemade', 'wonderful', 'bread'],\n ['spudnuts'],\n ['banana', 'nut', 'oatmeal', 'bread'],\n ['irresistible', 'irish', 'soda', 'bread'],\n ['irish', 'soda', 'bread'],\n ['chinese', 'pork', 'buns', 'cha', 'siu', 'bao'],\n ['christmas', 'stollen'],\n ['pizza', 'crust'],\n ['pistachio', 'bread'],\n ['grill', 'dough'],\n ['german', 'rye', 'bread'],\n ['spelt', 'bread'],\n ['easter', 'bread', 'ring'],\n ['essene', 'bread'],\n ['sticky', 'buns'],\n ['restaurant', 'quality', 'maple', 'oatmeal', 'scones'],\n ['quick', 'monkey', 'bread'],\n ['brunch', 'cream', 'cheese', 'muffins'],\n ['mocha', 'muffins'],\n ['peanut', 'butter', 'jelly', 'bread'],\n ['spiced', 'apple', 'muffins'],\n ['banana', 'chip', 'muffins'],\n ['banana', 'bread', 'quick', 'bread', 'machines'],\n ['steamed', 'black', 'bread'],\n ['dark', 'rye', 'bread'],\n ['mediterranean', 'black', 'ol', 'bread'],\n ['italian', 'herb', 'bread'],\n ['batter', 'white', 'bread'],\n ['authentic', 'mexican', 'tortillas'],\n ['johnnycakes'],\n ['polish', 'doughnuts'],\n ['julia', 'hot', 'cross', 'buns'],\n ['pain', 'perdu'],\n ['high', 'flavor', 'bran', 'bread'],\n ['malasadas'],\n ['oat', 'bran', 'bread'],\n ['blueberry', 'bread'],\n ['sour', 'cream', 'ch', 'rolls'],\n ['pear', 'dise', 'muffins'],\n ['basic', 'sourdough', 'bread'],\n ['bread', 'pudding'],\n ['taralli'],\n ['fondue', 'bread'],\n ['southern', 'butter', 'rolls'],\n ['country', 'seed', 'bread'],\n ['banana', 'nut', 'bread'],\n ['italian', 'cheese', 'bread'],\n ['bread', 'machine', 'spelt', 'bread'],\n ['sausage', 'bread'],\n ['cheddar', 'bay', 'biscuits'],\n ['tarradls', 'italian', 'pepper', 'rings'],\n ['french', 'brioche'],\n ['sticky', 'buns'],\n ['golden', 'cake', 'batter', 'bread'],\n ['blueberry', 'orange', 'bread'],\n ['pan', 'dulce'],\n ['honey', 'flaxseed', 'bread'],\n ['creamy', 'banana', 'bread'],\n ['whole', 'wheat', 'banana', 'nut', 'bread'],\n ['san', 'francisco', 'sourdough', 'bread'],\n ['fougasse'],\n ['strawnana', 'bread'],\n ['morning', 'glory', 'muffins'],\n ['herman', 'sourdough', 'starter'],\n ['herman', 'biscuits'],\n ['herman', 'coffee', 'cake'],\n ['favorite', 'banana', 'blueberry', 'quick', 'bread'],\n ['honey', 'bran', 'muffins'],\n ['welsh', 'bread'],\n ['cherry', 'vanilla', 'chip', 'muffins'],\n ['chocolate', 'zucchini', 'muffins'],\n ['buttermilk', 'honey', 'wheat', 'bread'],\n ['herman', 'cinnamon', 'rolls'],\n ['herman', 'dinner', 'rolls'],\n ['orange', 'pull', 'aparts'],\n ['six', 'week', 'bran', 'muffins'],\n ['schlotsky', 'bread'],\n ['navajo', 'fry', 'bread'],\n ['banana', 'chai', 'bread'],\n ['soft', 'moist', 'gooey', 'cinnamon', 'buns'],\n ['bread', 'pudding'],\n ['bread', 'machine', 'bagels'],\n ['beignets'],\n ['sourdough', 'pancakes'],\n ['jelly', 'doughnuts'],\n ['old', 'fashioned', 'sally', 'lunn', 'muffins'],\n ['norwegian', 'flat', 'bread'],\n ['biscuit', 'mixture'],\n ['gluten', 'free', 'white', 'bread', 'bread', 'machines'],\n ['chocolate', 'apple', 'bread'],\n ['coconut', 'muffins'],\n ['zucchini', 'pineapple', 'bread'],\n ['pizza', 'crust', 'bread', 'machine'],\n ['spinach', 'bread'],\n ['jo', 'jo', 'favorite', 'banana', 'muffins'],\n ['real', 'southern', 'cornbread'],\n ['herb', 'biscuits'],\n ['cheese', 'biscuits'],\n ['zucchini', 'bread'],\n ['lefse'],\n ['broccoli', 'four', 'cheese', 'calzones'],\n ['prosciutto', 'filling', 'calzones'],\n ['broccoli', 'pepperoni', 'three', 'cheese', 'calzones'],\n ['banana', 'nut', 'ginger', 'bread'],\n ['lemon', 'poppy', 'seed', 'amish', 'friendship', 'bread'],\n ['yummy', 'peanut', 'butter', 'bread'],\n ['crunchy', 'honey', 'wheat', 'bread'],\n ['paximade'],\n ['southern', 'biscuits', 'mayonnaise'],\n ['cuban', 'water', 'bread'],\n ['granny', 'oatmeal', 'bread'],\n ['kalamata', 'ol', 'garlic', 'bread'],\n ['nana', 'fastnachts'],\n ['broccoli', 'cornbread'],\n ['cheese', 'herb', 'bread'],\n ['deluxe', 'waffles'],\n ['pear', 'bread'],\n ['pumpkin', 'yeast', 'bread'],\n ['sweet', 'corn', 'cake'],\n ['rye', 'starter'],\n ['pepperoni', 'pizza', 'bread'],\n ['wild', 'grape', 'starter'],\n ['muesli', 'applesauce', 'muffins'],\n ['double', 'quick', 'dinner', 'rolls'],\n ['banana', 'chocolate', 'chip', 'muffins'],\n ['pan', 'de', 'muertos', 'mexican', 'bread', 'dead'],\n ['sourdough', 'buckwheat', 'pancakes'],\n ['cracked', 'wheat', 'sourdough', 'bread'],\n ['chocolate', 'chip', 'sourdough', 'muffins'],\n ['skiers', 'french', 'toast'],\n ['delightful', 'apple', 'spice', 'muffins'],\n ['pumpkin', 'chip', 'bread'],\n ['granny', 'corn', 'flour', 'tortillas'],\n ['tangy', 'buttermilk', 'cheese', 'bread'],\n ['corn', 'yeast', 'rolls'],\n ['grandma', 'emma', 'spice', 'loaf'],\n ['portuguese', 'sweet', 'bread'],\n ['challah', 'hurry'],\n ['jam', 'muffins'],\n ['popovers'],\n ['rum', 'raisin', 'bread'],\n ['apple', 'cheddar', 'bread'],\n ['pumpkin', 'pie', 'bread'],\n ['pseudo', 'sourdough', 'bread', 'machine'],\n ['cardamom', 'banana', 'bread'],\n ['jay', 'signature', 'pizza', 'crust'],\n ['southern', 'sweet', 'potato', 'bread', 'pecans'],\n ['aunt', 'bert', 'white', 'cake'],\n ['plain', 'cake'],\n ['peanut', 'butter', 'cake'],\n ['donna', 'pound', 'cake'],\n ['sourdough', 'chocolate', 'cranberry', 'cake'],\n ['chocolate', 'zucchini', 'cake'],\n ['mocha', 'blanca', 'cheesecake'],\n ['carrot', 'cake'],\n ['dirt', 'cake'],\n ['chocolate', 'chip', 'oatmeal', 'cake'],\n ['pol', 'apple', 'cake'],\n ['grandma', 'eggless', 'butterless', 'milkless', 'cake'],\n ['texas', 'sheet', 'cake'],\n ['italian', 'cream', 'cake'],\n ['streusel', 'coffee', 'cake'],\n ['boiled', 'raisin', 'cake'],\n ['waldorf', 'astoria', 'red', 'cake'],\n ['krazy', 'kake'],\n ['cocoa', 'apple', 'cake'],\n ['cheesecake', 'earth'],\n ['grandma', 'snyder', 'oatmeal', 'cake'],\n ['bake', 'cheesecake'],\n ['fabulous', 'fudge', 'chocolate', 'cake'],\n ['pumpkin', 'pie', 'cake'],\n ['awesome', 'carrot', 'cake', 'cream', 'cheese', 'frosting'],\n ['chantilly', 'cake', 'frosting'],\n ['plum', 'bread'],\n ['mom', 'carrot', 'cake'],\n ['lemon', 'cake'],\n ['french', 'buttercream', 'frosting'],\n ['pecan', 'sour', 'cream', 'pound', 'cake'],\n ['brownie', 'torte'],\n ['chocolate', 'cherry', 'cake'],\n ['pecan', 'pound', 'cake'],\n ['streusel', 'coffee', 'cake'],\n ['irish', 'cream', 'chocolate', 'cheesecake'],\n ['microwave', 'cake'],\n ['creme', 'de', 'menthe', 'cake'],\n ['lick', 'lips', 'cake'],\n ['dump', 'cake'],\n ['texas', 'sheet', 'cake'],\n ['miss', 'beth', 'yoghurt', 'cake'],\n ['cherry', 'nut', 'cake'],\n ['quick', 'fudge', 'icing'],\n ['chocolate', 'cherry', 'upside', 'cake'],\n ['chocolate', 'pound', 'cake'],\n ['quick', 'black', 'forest', 'cake'],\n ['carrot', 'cake'],\n ['key', 'lime', 'cake'],\n ['pineapple', 'cake'],\n ['botercake', 'butter', 'cake'],\n ['butter', 'pound', 'cake'],\n ['chocolate', 'cake', 'ever', 'ate'],\n ['eclair', 'cake'],\n ['banana', 'cake'],\n ['surprise', 'banana', 'cake'],\n ['mini', 'cheesecakes'],\n ['apricot', 'sponge', 'cake'],\n ['chocolate', 'cake'],\n ['brown', 'sugar', 'cake'],\n ['favorite', 'chocolate', 'cake'],\n ['orange', 'sponge', 'cake'],\n ['philadelphia', 'red', 'cake'],\n ['great', 'chocolate', 'cake'],\n ['quick', 'sunshine', 'cake'],\n ['double', 'chocolate', 'cake'],\n ['coconut', 'pound', 'cake'],\n ['favorite', 'old', 'fashioned', 'gingerbread'],\n ['pineapple', 'layer', 'cake'],\n ['glorious', 'sponge', 'cake'],\n ['angel', 'food', 'cake'],\n ['cream', 'cheese', 'pound', 'cake'],\n ['sour', 'cream', 'chocolate', 'cake'],\n ['earthquake', 'cake'],\n ['worm', 'cake'],\n ['karen', 'chocolate', 'dump', 'cake'],\n ['maraschino', 'cherry', 'nut', 'cake'],\n ['green', 'cake'],\n ['butter', 'frosting'],\n ['ricotta', 'cheese', 'cake'],\n ['strawberry', 'cake'],\n ['pistachio', 'cake'],\n ['fruit', 'cocktail', 'cake'],\n ['passover', 'brownie', 'cake'],\n ['banana', 'nut', 'coconut', 'cake'],\n ['raisin', 'cake'],\n ['cinnamon', 'teacake'],\n ['cassata', 'alla', 'siciliana', 'sicilian', 'cream', 'tart'],\n ['banana', 'nut', 'frosting'],\n ['coconut', 'cake'],\n ['creamy', 'white', 'layers'],\n ['gingerbread'],\n ['fresh', 'pineapple', 'upside', 'cake'],\n ['devil', 'food', 'cake'],\n ['auntie', 'buttermilk', 'cake'],\n ['chocolate', 'fudge', 'buttercream', 'frosting'],\n ['favorite', 'chocolate', 'cake'],\n ['coffee', 'frosting'],\n ['norwegian', 'hazelnut', 'cake'],\n ['vasilopita'],\n ['melt', 'mouth', 'blueberry', 'cake'],\n ['chocolate', 'mint', 'cheesecake'],\n ['fabulous', 'oatmeal', 'bran', 'cake'],\n ['banana', 'cake'],\n ['cream', 'cheese', 'frosting'],\n ['chocolate', 'spice', 'cake'],\n ['old', 'fashioned', 'spice', 'cake'],\n ['rum', 'cake'],\n ['aunt', 'maria', 'pudding', 'cake'],\n ['barb', 'chocolate', 'cake'],\n ['lemonade', 'cake'],\n ['lemon', 'pound', 'cake'],\n ['rum', 'cake'],\n ['crumb', 'cake'],\n ['lemonade', 'frosting'],\n ['grandma', 'fudge', 'cake'],\n ['black', 'russian', 'cake'],\n ['fudge', 'cake'],\n ['pound', 'cake'],\n ['sunshine', 'cake'],\n ['treasure', 'chest', 'cake'],\n ['applesauce', 'cake'],\n ['maraschino', 'cherry', 'pound', 'cake'],\n ['holly', 'black', 'forest', 'cake'],\n ['chocolate', 'cappuccino', 'cheesecake'],\n ['white', 'chocolate', 'cheesecake', 'white', 'chocolate', 'brandy', 'sauce'],\n ['happy', 'birthday', 'cake'],\n ['egg', 'yolk', 'sponge', 'cake'],\n ['pineapple', 'sponge', 'cake'],\n ['chocolate', 'chip', 'cake'],\n ['christmas', 'fruitcake'],\n ['chocolate', 'glaze'],\n ['hot', 'fudge', 'cake'],\n ['crazy', 'chocolate', 'cake'],\n ['chocolate', 'meringue', 'frosting'],\n ['lemon', 'fluff', 'cake'],\n ['orange', 'delight', 'cake'],\n ['tres', 'leches', 'milk', 'cake'],\n ['lite', 'carrot', 'cake'],\n ['carrot', 'cake'],\n ['rich', 'dark', 'fruitcake'],\n ['pumpkin', 'sheet', 'cake'],\n ['tres', 'leches', 'three', 'milks'],\n ['key', 'lime', 'cake'],\n ['cinnamon', 'coffee', 'cake'],\n ['marble', 'crumb', 'cake'],\n ['strawberry', 'torte'],\n ['wedding', 'cake', 'frosting'],\n ['peach', 'cake'],\n ['pineapple', 'upside', 'cake'],\n ['turtles', 'cake'],\n ['kitty', 'litter', 'cake'],\n ['chocolate', 'cherry', 'cake'],\n ['chocolate', 'mayo', 'cake'],\n ['dump', 'cake'],\n ['turtles', 'cake'],\n ['sugar', 'free', 'cake'],\n ['better', 'sex', 'cake'],\n ['dump', 'cake'],\n ['rhubarb', 'strawberry', 'cake'],\n ['mayonnaise', 'cake'],\n ['lemon', 'poppy', 'seed', 'loaf'],\n ['red', 'velvet', 'cake'],\n ['pina', 'colada', 'cake'],\n ['pina', 'colada', 'cake'],\n ['seven', 'sheet', 'cake'],\n ['caramel', 'pound', 'cake'],\n ['pumpkin', 'roll'],\n ['baumkuchen'],\n ['coconut', 'cake'],\n ['donna', 'famous', 'cheesecake'],\n ['dried', 'cherry', 'cake'],\n ['apple', 'dapple', 'cake'],\n ['chocolate', 'peanut', 'butter', 'wacky', 'cake'],\n ['swiss', 'chocolate', 'cake'],\n ['chocolate', 'torte', 'frosting'],\n ['mayonnaise', 'cake'],\n ['key', 'lime', 'cheesecake'],\n ['rick', 'special', 'buttercream', 'frosting'],\n ['chocolate', 'mayonnaise', 'cake'],\n ['sour', 'cream', 'coffee', 'cake'],\n ['peach', 'upside', 'cake'],\n ['chocolate', 'sauerkraut', 'cake'],\n ['peach', 'upside', 'cake'],\n ['texas', 'tornado', 'cake'],\n ['fluffy', 'creamy', 'frosting'],\n ['caramel', 'nougat', 'cake'],\n ['chocolate', 'caramel', 'nut', 'cake'],\n ['peter', 'cheesecake'],\n ['sour', 'cream', 'chocolate', 'frosting'],\n ['butter', 'cake'],\n ['gooey', 'butter', 'cake'],\n ['mary', 'oppenhiemer', 'butter', 'cake'],\n ['deep', 'chocolate', 'raspberry', 'cake'],\n ['dump', 'cake'],\n ['sponge', 'cake', 'tiramisu'],\n ['rhubarb', 'cake'],\n ['hot', 'milk', 'sponge', 'cake'],\n ['lady', 'baltimore', 'frosting'],\n ['orange', 'chiffon', 'cake'],\n ['lady', 'baltimore', 'cake'],\n ['graham', 'cracker', 'cake'],\n ['carrot', 'cheesecake', 'crumb', 'crust'],\n ['crazy', 'cake'],\n ['grandma', 'chocolate', 'marvel', 'cake'],\n ['party', 'frosting'],\n ['cinnamon', 'swirl', 'bundt', 'coffee', 'cake'],\n ['chocolate', 'rum', 'cake'],\n ['kentucky', 'butter', 'cake'],\n ['miami', 'beach', 'cake'],\n ['rhubarb', 'stir', 'cake'],\n ['el', 'kuchen'],\n ['tunnel', 'fudge', 'cake'],\n ['bee', 'sting', 'cake', 'bienenstich'],\n ['decorator', 'frosting'],\n ['honey', 'cake'],\n ['white', 'cake', 'frosting'],\n ['harvey', 'wallbanger', 'cake'],\n ['eggless', 'milkless', 'butterless', 'cake'],\n ['fabulously', 'sweet', 'pear', 'cake'],\n ['gooey', 'butter', 'cake'],\n ['buttermilk', 'pound', 'cake'],\n ['zucchini', 'cake'],\n ['peanut', 'butter', 'cake'],\n ['peanut', 'butter', 'frosting'],\n ['sachertorte'],\n ['chocolate', 'chip', 'date', 'nut', 'cake'],\n ['zucchini', 'cake'],\n ['spanish', 'bar', 'cake'],\n ['coco', 'cola', 'cake'],\n ['coco', 'cola', 'cake'],\n ['sock', 'cake'],\n ['sock', 'cake'],\n ['caramel', 'frosting'],\n ['sock', 'cake'],\n ['strawberry', 'angels', 'cake'],\n ['jamaica', 'cake'],\n ['fudgey', 'peanut', 'butter', 'chip', 'muffins'],\n ['butter', 'brickle', 'cake'],\n ['pistachio', 'nut', 'cake'],\n ['microwave', 'mississippi', 'mud', 'cake'],\n ['better', 'sex', 'cake'],\n ['chocolate', 'cake'],\n ['daffodil', 'cake'],\n ['carrot', 'walnut', 'cake'],\n ['almond', 'custard', 'filling'],\n ['rum', 'cake'],\n ['easter', 'lamb', 'cake'],\n ['seven', 'cake'],\n ['dump', 'cake'],\n ['blueberry', 'dump', 'cake'],\n ['poppy', 'seed', 'torte', 'orange', 'glaze'],\n ['mississippi', 'mud', 'cake'],\n ['mississippi', 'mud', 'cake'],\n ['new', 'york', 'cheesecake'],\n ['new', 'york', 'cheesecake'],\n ['orange', 'cream', 'cake'],\n ['chocolate', 'chip', 'amaretto', 'pound', 'cake'],\n ['kelly', 'apple', 'cocoa', 'cake'],\n ['mafioso', 'chocolate', 'cake'],\n ['buttery', 'cinnamon', 'cake'],\n ['mini', 'cinnamon', 'cakes'],\n ['heavenly', 'cake'],\n ['special', 'buttercream', 'frosting'],\n ['orange', 'nut', 'raisin', 'cake'],\n ['barbadian', 'plain', 'cake'],\n ['cheesecake', 'supreme'],\n ['honey', 'bun', 'cake'],\n ['dr', 'pepper', 'cake'],\n ['amaretto', 'cheesecake'],\n ['pineapple', 'cake'],\n ['buttery', 'milk', 'syrup'],\n ['paris', 'brest'],\n ['pastry', 'cream'],\n ['banana', 'butter', 'icing'],\n ['lemon', 'cream', 'cheese', 'frosting'],\n ['creamy', 'frosting'],\n ['seven', 'minute', 'frosting'],\n ['marshmallow', 'icing'],\n ['seafoam', 'icing'],\n ['caramel', 'frosting'],\n ['cone', 'cupcakes'],\n ['sour', 'cream', 'mocha', 'cake'],\n ['much', 'chocolate', 'cake'],\n ['orange', 'sunshine', 'cake'],\n ['rainbow', 'cake'],\n ['popcorn', 'cake'],\n ['hummingbird', 'cake'],\n ['battenburg', 'cake'],\n ['bridal', 'shower', 'cake'],\n ['white', 'wedding', 'cake'],\n ['pie', 'cake'],\n ['lemon', 'sponge', 'cake'],\n ['mocha', 'icing'],\n ['ann', 'ersary', 'cake'],\n ['tomato', 'soup', 'cake'],\n ['pistachio', 'cake'],\n ['toffee', 'bar', 'coffee', 'cake'],\n ['amaretto', 'cheesecake'],\n ['spiced', 'banana', 'cake'],\n ['irish', 'cream', 'cheesecake'],\n ['allspice', 'cream', 'cheese', 'frosting'],\n ['genoise'],\n ['aunt', 'johnnie', 'pound', 'cake'],\n ['sour', 'cream', 'coffee', 'cake'],\n ['yellow', 'pound', 'cake'],\n ['white', 'velvet', 'cake'],\n ['whipped', 'cream', 'icing'],\n ['cream', 'cheese', 'pound', 'cake'],\n ['peanut', 'butter', 'chocolate', 'candy', 'cake'],\n ['honey', 'comb', 'coffee', 'cake'],\n ['mint', 'buttercream', 'frosting', 'dark', 'chocolate', 'glaze'],\n ['chocolate', 'mint', 'mayonnaise', 'cake'],\n ['sad', 'cake'],\n ['raspberry', 'strawberry', 'buckle'],\n ['hot', 'fudge', 'pudding', 'cake'],\n ['caramel', 'nougat', 'cake'],\n ['peanut', 'candy', 'bar', 'cake'],\n ['blackberry', 'wine', 'cake'],\n ['banana', 'nut', 'cake'],\n ['honey', 'bun', 'cake'],\n ['chocolate', 'lovers', 'favorite', 'cake'],\n ['lane', 'cake'],\n ['apple', 'cake'],\n ['chocolate', 'chocolate', 'chip', 'dream', 'cake'],\n ['special', 'tomato', 'spice', 'cake'],\n ['spintz', 'cake'],\n ['dutch', 'apple', 'cake'],\n ['apple', 'bundt', 'cake'],\n ['old', 'fashioned', 'pineapple', 'upside', 'cake'],\n ['white', 'mountain', 'cake'],\n ['white', 'mountain', 'frosting'],\n ['whipped', 'cream', 'cake'],\n ['maple', 'walnut', 'frosting'],\n ['almond', 'paste'],\n ['martha', 'washington', 'cake'],\n ['gold', 'cake'],\n ['white', 'cream', 'cake'],\n ['chocolate', 'chip', 'cookie', 'dough', 'cheesecake'],\n ['granny', 'cake'],\n ['banana', 'angel', 'food', 'cake'],\n ['sour', 'cream', 'torte'],\n ['butter', 'cream', 'frosting'],\n ['golden', 'orange', 'frosting'],\n ['philly', 'cheesecake'],\n ['gob', 'cake'],\n ['one', 'two', 'three', 'four', 'cake'],\n ['sauerkraut', 'surprise', 'cake'],\n ['german', 'christmas', 'gingerbread'],\n ['large', 'white', 'birthday', 'cake'],\n ['chocolate', 'buttermilk', 'cake'],\n ['fluffy', 'boiled', 'icing'],\n ['double', 'chocolate', 'cake'],\n ['spice', 'cake'],\n ['chocolate', 'buttercream'],\n ['dobos', 'torte'],\n ['chocaroon', 'cake'],\n ['citrus', 'carrot', 'cake'],\n ['funnel', 'cakes'],\n ['old', 'hermit', 'cake'],\n ['butterfly', 'frosting'],\n ['lord', 'baltimore', 'cake'],\n ['chocolate', 'icebox', 'cake'],\n ['thirty', 'minute', 'cocoa', 'cake', 'quick', 'cocoa', 'frosting'],\n ['lemon', 'pudding', 'cake'],\n ['queen', 'elizabeth', 'cake'],\n ['chocolate', 'mocha', 'cake'],\n ['praline', 'cheesecake'],\n ['funnel', 'cakes'],\n ['apricot', 'nectar', 'cake'],\n ['sourdough', 'chocolate', 'cake'],\n ['crushed', 'pineapple', 'fruitcake'],\n ['coffee', 'icing'],\n ['hummingbird', 'cake'],\n ['royal', 'icing'],\n ['scripture', 'cake'],\n ['nutmeg', 'cake'],\n ['boiled', 'raisin', 'cake'],\n ['midnight', 'moon', 'cake'],\n ['cassata', 'cake'],\n ['whippee', 'ripple', 'strawberry', 'cake'],\n ['wonderful', 'banana', 'cake'],\n ['wacky', 'cake'],\n ['coconut', 'layer', 'cake'],\n ['marshmallow', 'cake'],\n ['angel', 'icing'],\n ['johnny', 'cake'],\n ['maple', 'ginger', 'cake'],\n ['bertha', 'big', 'bourbon', 'bundt', 'cake'],\n ['rose', 'petal', 'pound', 'cake'],\n ['mocha', 'cream'],\n ['autumn', 'cheesecake'],\n ['eggless', 'milkless', 'butterless', 'cake'],\n ['lemon', 'gold', 'cake'],\n ['heavenly', 'white', 'cake'],\n ['fest', 'fruitcake'],\n ['cherry', 'cream', 'cheese', 'cake'],\n ['pinto', 'bean', 'cake'],\n ['mom', 'brazil', 'nut', 'fruitcake'],\n ['black', 'forest', 'dump', 'cake'],\n ['coconut', 'pecan', 'cake'],\n ['orange', 'juice', 'cake'],\n ['carrot', 'cake'],\n ['brownie', 'caramel', 'cheesecake'],\n ['chocolate', 'turtles', 'cheesecake'],\n ['rocky', 'road', 'cheesecake'],\n ['lemon', 'pound', 'cake'],\n ['self', 'filled', 'cupcakes'],\n ['chocolate', 'earthquake', 'cake'],\n ['rum', 'raisin', 'cake'],\n ['katrina', 'banana', 'cake'],\n ['buttermilk', 'pound', 'cake'],\n ['foamy', 'butter', 'sauce'],\n ['chocolate', 'roll'],\n ['fudge', 'sauce'],\n ['hawa', 'cake'],\n ['fresh', 'orange', 'refrigerator', 'cake'],\n ['blizzard', 'cake'],\n ['self', 'filled', 'cupcakes'],\n ['banana', 'cake'],\n ['fluffy', 'banana', 'cake'],\n ['apricot', 'brandy', 'pound', 'cake'],\n ['german', 'chocolate', 'cake'],\n ['dark', 'chocolate', 'cake'],\n ['chocolate', 'cheese', 'frosting'],\n ['almond', 'coconut', 'chocolate', 'cake'],\n ['coconut', 'chocolate', 'cake'],\n ['marzipan'],\n ['banana', 'split', 'cheesecake'],\n ['apple', 'dump', 'cake'],\n ['watergate', 'cake'],\n ['toasted', 'butter', 'pecan', 'cake'],\n ['grandpop', 'special', 'chocolate', 'cake'],\n ['aunt', 'mary', 'vanilla', 'frosting'],\n ['cookies', 'cream', 'cake'],\n ...]"
     },
     "execution_count": 12,
     "metadata": {},
     "output_type": "execute_result"
    }
   ],
   "source": [
    "final_names"
   ]
  },
  {
   "cell_type": "code",
   "execution_count": 13,
   "id": "68f1adba",
   "metadata": {
    "pycharm": {
     "name": "#%%\n"
    }
   },
   "outputs": [
    {
     "ename": "ModuleNotFoundError",
     "evalue": "No module named 'gensim'",
     "output_type": "error",
     "traceback": [
      "\u001B[1;31m---------------------------------------------------------------------------\u001B[0m",
      "\u001B[1;31mModuleNotFoundError\u001B[0m                       Traceback (most recent call last)",
      "Input \u001B[1;32mIn [13]\u001B[0m, in \u001B[0;36m<cell line: 1>\u001B[1;34m()\u001B[0m\n\u001B[1;32m----> 1\u001B[0m \u001B[38;5;28;01mfrom\u001B[39;00m \u001B[38;5;21;01mgensim\u001B[39;00m \u001B[38;5;28;01mimport\u001B[39;00m corpora, models\n\u001B[0;32m      2\u001B[0m dictionary \u001B[38;5;241m=\u001B[39m corpora\u001B[38;5;241m.\u001B[39mDictionary(final_names)\n\u001B[0;32m      3\u001B[0m corpus \u001B[38;5;241m=\u001B[39m [dictionary\u001B[38;5;241m.\u001B[39mdoc2bow(text) \u001B[38;5;28;01mfor\u001B[39;00m text \u001B[38;5;129;01min\u001B[39;00m final_names]\n",
      "\u001B[1;31mModuleNotFoundError\u001B[0m: No module named 'gensim'"
     ]
    }
   ],
   "source": [
    "from gensim import corpora, models\n",
    "dictionary = corpora.Dictionary(final_names)\n",
    "corpus = [dictionary.doc2bow(text) for text in final_names]"
   ]
  },
  {
   "cell_type": "code",
   "execution_count": 8,
   "id": "554bc32e",
   "metadata": {
    "pycharm": {
     "name": "#%%\n"
    }
   },
   "outputs": [
    {
     "name": "stdout",
     "output_type": "stream",
     "text": [
      "50\n"
     ]
    },
    {
     "ename": "KeyboardInterrupt",
     "evalue": "",
     "output_type": "error",
     "traceback": [
      "\u001B[1;31m---------------------------------------------------------------------------\u001B[0m",
      "\u001B[1;31mKeyboardInterrupt\u001B[0m                         Traceback (most recent call last)",
      "Input \u001B[1;32mIn [8]\u001B[0m, in \u001B[0;36m<cell line: 7>\u001B[1;34m()\u001B[0m\n\u001B[0;32m      7\u001B[0m \u001B[38;5;28;01mfor\u001B[39;00m i \u001B[38;5;129;01min\u001B[39;00m num_topics:\n\u001B[0;32m      8\u001B[0m     \u001B[38;5;28mprint\u001B[39m(i)\n\u001B[1;32m----> 9\u001B[0m     LDA_models[i] \u001B[38;5;241m=\u001B[39m \u001B[43mgensim\u001B[49m\u001B[38;5;241;43m.\u001B[39;49m\u001B[43mmodels\u001B[49m\u001B[38;5;241;43m.\u001B[39;49m\u001B[43mldamodel\u001B[49m\u001B[38;5;241;43m.\u001B[39;49m\u001B[43mLdaModel\u001B[49m\u001B[43m(\u001B[49m\u001B[43mcorpus\u001B[49m\u001B[43m,\u001B[49m\u001B[43m \u001B[49m\u001B[43mnum_topics\u001B[49m\u001B[38;5;241;43m=\u001B[39;49m\u001B[43mi\u001B[49m\u001B[43m,\u001B[49m\u001B[43mpasses\u001B[49m\u001B[38;5;241;43m=\u001B[39;49m\u001B[38;5;241;43m1\u001B[39;49m\u001B[43m,\u001B[49m\u001B[43m \u001B[49m\u001B[43mchunksize\u001B[49m\u001B[38;5;241;43m=\u001B[39;49m\u001B[38;5;28;43mlen\u001B[39;49m\u001B[43m(\u001B[49m\u001B[43mcorpus\u001B[49m\u001B[43m)\u001B[49m\u001B[43m,\u001B[49m\u001B[43m \u001B[49m\u001B[43mrandom_state\u001B[49m\u001B[38;5;241;43m=\u001B[39;49m\u001B[38;5;241;43m0\u001B[39;49m\u001B[43m,\u001B[49m\u001B[43m \u001B[49m\u001B[43mid2word\u001B[49m\u001B[38;5;241;43m=\u001B[39;49m\u001B[43mdictionary\u001B[49m\u001B[43m)\u001B[49m\n\u001B[0;32m     10\u001B[0m     \u001B[38;5;28mprint\u001B[39m(\u001B[38;5;241m1\u001B[39m)\n\u001B[0;32m     11\u001B[0m     shown_topics \u001B[38;5;241m=\u001B[39m LDA_models[i]\u001B[38;5;241m.\u001B[39mshow_topics(num_topics\u001B[38;5;241m=\u001B[39mi, \n\u001B[0;32m     12\u001B[0m                                              num_words\u001B[38;5;241m=\u001B[39mnum_keywords,\n\u001B[0;32m     13\u001B[0m                                              formatted\u001B[38;5;241m=\u001B[39m\u001B[38;5;28;01mFalse\u001B[39;00m)\n",
      "File \u001B[1;32m~\\anaconda3\\envs\\cs7643-a4\\lib\\site-packages\\gensim\\models\\ldamodel.py:520\u001B[0m, in \u001B[0;36mLdaModel.__init__\u001B[1;34m(self, corpus, num_topics, id2word, distributed, chunksize, passes, update_every, alpha, eta, decay, offset, eval_every, iterations, gamma_threshold, minimum_probability, random_state, ns_conf, minimum_phi_value, per_word_topics, callbacks, dtype)\u001B[0m\n\u001B[0;32m    518\u001B[0m use_numpy \u001B[38;5;241m=\u001B[39m \u001B[38;5;28mself\u001B[39m\u001B[38;5;241m.\u001B[39mdispatcher \u001B[38;5;129;01mis\u001B[39;00m \u001B[38;5;129;01mnot\u001B[39;00m \u001B[38;5;28;01mNone\u001B[39;00m\n\u001B[0;32m    519\u001B[0m start \u001B[38;5;241m=\u001B[39m time\u001B[38;5;241m.\u001B[39mtime()\n\u001B[1;32m--> 520\u001B[0m \u001B[38;5;28;43mself\u001B[39;49m\u001B[38;5;241;43m.\u001B[39;49m\u001B[43mupdate\u001B[49m\u001B[43m(\u001B[49m\u001B[43mcorpus\u001B[49m\u001B[43m,\u001B[49m\u001B[43m \u001B[49m\u001B[43mchunks_as_numpy\u001B[49m\u001B[38;5;241;43m=\u001B[39;49m\u001B[43muse_numpy\u001B[49m\u001B[43m)\u001B[49m\n\u001B[0;32m    521\u001B[0m \u001B[38;5;28mself\u001B[39m\u001B[38;5;241m.\u001B[39madd_lifecycle_event(\n\u001B[0;32m    522\u001B[0m     \u001B[38;5;124m\"\u001B[39m\u001B[38;5;124mcreated\u001B[39m\u001B[38;5;124m\"\u001B[39m,\n\u001B[0;32m    523\u001B[0m     msg\u001B[38;5;241m=\u001B[39m\u001B[38;5;124mf\u001B[39m\u001B[38;5;124m\"\u001B[39m\u001B[38;5;124mtrained \u001B[39m\u001B[38;5;132;01m{\u001B[39;00m\u001B[38;5;28mself\u001B[39m\u001B[38;5;132;01m}\u001B[39;00m\u001B[38;5;124m in \u001B[39m\u001B[38;5;132;01m{\u001B[39;00mtime\u001B[38;5;241m.\u001B[39mtime() \u001B[38;5;241m-\u001B[39m start\u001B[38;5;132;01m:\u001B[39;00m\u001B[38;5;124m.2f\u001B[39m\u001B[38;5;132;01m}\u001B[39;00m\u001B[38;5;124ms\u001B[39m\u001B[38;5;124m\"\u001B[39m,\n\u001B[0;32m    524\u001B[0m )\n",
      "File \u001B[1;32m~\\anaconda3\\envs\\cs7643-a4\\lib\\site-packages\\gensim\\models\\ldamodel.py:990\u001B[0m, in \u001B[0;36mLdaModel.update\u001B[1;34m(self, corpus, chunksize, decay, offset, passes, update_every, eval_every, iterations, gamma_threshold, chunks_as_numpy)\u001B[0m\n\u001B[0;32m    987\u001B[0m reallen \u001B[38;5;241m+\u001B[39m\u001B[38;5;241m=\u001B[39m \u001B[38;5;28mlen\u001B[39m(chunk)  \u001B[38;5;66;03m# keep track of how many documents we've processed so far\u001B[39;00m\n\u001B[0;32m    989\u001B[0m \u001B[38;5;28;01mif\u001B[39;00m eval_every \u001B[38;5;129;01mand\u001B[39;00m ((reallen \u001B[38;5;241m==\u001B[39m lencorpus) \u001B[38;5;129;01mor\u001B[39;00m ((chunk_no \u001B[38;5;241m+\u001B[39m \u001B[38;5;241m1\u001B[39m) \u001B[38;5;241m%\u001B[39m (eval_every \u001B[38;5;241m*\u001B[39m \u001B[38;5;28mself\u001B[39m\u001B[38;5;241m.\u001B[39mnumworkers) \u001B[38;5;241m==\u001B[39m \u001B[38;5;241m0\u001B[39m)):\n\u001B[1;32m--> 990\u001B[0m     \u001B[38;5;28;43mself\u001B[39;49m\u001B[38;5;241;43m.\u001B[39;49m\u001B[43mlog_perplexity\u001B[49m\u001B[43m(\u001B[49m\u001B[43mchunk\u001B[49m\u001B[43m,\u001B[49m\u001B[43m \u001B[49m\u001B[43mtotal_docs\u001B[49m\u001B[38;5;241;43m=\u001B[39;49m\u001B[43mlencorpus\u001B[49m\u001B[43m)\u001B[49m\n\u001B[0;32m    992\u001B[0m \u001B[38;5;28;01mif\u001B[39;00m \u001B[38;5;28mself\u001B[39m\u001B[38;5;241m.\u001B[39mdispatcher:\n\u001B[0;32m    993\u001B[0m     \u001B[38;5;66;03m# add the chunk to dispatcher's job queue, so workers can munch on it\u001B[39;00m\n\u001B[0;32m    994\u001B[0m     logger\u001B[38;5;241m.\u001B[39minfo(\n\u001B[0;32m    995\u001B[0m         \u001B[38;5;124m\"\u001B[39m\u001B[38;5;124mPROGRESS: pass \u001B[39m\u001B[38;5;132;01m%i\u001B[39;00m\u001B[38;5;124m, dispatching documents up to #\u001B[39m\u001B[38;5;132;01m%i\u001B[39;00m\u001B[38;5;124m/\u001B[39m\u001B[38;5;132;01m%i\u001B[39;00m\u001B[38;5;124m\"\u001B[39m,\n\u001B[0;32m    996\u001B[0m         pass_, chunk_no \u001B[38;5;241m*\u001B[39m chunksize \u001B[38;5;241m+\u001B[39m \u001B[38;5;28mlen\u001B[39m(chunk), lencorpus\n\u001B[0;32m    997\u001B[0m     )\n",
      "File \u001B[1;32m~\\anaconda3\\envs\\cs7643-a4\\lib\\site-packages\\gensim\\models\\ldamodel.py:846\u001B[0m, in \u001B[0;36mLdaModel.log_perplexity\u001B[1;34m(self, chunk, total_docs)\u001B[0m\n\u001B[0;32m    844\u001B[0m corpus_words \u001B[38;5;241m=\u001B[39m \u001B[38;5;28msum\u001B[39m(cnt \u001B[38;5;28;01mfor\u001B[39;00m document \u001B[38;5;129;01min\u001B[39;00m chunk \u001B[38;5;28;01mfor\u001B[39;00m _, cnt \u001B[38;5;129;01min\u001B[39;00m document)\n\u001B[0;32m    845\u001B[0m subsample_ratio \u001B[38;5;241m=\u001B[39m \u001B[38;5;241m1.0\u001B[39m \u001B[38;5;241m*\u001B[39m total_docs \u001B[38;5;241m/\u001B[39m \u001B[38;5;28mlen\u001B[39m(chunk)\n\u001B[1;32m--> 846\u001B[0m perwordbound \u001B[38;5;241m=\u001B[39m \u001B[38;5;28;43mself\u001B[39;49m\u001B[38;5;241;43m.\u001B[39;49m\u001B[43mbound\u001B[49m\u001B[43m(\u001B[49m\u001B[43mchunk\u001B[49m\u001B[43m,\u001B[49m\u001B[43m \u001B[49m\u001B[43msubsample_ratio\u001B[49m\u001B[38;5;241;43m=\u001B[39;49m\u001B[43msubsample_ratio\u001B[49m\u001B[43m)\u001B[49m \u001B[38;5;241m/\u001B[39m (subsample_ratio \u001B[38;5;241m*\u001B[39m corpus_words)\n\u001B[0;32m    847\u001B[0m logger\u001B[38;5;241m.\u001B[39minfo(\n\u001B[0;32m    848\u001B[0m     \u001B[38;5;124m\"\u001B[39m\u001B[38;5;132;01m%.3f\u001B[39;00m\u001B[38;5;124m per-word bound, \u001B[39m\u001B[38;5;132;01m%.1f\u001B[39;00m\u001B[38;5;124m perplexity estimate based on a held-out corpus of \u001B[39m\u001B[38;5;132;01m%i\u001B[39;00m\u001B[38;5;124m documents with \u001B[39m\u001B[38;5;132;01m%i\u001B[39;00m\u001B[38;5;124m words\u001B[39m\u001B[38;5;124m\"\u001B[39m,\n\u001B[0;32m    849\u001B[0m     perwordbound, np\u001B[38;5;241m.\u001B[39mexp2(\u001B[38;5;241m-\u001B[39mperwordbound), \u001B[38;5;28mlen\u001B[39m(chunk), corpus_words\n\u001B[0;32m    850\u001B[0m )\n\u001B[0;32m    851\u001B[0m \u001B[38;5;28;01mreturn\u001B[39;00m perwordbound\n",
      "File \u001B[1;32m~\\anaconda3\\envs\\cs7643-a4\\lib\\site-packages\\gensim\\models\\ldamodel.py:1112\u001B[0m, in \u001B[0;36mLdaModel.bound\u001B[1;34m(self, corpus, gamma, subsample_ratio)\u001B[0m\n\u001B[0;32m   1110\u001B[0m     logger\u001B[38;5;241m.\u001B[39mdebug(\u001B[38;5;124m\"\u001B[39m\u001B[38;5;124mbound: at document #\u001B[39m\u001B[38;5;132;01m%i\u001B[39;00m\u001B[38;5;124m\"\u001B[39m, d)\n\u001B[0;32m   1111\u001B[0m \u001B[38;5;28;01mif\u001B[39;00m gamma \u001B[38;5;129;01mis\u001B[39;00m \u001B[38;5;28;01mNone\u001B[39;00m:\n\u001B[1;32m-> 1112\u001B[0m     gammad, _ \u001B[38;5;241m=\u001B[39m \u001B[38;5;28;43mself\u001B[39;49m\u001B[38;5;241;43m.\u001B[39;49m\u001B[43minference\u001B[49m\u001B[43m(\u001B[49m\u001B[43m[\u001B[49m\u001B[43mdoc\u001B[49m\u001B[43m]\u001B[49m\u001B[43m)\u001B[49m\n\u001B[0;32m   1113\u001B[0m \u001B[38;5;28;01melse\u001B[39;00m:\n\u001B[0;32m   1114\u001B[0m     gammad \u001B[38;5;241m=\u001B[39m gamma[d]\n",
      "File \u001B[1;32m~\\anaconda3\\envs\\cs7643-a4\\lib\\site-packages\\gensim\\models\\ldamodel.py:676\u001B[0m, in \u001B[0;36mLdaModel.inference\u001B[1;34m(self, chunk, collect_sstats)\u001B[0m\n\u001B[0;32m    673\u001B[0m     logger\u001B[38;5;241m.\u001B[39mdebug(\u001B[38;5;124m\"\u001B[39m\u001B[38;5;124mperforming inference on a chunk of \u001B[39m\u001B[38;5;132;01m%i\u001B[39;00m\u001B[38;5;124m documents\u001B[39m\u001B[38;5;124m\"\u001B[39m, \u001B[38;5;28mlen\u001B[39m(chunk))\n\u001B[0;32m    675\u001B[0m \u001B[38;5;66;03m# Initialize the variational distribution q(theta|gamma) for the chunk\u001B[39;00m\n\u001B[1;32m--> 676\u001B[0m gamma \u001B[38;5;241m=\u001B[39m \u001B[38;5;28;43mself\u001B[39;49m\u001B[38;5;241;43m.\u001B[39;49m\u001B[43mrandom_state\u001B[49m\u001B[38;5;241;43m.\u001B[39;49m\u001B[43mgamma\u001B[49m\u001B[43m(\u001B[49m\u001B[38;5;241;43m100.\u001B[39;49m\u001B[43m,\u001B[49m\u001B[43m \u001B[49m\u001B[38;5;241;43m1.\u001B[39;49m\u001B[43m \u001B[49m\u001B[38;5;241;43m/\u001B[39;49m\u001B[43m \u001B[49m\u001B[38;5;241;43m100.\u001B[39;49m\u001B[43m,\u001B[49m\u001B[43m \u001B[49m\u001B[43m(\u001B[49m\u001B[38;5;28;43mlen\u001B[39;49m\u001B[43m(\u001B[49m\u001B[43mchunk\u001B[49m\u001B[43m)\u001B[49m\u001B[43m,\u001B[49m\u001B[43m \u001B[49m\u001B[38;5;28;43mself\u001B[39;49m\u001B[38;5;241;43m.\u001B[39;49m\u001B[43mnum_topics\u001B[49m\u001B[43m)\u001B[49m\u001B[43m)\u001B[49m\u001B[38;5;241m.\u001B[39mastype(\u001B[38;5;28mself\u001B[39m\u001B[38;5;241m.\u001B[39mdtype, copy\u001B[38;5;241m=\u001B[39m\u001B[38;5;28;01mFalse\u001B[39;00m)\n\u001B[0;32m    677\u001B[0m Elogtheta \u001B[38;5;241m=\u001B[39m dirichlet_expectation(gamma)\n\u001B[0;32m    678\u001B[0m expElogtheta \u001B[38;5;241m=\u001B[39m np\u001B[38;5;241m.\u001B[39mexp(Elogtheta)\n",
      "\u001B[1;31mKeyboardInterrupt\u001B[0m: "
     ]
    }
   ],
   "source": [
    "import gensim\n",
    "num_topics = list(range(50,150,10))\n",
    "num_keywords = 15\n",
    "\n",
    "LDA_models = {}\n",
    "LDA_topics = {}\n",
    "for i in num_topics:\n",
    "    print(i)\n",
    "    LDA_models[i] = gensim.models.ldamodel.LdaModel(corpus, num_topics=i,passes=1, chunksize=len(corpus), random_state=0, id2word=dictionary)\n",
    "    print(1)\n",
    "    shown_topics = LDA_models[i].show_topics(num_topics=i, \n",
    "                                             num_words=num_keywords,\n",
    "                                             formatted=False)\n",
    "    print(2)\n",
    "    LDA_topics[i] = [[word[0] for word in topic[1]] for topic in shown_topics]\n",
    "    \n",
    "    print('done')"
   ]
  },
  {
   "cell_type": "code",
   "execution_count": 14,
   "id": "be23b92c",
   "metadata": {
    "pycharm": {
     "name": "#%%\n"
    }
   },
   "outputs": [],
   "source": [
    "def jaccard_similarity(topic_1, topic_2):\n",
    "    \"\"\"\n",
    "    Derives the Jaccard similarity of two topics\n",
    "\n",
    "    Jaccard similarity:\n",
    "    - A statistic used for comparing the similarity and diversity of sample sets\n",
    "    - J(A,B) = (A ∩ B)/(A ∪ B)\n",
    "    - Goal is low Jaccard scores for coverage of the diverse elements\n",
    "    \"\"\"\n",
    "    intersection = set(topic_1).intersection(set(topic_2))\n",
    "    union = set(topic_1).union(set(topic_2))\n",
    "                    \n",
    "    return float(len(intersection))/float(len(union))"
   ]
  },
  {
   "cell_type": "code",
   "execution_count": null,
   "id": "96845ff6",
   "metadata": {
    "pycharm": {
     "name": "#%%\n"
    }
   },
   "outputs": [],
   "source": [
    "import numpy as np\n",
    "LDA_stability = {}\n",
    "for i in range(0, len(num_topics)-1):\n",
    "    jaccard_sims = []\n",
    "    for t1, topic1 in enumerate(LDA_topics[num_topics[i]]): # pylint: disable=unused-variable\n",
    "        sims = []\n",
    "        for t2, topic2 in enumerate(LDA_topics[num_topics[i+1]]): # pylint: disable=unused-variable\n",
    "            sims.append(jaccard_similarity(topic1, topic2))    \n",
    "        \n",
    "        jaccard_sims.append(sims)    \n",
    "    \n",
    "    LDA_stability[num_topics[i]] = jaccard_sims\n",
    "                \n",
    "mean_stabilities = [np.array(LDA_stability[i]).mean() for i in num_topics[:-1]]"
   ]
  },
  {
   "cell_type": "code",
   "execution_count": null,
   "id": "21a207d8",
   "metadata": {
    "pycharm": {
     "name": "#%%\n"
    }
   },
   "outputs": [],
   "source": [
    "from gensim.models import CoherenceModel\n",
    "coherences = [CoherenceModel(model=LDA_models[i], texts=final_names, dictionary=dictionary, coherence='c_v').get_coherence()\\\n",
    "              for i in num_topics[:-1]]"
   ]
  },
  {
   "cell_type": "code",
   "execution_count": null,
   "id": "0d0dfa8b",
   "metadata": {
    "pycharm": {
     "name": "#%%\n"
    }
   },
   "outputs": [],
   "source": [
    "coherences\n",
    "mean_stabilities"
   ]
  },
  {
   "cell_type": "code",
   "execution_count": null,
   "id": "c8357834",
   "metadata": {
    "pycharm": {
     "name": "#%%\n"
    }
   },
   "outputs": [],
   "source": [
    "coh_sta_diffs = [coherences[i] - mean_stabilities[i] for i in range(len(num_topics[:-1]))] # limit topic numbers to the number of keywords\n",
    "coh_sta_max = max(coh_sta_diffs)\n",
    "coh_sta_max_idxs = [i for i, j in enumerate(coh_sta_diffs) if j == coh_sta_max]\n",
    "ideal_topic_num_index = coh_sta_max_idxs[0] # choose less topics in case there's more than one max\n",
    "ideal_topic_num = num_topics[ideal_topic_num_index]"
   ]
  },
  {
   "cell_type": "code",
   "execution_count": null,
   "id": "1c430219",
   "metadata": {
    "pycharm": {
     "name": "#%%\n"
    }
   },
   "outputs": [],
   "source": [
    "import seaborn as sns\n",
    "import matplotlib.pyplot as plt\n",
    "plt.figure(figsize=(20,10))\n",
    "ax = sns.lineplot(x=num_topics[:-1], y=mean_stabilities, label='Average Topic Overlap')\n",
    "ax = sns.lineplot(x=num_topics[:-1], y=coherences, label='Topic Coherence')\n",
    "\n",
    "ax.axvline(x=ideal_topic_num, label='Ideal Number of Topics', color='black')\n",
    "ax.axvspan(xmin=ideal_topic_num - 1, xmax=ideal_topic_num + 1, alpha=0.5, facecolor='grey')\n",
    "\n",
    "y_max = max(max(mean_stabilities), max(coherences)) + (0.10 * max(max(mean_stabilities), max(coherences)))\n",
    "ax.set_ylim([0, y_max])\n",
    "ax.set_xlim([1, num_topics[-1]-1])\n",
    "                \n",
    "ax.axes.set_title('Model Metrics per Number of Topics', fontsize=25)\n",
    "ax.set_ylabel('Metric Level', fontsize=20)\n",
    "ax.set_xlabel('Number of Topics', fontsize=20)\n",
    "plt.legend(fontsize=20)\n",
    "plt.show()   "
   ]
  },
  {
   "cell_type": "code",
   "execution_count": null,
   "id": "90d2a647",
   "metadata": {
    "pycharm": {
     "name": "#%%\n"
    }
   },
   "outputs": [],
   "source": [
    "ldamodel = gensim.models.ldamodel.LdaModel(corpus, num_topics=100, passes=1, chunksize=len(corpus), random_state=0, id2word=dictionary)\n",
    "ldamodel.print_topics(num_topics=100,num_words = 15)"
   ]
  },
  {
   "cell_type": "code",
   "execution_count": 15,
   "id": "a1c6f191",
   "metadata": {
    "pycharm": {
     "name": "#%%\n"
    }
   },
   "outputs": [
    {
     "data": {
      "text/plain": "[['basil', 'roasted', 'peppers', 'monterey', 'jack', 'cornbread'],\n ['crispy', 'cheese', 'twists'],\n ['mom', 'yeast', 'rolls'],\n ['sweet', 'potato', 'bread'],\n ['orange', 'buns'],\n ['cornish', 'splits'],\n ['jalapeno', 'cheese', 'bread'],\n ['dee', 'health', 'bread'],\n ['oatmeal', 'bread'],\n ['strawberry', 'bread'],\n ['sun', 'dried', 'tomato', 'asiago', 'cheese', 'bread'],\n ['hawa', 'sweet', 'bread'],\n ['corn', 'bread', 'ever', 'eat'],\n ['knead', 'refrigerator', 'rolls'],\n ['sourdough', 'starter'],\n ['sourdough', 'bread'],\n ['dilly', 'bread'],\n ['pumpkin', 'bread'],\n ['sy', 'challah'],\n ['onion', 'bread']]"
     },
     "execution_count": 15,
     "metadata": {},
     "output_type": "execute_result"
    }
   ],
   "source": [
    "final_names[:20]"
   ]
  },
  {
   "cell_type": "code",
   "execution_count": 16,
   "id": "fc5106ff",
   "metadata": {
    "pycharm": {
     "name": "#%%\n"
    }
   },
   "outputs": [
    {
     "name": "stdout",
     "output_type": "stream",
     "text": [
      "85986\n"
     ]
    }
   ],
   "source": [
    "data_samples = [' '.join(ti) for ti in final_names]\n",
    "print(len(data_samples))"
   ]
  },
  {
   "cell_type": "code",
   "execution_count": 17,
   "id": "680772dd",
   "metadata": {
    "pycharm": {
     "name": "#%%\n"
    }
   },
   "outputs": [
    {
     "name": "stderr",
     "output_type": "stream",
     "text": [
      "E:\\anaconda\\envs\\food\\lib\\site-packages\\sklearn\\utils\\deprecation.py:87: FutureWarning: Function get_feature_names is deprecated; get_feature_names is deprecated in 1.0 and will be removed in 1.2. Please use get_feature_names_out instead.\n",
      "  warnings.warn(msg, category=FutureWarning)\n"
     ]
    }
   ],
   "source": [
    "from sklearn.feature_extraction.text import TfidfVectorizer\n",
    "tfidf_vectorizer = TfidfVectorizer(max_df=0.99, max_features=None)\n",
    "tfidf = tfidf_vectorizer.fit_transform(data_samples)\n",
    "tfidf_feature_names = tfidf_vectorizer.get_feature_names()"
   ]
  },
  {
   "cell_type": "code",
   "execution_count": 18,
   "id": "7b255598",
   "metadata": {
    "pycharm": {
     "name": "#%%\n"
    }
   },
   "outputs": [],
   "source": [
    "import operator\n",
    "def rank_terms(A, terms):\n",
    "    sums = A.sum(axis=0)\n",
    "    weights = {}\n",
    "    for col, term in enumerate(terms):\n",
    "        weights[term] = sums[0,col]\n",
    "    return sorted(weights.items(), key=operator.itemgetter(1), reverse=True)"
   ]
  },
  {
   "cell_type": "code",
   "execution_count": 19,
   "id": "80e4e42f",
   "metadata": {
    "pycharm": {
     "name": "#%%\n"
    }
   },
   "outputs": [
    {
     "name": "stdout",
     "output_type": "stream",
     "text": [
      "01. chicken (2272.10)\n",
      "02. salad (1798.09)\n",
      "03. chocolate (1270.53)\n",
      "04. cake (1231.05)\n",
      "05. pie (1133.84)\n",
      "06. soup (1127.89)\n",
      "07. cheese (1058.56)\n",
      "08. sauce (1028.70)\n",
      "09. cookies (1024.20)\n",
      "10. bread (901.91)\n",
      "11. cream (845.05)\n",
      "12. potato (799.06)\n",
      "13. rice (780.32)\n",
      "14. apple (779.09)\n",
      "15. pork (763.69)\n",
      "16. butter (727.13)\n",
      "17. grilled (715.79)\n",
      "18. casserole (710.80)\n",
      "19. sweet (710.15)\n",
      "20. beef (676.21)\n",
      "21. lemon (671.09)\n",
      "22. pasta (653.07)\n",
      "23. baked (617.94)\n",
      "24. roasted (606.30)\n",
      "25. pumpkin (596.65)\n",
      "26. tomato (587.82)\n",
      "27. sausage (584.39)\n",
      "28. turkey (570.96)\n",
      "29. dip (542.90)\n",
      "30. shrimp (541.06)\n",
      "31. bean (536.18)\n",
      "32. orange (532.04)\n",
      "33. creamy (529.37)\n",
      "34. corn (527.61)\n",
      "35. potatoes (520.92)\n",
      "36. peanut (518.40)\n",
      "37. garlic (517.41)\n",
      "38. spicy (511.37)\n",
      "39. pizza (510.44)\n",
      "40. green (499.18)\n",
      "41. spinach (493.83)\n",
      "42. banana (492.77)\n",
      "43. bacon (479.35)\n",
      "44. muffins (468.81)\n",
      "45. stuffed (467.14)\n",
      "46. cranberry (465.23)\n",
      "47. chili (454.18)\n",
      "48. style (446.85)\n",
      "49. coconut (446.55)\n",
      "50. bars (444.66)\n"
     ]
    }
   ],
   "source": [
    "ranking = rank_terms(tfidf, tfidf_feature_names)\n",
    "topic_n = []\n",
    "for i, pair in enumerate(ranking[0:50]):\n",
    "    topic_n.append(pair[0])\n",
    "    print( \"%02d. %s (%.2f)\" % (i+1, pair[0], pair[1]))"
   ]
  },
  {
   "cell_type": "code",
   "execution_count": 20,
   "id": "ee143bf9",
   "metadata": {
    "pycharm": {
     "name": "#%%\n"
    }
   },
   "outputs": [
    {
     "data": {
      "text/plain": "['chicken',\n 'salad',\n 'chocolate',\n 'cake',\n 'pie',\n 'soup',\n 'cheese',\n 'sauce',\n 'cookies',\n 'bread',\n 'cream',\n 'potato',\n 'rice',\n 'apple',\n 'pork',\n 'butter',\n 'grilled',\n 'casserole',\n 'sweet',\n 'beef',\n 'lemon',\n 'pasta',\n 'baked',\n 'roasted',\n 'pumpkin',\n 'tomato',\n 'sausage',\n 'turkey',\n 'dip',\n 'shrimp',\n 'bean',\n 'orange',\n 'creamy',\n 'corn',\n 'potatoes',\n 'peanut',\n 'garlic',\n 'spicy',\n 'pizza',\n 'green',\n 'spinach',\n 'banana',\n 'bacon',\n 'muffins',\n 'stuffed',\n 'cranberry',\n 'chili',\n 'style',\n 'coconut',\n 'bars']"
     },
     "execution_count": 20,
     "metadata": {},
     "output_type": "execute_result"
    }
   ],
   "source": [
    "topic_n"
   ]
  },
  {
   "cell_type": "code",
   "execution_count": 21,
   "id": "a29da10e",
   "metadata": {
    "pycharm": {
     "name": "#%%\n"
    }
   },
   "outputs": [
    {
     "name": "stdout",
     "output_type": "stream",
     "text": [
      "violation: 1.0\n",
      "violation: 0.11099732970331805\n",
      "violation: 0.05595542055066475\n",
      "violation: 0.0355705695241528\n",
      "violation: 0.022945471073076693\n",
      "violation: 0.015053902664748537\n",
      "violation: 0.01163774305678636\n",
      "violation: 0.009612456198057048\n",
      "violation: 0.008452688148608925\n",
      "violation: 0.007180291838409381\n",
      "violation: 0.005919549391438651\n",
      "violation: 0.004900487423630297\n",
      "violation: 0.004267508615329606\n",
      "violation: 0.0038556482745213156\n",
      "violation: 0.0035869210858495803\n",
      "violation: 0.003204579483621154\n",
      "violation: 0.00286425929571001\n",
      "violation: 0.0025940182689862404\n",
      "violation: 0.0023235600384952097\n",
      "violation: 0.002084718846293242\n",
      "violation: 0.0018600452335316524\n",
      "violation: 0.0016397689857462685\n",
      "violation: 0.0014599776877100453\n",
      "violation: 0.0013492843821751544\n",
      "violation: 0.0012565929719956606\n",
      "violation: 0.0011860417425071659\n",
      "violation: 0.0011395261653262675\n",
      "violation: 0.0011071981830108257\n",
      "violation: 0.0010706332016502957\n",
      "violation: 0.0010406469565337178\n",
      "violation: 0.001018003651493153\n",
      "violation: 0.001004458431868542\n",
      "violation: 0.0009931690905480369\n",
      "violation: 0.0009833179146405398\n",
      "violation: 0.0009718698821124222\n",
      "violation: 0.0009499923671070504\n",
      "violation: 0.0009189977758863901\n",
      "violation: 0.0008806836526590052\n",
      "violation: 0.0008324368412355215\n",
      "violation: 0.0007833451148826966\n",
      "violation: 0.0007375026896733965\n",
      "violation: 0.0006970373482778028\n",
      "violation: 0.0006613599652092064\n",
      "violation: 0.0006270412134911812\n",
      "violation: 0.0005973327160296632\n",
      "violation: 0.0005721363376562473\n",
      "violation: 0.0005498609710351325\n",
      "violation: 0.0005308308465937123\n",
      "violation: 0.0005152663267535922\n",
      "violation: 0.0005122109534493807\n",
      "violation: 0.000514287848593478\n",
      "violation: 0.0005194582935829105\n",
      "violation: 0.0005293965158678637\n",
      "violation: 0.0005421905402733587\n",
      "violation: 0.0005565724343161074\n",
      "violation: 0.0005714891934112886\n",
      "violation: 0.000584241940093855\n",
      "violation: 0.0005936001768880891\n",
      "violation: 0.0005999679264910215\n",
      "violation: 0.0006021741845756401\n",
      "violation: 0.0006010349946389757\n",
      "violation: 0.000594269736379766\n",
      "violation: 0.0005917859436058905\n",
      "violation: 0.000585967138538739\n",
      "violation: 0.0005735349867640474\n",
      "violation: 0.0005575051336071245\n",
      "violation: 0.0005413150417026333\n",
      "violation: 0.0005243061659092437\n",
      "violation: 0.0005053998484090372\n",
      "violation: 0.0004839499169151728\n",
      "violation: 0.00046367131506071837\n",
      "violation: 0.00044293311083047876\n",
      "violation: 0.000422983040796761\n",
      "violation: 0.00040510242488581003\n",
      "violation: 0.00038800052850468706\n",
      "violation: 0.00037123974788941933\n",
      "violation: 0.00035499843879093586\n",
      "violation: 0.00034022137510487623\n",
      "violation: 0.00032676310216368207\n",
      "violation: 0.0003134344298231771\n",
      "violation: 0.0003003708740021847\n",
      "violation: 0.00028776620708650523\n",
      "violation: 0.000275784067290259\n",
      "violation: 0.00026549539134362166\n",
      "violation: 0.000256320910814047\n",
      "violation: 0.0002473839600022648\n",
      "violation: 0.00023867660634707647\n",
      "violation: 0.00023014685772478703\n",
      "violation: 0.00022180800217583348\n",
      "violation: 0.0002137026474188603\n",
      "violation: 0.00020566407460150964\n",
      "violation: 0.0001979668097522024\n",
      "violation: 0.0001905944506081442\n",
      "violation: 0.00018349820235550487\n",
      "violation: 0.00017671895452665447\n",
      "violation: 0.00017017246551210774\n",
      "violation: 0.0001639386610736265\n",
      "violation: 0.00015786430338320784\n",
      "violation: 0.00015195081919999374\n",
      "violation: 0.00014620760945398362\n",
      "violation: 0.00014060452778041538\n",
      "violation: 0.0001350936306410061\n",
      "violation: 0.00012967885021875365\n",
      "violation: 0.0001243455173187451\n",
      "violation: 0.00011887986730960932\n",
      "violation: 0.00011375062063188539\n",
      "violation: 0.00010894132249101402\n",
      "violation: 0.0001043442547402492\n",
      "violation: 9.997044903178806e-05\n",
      "Converged at iteration 110\n"
     ]
    }
   ],
   "source": [
    "from sklearn.decomposition import NMF\n",
    "nmf = NMF(n_components=50, random_state=1, verbose=1, max_iter=200).fit(tfidf)"
   ]
  },
  {
   "cell_type": "code",
   "execution_count": 22,
   "id": "240c765f",
   "metadata": {
    "pycharm": {
     "name": "#%%\n"
    }
   },
   "outputs": [],
   "source": [
    "def print_top_words(model, feature_names, n_top_words):\n",
    "    manual_topic_cat = []\n",
    "    for topic_idx, topic in enumerate(model.components_[:50]): # just show first 10 topics\n",
    "        print(\"Topic #%d:\" % topic_idx)\n",
    "        for i in topic.argsort()[:-n_top_words - 1:-1]:\n",
    "            manual_topic_cat.append(feature_names[i])\n",
    "        print(\" \".join([feature_names[i] for i in topic.argsort()[:-n_top_words - 1:-1]]))\n",
    "    return manual_topic_cat"
   ]
  },
  {
   "cell_type": "code",
   "execution_count": 23,
   "id": "097e373d",
   "metadata": {
    "pycharm": {
     "name": "#%%\n"
    }
   },
   "outputs": [
    {
     "name": "stdout",
     "output_type": "stream",
     "text": [
      "Topic #0:\n",
      "chicken fried curry wings buffalo parmesan breasts enchiladas thai skillet pot spicy style honey bbq\n",
      "Topic #1:\n",
      "chocolate cookies chip oatmeal sugar white double mousse almond cookie mint dark hot pudding chewy\n",
      "Topic #2:\n",
      "salad dressing cucumber fruit avocado tuna summer vinaigrette caesar pea greek carrot egg macaroni quinoa\n",
      "Topic #3:\n",
      "soup vegetable lentil noodle tortilla squash carrot onion butternut bean barley mushroom hearty french leek\n",
      "Topic #4:\n",
      "pie pecan pot crust shepherd cherry peach custard rhubarb blueberry chocolate meringue lime berry key\n",
      "Topic #5:\n",
      "cake coffee pound chocolate carrot upside bundt layer spice cherry food pineapple pudding angel sheet\n",
      "Topic #6:\n",
      "cheese blue mac macaroni goat three ball spread johnsonville frosting cottage feta skillet beer cream\n",
      "Topic #7:\n",
      "ham pineapple honey glazed mustard salsa sandwiches glaze sugar mango swiss brown upside carrots egg\n",
      "Topic #8:\n",
      "bread pudding wheat nut raisin quick whole monkey machine herb cinnamon soda french irish onion\n",
      "Topic #9:\n",
      "sweet sour spicy meatballs tangy hot savory onion fries mix cinnamon slaw tea bbq glazed\n",
      "Topic #10:\n",
      "butter peanut cookies fudge balls brownies brown jelly honey cup sandwich frosting tarts cups jif\n",
      "Topic #11:\n",
      "pork chops tenderloin roast loin pulled glazed chop mustard bbq marinated rosemary fried stir lamb\n",
      "Topic #12:\n",
      "casserole tuna cheesy squash breakfast noodle egg spaghetti asparagus enchilada french mexican chop toast taco\n",
      "Topic #13:\n",
      "cream ice sour frosting vanilla whipped coffee sandwiches dessert peaches irish puffs asparagus strawberries cupcakes\n",
      "Topic #14:\n",
      "sauce spaghetti dipping bbq mushroom mustard hot salmon cranberry caramel white meatballs raspberry wine barbeque\n",
      "Topic #15:\n",
      "rice fried wild pudding brown krispies kellogg pilaf spanish beans mexican vegetable treats yellow bowl\n",
      "Topic #16:\n",
      "apple crisp caramel cinnamon cider cranberry walnut cobbler oatmeal tart raisin stuffing squash crumble slaw\n",
      "Topic #17:\n",
      "sausage italian style skillet johnsonville three stuffing smoked breakfast lasagna balls peppers egg cornbread gravy\n",
      "Topic #18:\n",
      "slow cooker cooked roast stew pressure beans pulled pot ribs spaghetti lasagna venison bbq chowder\n",
      "Topic #19:\n",
      "potatoes mashed cheesy scalloped fried twice gratin smashed rosemary au new oven onions ch parsley\n",
      "Topic #20:\n",
      "bean green black beans white salsa bush chile stew burgers spicy three tomatoes tea eyed\n",
      "Topic #21:\n",
      "zucchini parmesan bake lasagna fried carrot cheesy fritters pancakes mom boats saute quiche chips noodles\n",
      "Topic #22:\n",
      "lemon blueberry salmon herb squares cupcakes dressing poppy raspberry seed meringue tart asparagus pepper meyer\n",
      "Topic #23:\n",
      "pumpkin cheesecake spice spiced seeds cupcakes roll pancakes rolls cookies seed scones free smoothie mousse\n",
      "Topic #24:\n",
      "pasta pesto primavera bake penne angel peas salmon hair fagioli asparagus toss cheesy tomatoes quick\n",
      "Topic #25:\n",
      "baked beans oatmeal spaghetti twice french salmon ziti oven apples toast fish fries eggs crispy\n",
      "Topic #26:\n",
      "beef stew vegetable roast corned stroganoff stir fry ground tenderloin spicy sandwiches cabbage brisket barley\n",
      "Topic #27:\n",
      "dip hot fruit artichoke crab mexican onion cheesy taco layer layered ranch avocado yogurt dill\n",
      "Topic #28:\n",
      "muffins blueberry bran oatmeal carrot chip streusel wheat mini peach oat breakfast cheddar whole free\n",
      "Topic #29:\n",
      "turkey burgers gravy roast stuffing meatballs pot meatloaf breast smoked sandwiches spicy wraps herb tetrazzini\n",
      "Topic #30:\n",
      "corn chowder salsa pudding cob fresh caramel mexican fritters relish creamed crab black avocado summer\n",
      "Topic #31:\n",
      "tomato basil fresh salsa dried sun cherry cucumber pesto spicy eggplant feta mozzarella bruschetta avocado\n",
      "Topic #32:\n",
      "orange cranberry glazed ginger relish mandarin almond glaze spiced walnut smoothie punch vinaigrette scones chutney\n",
      "Topic #33:\n",
      "potato bake pancakes mashed german sweet leek gratin latkes wedges chowder hash loaded chips chip\n",
      "Topic #34:\n",
      "grilled salmon steak sandwich salsa steaks lime marinated sandwiches lamb asparagus tuna onions vegetables flank\n",
      "Topic #35:\n",
      "creamy dressing mushroom fruit spread pudding frosting dill pesto avocado penne polenta enchiladas coleslaw dessert\n",
      "Topic #36:\n",
      "shrimp spicy scampi stir fry fried thai linguine cocktail grits avocado creole curry cajun gumbo\n",
      "Topic #37:\n",
      "bars cheesecake caramel pecan raspberry almond cherry cookie granola nut chocolate bake toffee oat oatmeal\n",
      "Topic #38:\n",
      "spinach mushroom lasagna artichoke quiche bake creamed feta pesto frittata ricotta warm cheesy tortellini manicotti\n",
      "Topic #39:\n",
      "roasted squash vegetables cauliflower asparagus oven butternut vegetable herb carrots tomatoes honey rosemary pan balsamic\n",
      "Topic #40:\n",
      "stuffed peppers mushrooms squash shells french toast tomatoes crab breasts butternut acorn cherry eggplant bell\n",
      "Topic #41:\n",
      "garlic herb parmesan rosemary honey lime spaghetti ginger basil biscuits spread dressing oil roast green\n",
      "Topic #42:\n",
      "chili white quick vegetarian texas lime dogs cheesy mac chipotle spicy style hearty veggie cincinnati\n",
      "Topic #43:\n",
      "strawberry smoothie rhubarb shortcake fresh cheesecake salsa lemonade jam dessert yogurt mango cobbler peach daiquiri\n",
      "Topic #44:\n",
      "pizza three johnsonville skillet crust style fruit mexican dough white pepperoni pesto breakfast veggie burgers\n",
      "Topic #45:\n",
      "broccoli bake stir fry cheddar cheesy rabe cauliflower quiche alfredo slaw parmesan sesame cornbread fettuccine\n",
      "Topic #46:\n",
      "bacon wrapped egg cheddar eggs fried mushroom asparagus breakfast ranch burgers onion deviled brussels avocado\n",
      "Topic #47:\n",
      "coconut curry almond lime milk macaroons thai smoothie mango balls toasted pineapple ginger free custard\n",
      "Topic #48:\n",
      "red pepper steak onion cabbage wine velvet white bell beans hot curry snapper peppers blue\n",
      "Topic #49:\n",
      "banana smoothie pudding nut pancakes split oatmeal berry toast breakfast mango french walnut shake caramel\n"
     ]
    }
   ],
   "source": [
    "topic_cat = print_top_words(nmf, tfidf_feature_names, 15)"
   ]
  },
  {
   "cell_type": "code",
   "execution_count": 24,
   "id": "acc3add4",
   "metadata": {
    "pycharm": {
     "name": "#%%\n"
    }
   },
   "outputs": [
    {
     "name": "stdout",
     "output_type": "stream",
     "text": [
      "violation: 1.0\n",
      "violation: 0.05430765463829178\n",
      "violation: 0.0007224933158808536\n",
      "violation: 1.1778235521608968e-05\n",
      "Converged at iteration 5\n"
     ]
    }
   ],
   "source": [
    "import numpy as np\n",
    "nmf_emb = nmf.transform(tfidf)\n",
    "top_idx = np.argsort(nmf_emb,axis=0)[-1:]\n",
    "show_ten = 301\n",
    "count_idxs = 0\n",
    "final_topics = []\n",
    "for idxs in top_idx.T:\n",
    "    if count_idxs == show_ten: break\n",
    "    for idx in idxs:\n",
    "        final_topics.append(final_names[idx])\n",
    "    count_idxs += 1"
   ]
  },
  {
   "cell_type": "code",
   "execution_count": 25,
   "id": "e7003467",
   "metadata": {
    "pycharm": {
     "name": "#%%\n"
    }
   },
   "outputs": [
    {
     "data": {
      "text/plain": "[['chicken'],\n ['chocolate', 'chocolate', 'chip', 'cookies'],\n ['salad'],\n ['chicken', 'soup'],\n ['pie', 'strawberry', 'pie'],\n ['cake'],\n ['cheese', 'baked', 'macaroni', 'cheese'],\n ['ham', 'pineapple'],\n ['bread'],\n ['sweet', 'spicy', 'sweet', 'potatoes'],\n ['peanut', 'butter'],\n ['pork', 'chops'],\n ['casserole'],\n ['sweet', 'cream', 'ice', 'cream'],\n ['ham', 'sauce', 'mustard', 'sauce'],\n ['rice'],\n ['apple', 'salad'],\n ['italian', 'style', 'sausage'],\n ['slow', 'cooker', 'chicken'],\n ['potatoes'],\n ['green', 'bean', 'salad'],\n ['zucchini', 'salad'],\n ['lemon', 'lemon', 'loaf'],\n ['pumpkin', 'cake'],\n ['chicken', 'pasta'],\n ['baked', 'chicken'],\n ['beef', 'stew'],\n ['dip'],\n ['muffins'],\n ['turkey'],\n ['corn', 'salad'],\n ['tomato', 'chicken'],\n ['cranberry', 'orange', 'cookies'],\n ['sweet', 'potato', 'potato', 'salad'],\n ['grilled', 'chicken'],\n ['creamy', 'chicken'],\n ['chicken', 'shrimp'],\n ['bars'],\n ['spinach', 'salad'],\n ['roasted', 'chicken'],\n ['stuffed', 'chicken'],\n ['garlic', 'steak', 'garlic'],\n ['chili'],\n ['strawberry', 'chicken'],\n ['pizza', 'chicken'],\n ['broccoli', 'bake'],\n ['bacon'],\n ['coconut', 'chicken'],\n ['red', 'pepper', 'chicken'],\n ['banana', 'banana', 'bread']]"
     },
     "execution_count": 25,
     "metadata": {},
     "output_type": "execute_result"
    }
   ],
   "source": [
    "final_topics"
   ]
  },
  {
   "cell_type": "code",
   "execution_count": 26,
   "id": "ff1e952c",
   "metadata": {
    "pycharm": {
     "name": "#%%\n"
    }
   },
   "outputs": [],
   "source": [
    "def get_top_recipes_for_category(recipes_all_list, w_vector, recipe_index, top):\n",
    "    top_indic = np.argsort(w_vector[:,recipe_index])[::-1] # umdrehen\n",
    "    top_result = [] # return result as list\n",
    "    for rec_index in top_indic[0:top]:\n",
    "        top_result.append(recipes_all_list[rec_index])\n",
    "    return top_result"
   ]
  },
  {
   "cell_type": "code",
   "execution_count": 27,
   "id": "df30e45d",
   "metadata": {
    "pycharm": {
     "name": "#%%\n"
    }
   },
   "outputs": [
    {
     "data": {
      "text/plain": "['chocolate chocolate chip cookies  i',\n 'chocolate chocolate chip cookies i',\n 'chocolate chocolate chip cookies  ',\n 'chocolate cookies',\n '  chocolate cookies',\n 'very chocolate cookies',\n 'chocolate cookies',\n 'chocolate chip cookies',\n 'the   chocolate chip cookies',\n 'chocolate chip cookies']"
     },
     "execution_count": 27,
     "metadata": {},
     "output_type": "execute_result"
    }
   ],
   "source": [
    "recipes_for_category = get_top_recipes_for_category(recipe_name, nmf_emb, 1, 10)\n",
    "recipes_for_category"
   ]
  },
  {
   "cell_type": "code",
   "execution_count": 28,
   "id": "ac00486a",
   "metadata": {
    "pycharm": {
     "name": "#%%\n"
    }
   },
   "outputs": [],
   "source": [
    "def get_top_cat_for_recipe(recipes_all_list, w_vector):\n",
    "    final_recipes_cat_name = []\n",
    "    recipe_cat_link = []\n",
    "    for r in range(len(recipes_all_list)):\n",
    "        one_hot_matrix = w_vector[r,:]\n",
    "        all_zeros = not one_hot_matrix.any() # no fitting category\n",
    "        if all_zeros: \n",
    "            recipe_cat_link.append(-1) # no fitting category\n",
    "        else:\n",
    "            top_indic = np.argsort(one_hot_matrix)[::-1][0] # 1. umdrehen 2. return erste\n",
    "            recipe_cat_link.append(top_indic)\n",
    "    for num in recipe_cat_link:\n",
    "        if num == -1: \n",
    "            final_recipes_cat_name.append('no_cat')\n",
    "        else: \n",
    "            final_recipes_cat_name.append(final_topics[num])\n",
    "    return final_recipes_cat_name"
   ]
  },
  {
   "cell_type": "code",
   "execution_count": 29,
   "id": "dfb778d5",
   "metadata": {
    "pycharm": {
     "name": "#%%\n"
    }
   },
   "outputs": [],
   "source": [
    "categories_for_recipes = get_top_cat_for_recipe(recipe_name, nmf_emb)"
   ]
  },
  {
   "cell_type": "code",
   "execution_count": 30,
   "id": "b6657d35",
   "metadata": {
    "pycharm": {
     "name": "#%%\n"
    }
   },
   "outputs": [
    {
     "name": "stdout",
     "output_type": "stream",
     "text": [
      "Für 0 Rezepte wurde keine Kategorie festgestellt\n"
     ]
    }
   ],
   "source": [
    "count_no_cat = 0\n",
    "for recipe_s in categories_for_recipes:\n",
    "    if recipe_s == 'no_cat': count_no_cat+=1\n",
    "print('Für {} Rezepte wurde keine Kategorie festgestellt'.format(count_no_cat))"
   ]
  },
  {
   "cell_type": "code",
   "execution_count": 31,
   "id": "ad3bd59d",
   "metadata": {
    "pycharm": {
     "name": "#%%\n"
    }
   },
   "outputs": [
    {
     "data": {
      "text/plain": "[['roasted', 'chicken'],\n ['cheese', 'baked', 'macaroni', 'cheese'],\n ['bread'],\n ['bread'],\n ['cranberry', 'orange', 'cookies'],\n ['banana', 'banana', 'bread'],\n ['bread'],\n ['bread'],\n ['bread'],\n ['bread'],\n ['bread'],\n ['bread'],\n ['bread'],\n ['stuffed', 'chicken'],\n ['bread'],\n ['bread'],\n ['bread'],\n ['bread'],\n ['bread'],\n ['bread'],\n ['bread'],\n ['bread'],\n ['pumpkin', 'cake'],\n ['bread'],\n ['banana', 'banana', 'bread'],\n ['bread'],\n ['bread'],\n ['banana', 'banana', 'bread'],\n ['bread'],\n ['bread'],\n ['tomato', 'chicken'],\n ['bread'],\n ['bread'],\n ['bread'],\n ['bread'],\n ['bread'],\n ['bread'],\n ['bread'],\n ['bread'],\n ['bread'],\n ['bread'],\n ['muffins'],\n ['bread'],\n ['bread'],\n ['bread'],\n ['muffins'],\n ['bread'],\n ['bread'],\n ['chocolate', 'chocolate', 'chip', 'cookies'],\n ['banana', 'banana', 'bread'],\n ['banana', 'banana', 'bread'],\n ['banana', 'banana', 'bread'],\n ['bacon'],\n ['bread'],\n ['garlic', 'steak', 'garlic'],\n ['bread'],\n ['bread'],\n ['bread'],\n ['bread'],\n ['strawberry', 'chicken'],\n ['bread'],\n ['bread'],\n ['bread'],\n ['bread'],\n ['bread'],\n ['bread'],\n ['bread'],\n ['bread'],\n ['red', 'pepper', 'chicken'],\n ['bread'],\n ['bread'],\n ['bread'],\n ['bread'],\n ['bacon'],\n ['chocolate', 'chocolate', 'chip', 'cookies'],\n ['sweet', 'spicy', 'sweet', 'potatoes'],\n ['garlic', 'steak', 'garlic'],\n ['bacon'],\n ['bread'],\n ['muffins'],\n ['bread'],\n ['bread'],\n ['bread'],\n ['coconut', 'chicken'],\n ['bread'],\n ['bread'],\n ['banana', 'banana', 'bread'],\n ['bread'],\n ['bread'],\n ['muffins'],\n ['banana', 'banana', 'bread'],\n ['bread'],\n ['bread'],\n ['banana', 'banana', 'bread'],\n ['stuffed', 'chicken'],\n ['pie', 'strawberry', 'pie'],\n ['bread'],\n ['turkey'],\n ['muffins'],\n ['bread'],\n ['bread'],\n ['banana', 'banana', 'bread'],\n ['muffins'],\n ['stuffed', 'chicken'],\n ['sweet', 'spicy', 'sweet', 'potatoes'],\n ['bread'],\n ['coconut', 'chicken'],\n ['bread'],\n ['chocolate', 'chocolate', 'chip', 'cookies'],\n ['bread'],\n ['bread'],\n ['banana', 'banana', 'bread'],\n ['pizza', 'chicken'],\n ['banana', 'banana', 'bread'],\n ['cheese', 'baked', 'macaroni', 'cheese'],\n ['bread'],\n ['bread'],\n ['bread'],\n ['garlic', 'steak', 'garlic'],\n ['bread'],\n ['ham', 'pineapple'],\n ['bread'],\n ['bread'],\n ['bread'],\n ['bread'],\n ['bread'],\n ['bread'],\n ['bread'],\n ['apple', 'salad'],\n ['sweet', 'spicy', 'sweet', 'potatoes'],\n ['garlic', 'steak', 'garlic'],\n ['muffins'],\n ['bread'],\n ['bread'],\n ['bread'],\n ['bread'],\n ['bread'],\n ['italian', 'style', 'sausage'],\n ['bread'],\n ['bread'],\n ['muffins'],\n ['spinach', 'salad'],\n ['bread'],\n ['bread'],\n ['garlic', 'steak', 'garlic'],\n ['bread'],\n ['sweet', 'potato', 'potato', 'salad'],\n ['bread'],\n ['pizza', 'chicken'],\n ['bread'],\n ['bread'],\n ['bread'],\n ['bread'],\n ['bread'],\n ['bread'],\n ['bread'],\n ['bread'],\n ['bread'],\n ['pumpkin', 'cake'],\n ['muffins'],\n ['muffins'],\n ['ham', 'pineapple'],\n ['corn', 'salad'],\n ['banana', 'banana', 'bread'],\n ['muffins'],\n ['dip'],\n ['bread'],\n ['cranberry', 'orange', 'cookies'],\n ['muffins'],\n ['bread'],\n ['garlic', 'steak', 'garlic'],\n ['chili'],\n ['bread'],\n ['muffins'],\n ['bread'],\n ['bread'],\n ['bread'],\n ['bread'],\n ['bread'],\n ['baked', 'chicken'],\n ['muffins'],\n ['bread'],\n ['bread'],\n ['bacon'],\n ['bread'],\n ['bread'],\n ['bread'],\n ['bread'],\n ['muffins'],\n ['garlic', 'steak', 'garlic'],\n ['bread'],\n ['bread'],\n ['bread'],\n ['bread'],\n ['bread'],\n ['dip'],\n ['bread'],\n ['bread'],\n ['bread'],\n ['muffins'],\n ['garlic', 'steak', 'garlic'],\n ['bread'],\n ['garlic', 'steak', 'garlic'],\n ['muffins'],\n ['sweet', 'cream', 'ice', 'cream'],\n ['bread'],\n ['bread'],\n ['muffins'],\n ['bread'],\n ['cranberry', 'orange', 'cookies'],\n ['bread'],\n ['coconut', 'chicken'],\n ['bread'],\n ['bread'],\n ['bacon'],\n ['bread'],\n ['bread'],\n ['bread'],\n ['chicken', 'shrimp'],\n ['muffins'],\n ['garlic', 'steak', 'garlic'],\n ['bread'],\n ['cheese', 'baked', 'macaroni', 'cheese'],\n ['bread'],\n ['coconut', 'chicken'],\n ['apple', 'salad'],\n ['coconut', 'chicken'],\n ['chocolate', 'chocolate', 'chip', 'cookies'],\n ['cheese', 'baked', 'macaroni', 'cheese'],\n ['muffins'],\n ['bread'],\n ['bread'],\n ['apple', 'salad'],\n ['bread'],\n ['zucchini', 'salad'],\n ['bread'],\n ['muffins'],\n ['apple', 'salad'],\n ['muffins'],\n ['apple', 'salad'],\n ['bars'],\n ['strawberry', 'chicken'],\n ['lemon', 'lemon', 'loaf'],\n ['bread'],\n ['cranberry', 'orange', 'cookies'],\n ['cranberry', 'orange', 'cookies'],\n ['cranberry', 'orange', 'cookies'],\n ['bread'],\n ['salad'],\n ['muffins'],\n ['bread'],\n ['beef', 'stew'],\n ['cranberry', 'orange', 'cookies'],\n ['banana', 'banana', 'bread'],\n ['garlic', 'steak', 'garlic'],\n ['bread'],\n ['bread'],\n ['bread'],\n ['bread'],\n ['garlic', 'steak', 'garlic'],\n ['ham', 'pineapple'],\n ['bread'],\n ['pumpkin', 'cake'],\n ['bread'],\n ['bread'],\n ['pumpkin', 'cake'],\n ['bread'],\n ['bread'],\n ['dip'],\n ['bread'],\n ['bread'],\n ['coconut', 'chicken'],\n ['cheese', 'baked', 'macaroni', 'cheese'],\n ['creamy', 'chicken'],\n ['pumpkin', 'cake'],\n ['muffins'],\n ['muffins'],\n ['sweet', 'cream', 'ice', 'cream'],\n ['dip'],\n ['bread'],\n ['zucchini', 'salad'],\n ['muffins'],\n ['dip'],\n ['bacon'],\n ['bread'],\n ['bread'],\n ['banana', 'banana', 'bread'],\n ['apple', 'salad'],\n ['bread'],\n ['muffins'],\n ['pizza', 'chicken'],\n ['bread'],\n ['bread'],\n ['bread'],\n ['peanut', 'butter'],\n ['chocolate', 'chocolate', 'chip', 'cookies'],\n ['bread'],\n ['bread'],\n ['apple', 'salad'],\n ['bread'],\n ['bread'],\n ['lemon', 'lemon', 'loaf'],\n ['bread'],\n ['bread'],\n ['bread'],\n ['bread'],\n ['italian', 'style', 'sausage'],\n ['bread'],\n ['bread'],\n ['banana', 'banana', 'bread'],\n ['peanut', 'butter'],\n ['bread'],\n ['bread'],\n ['banana', 'banana', 'bread'],\n ['bread'],\n ['bread'],\n ['bread'],\n ['banana', 'banana', 'bread'],\n ['banana', 'banana', 'bread'],\n ['bread'],\n ['cheese', 'baked', 'macaroni', 'cheese'],\n ['banana', 'banana', 'bread'],\n ['bread'],\n ['bread'],\n ['bread'],\n ['apple', 'salad'],\n ['pumpkin', 'cake'],\n ['bread'],\n ['bacon'],\n ['bread'],\n ['cake'],\n ['bread'],\n ['bread'],\n ['bread'],\n ['bread'],\n ['bread'],\n ['lemon', 'lemon', 'loaf'],\n ['bread'],\n ['baked', 'chicken'],\n ['broccoli', 'bake'],\n ['bread'],\n ['banana', 'banana', 'bread'],\n ['muffins'],\n ['muffins'],\n ['stuffed', 'chicken'],\n ['stuffed', 'chicken'],\n ['garlic', 'steak', 'garlic'],\n ['muffins'],\n ['bread'],\n ['bread'],\n ['red', 'pepper', 'chicken'],\n ['chocolate', 'chocolate', 'chip', 'cookies'],\n ['baked', 'chicken'],\n ['bread'],\n ['bread'],\n ['bread'],\n ['stuffed', 'chicken'],\n ['bread'],\n ['pie', 'strawberry', 'pie'],\n ['pork', 'chops'],\n ['cake'],\n ['bread'],\n ['bread'],\n ['bread'],\n ['bread'],\n ['cake'],\n ['bread'],\n ['garlic', 'steak', 'garlic'],\n ['beef', 'stew'],\n ['bread'],\n ['bread'],\n ['bread'],\n ['apple', 'salad'],\n ['bread'],\n ['bread'],\n ['bread'],\n ['bread'],\n ['banana', 'banana', 'bread'],\n ['bread'],\n ['bread'],\n ['bread'],\n ['coconut', 'chicken'],\n ['bread'],\n ['chili'],\n ['bread'],\n ['bread'],\n ['bread'],\n ['banana', 'banana', 'bread'],\n ['bread'],\n ['baked', 'chicken'],\n ['bread'],\n ['bread'],\n ['bread'],\n ['bread'],\n ['lemon', 'lemon', 'loaf'],\n ['lemon', 'lemon', 'loaf'],\n ['banana', 'banana', 'bread'],\n ['banana', 'banana', 'bread'],\n ['bread'],\n ['bread'],\n ['dip'],\n ['dip'],\n ['bread'],\n ['bread'],\n ['bread'],\n ['bread'],\n ['bread'],\n ['pizza', 'chicken'],\n ['bread'],\n ['bread'],\n ['bread'],\n ['bread'],\n ['cranberry', 'orange', 'cookies'],\n ['bread'],\n ['bread'],\n ['bread'],\n ['bread'],\n ['banana', 'banana', 'bread'],\n ['bread'],\n ['banana', 'banana', 'bread'],\n ['banana', 'banana', 'bread'],\n ['bread'],\n ['bread'],\n ['pork', 'chops'],\n ['cake'],\n ['pizza', 'chicken'],\n ['bread'],\n ['pizza', 'chicken'],\n ['bread'],\n ['bread'],\n ['bread'],\n ['bread'],\n ['sweet', 'spicy', 'sweet', 'potatoes'],\n ['baked', 'chicken'],\n ['bread'],\n ['muffins'],\n ['muffins'],\n ['peanut', 'butter'],\n ['apple', 'salad'],\n ['banana', 'banana', 'bread'],\n ['bread'],\n ['bread'],\n ['bread'],\n ['bread'],\n ['bread'],\n ['bread'],\n ['dip'],\n ['dip'],\n ['baked', 'chicken'],\n ['dip'],\n ['ham', 'sauce', 'mustard', 'sauce'],\n ['bread'],\n ['banana', 'banana', 'bread'],\n ['bread'],\n ['bread'],\n ['sweet', 'cream', 'ice', 'cream'],\n ['muffins'],\n ['bread'],\n ['bread'],\n ['banana', 'banana', 'bread'],\n ['bread'],\n ['peanut', 'butter'],\n ['bread'],\n ['banana', 'banana', 'bread'],\n ['bread'],\n ['bread'],\n ['bread'],\n ['bacon'],\n ['red', 'pepper', 'chicken'],\n ['stuffed', 'chicken'],\n ['sweet', 'spicy', 'sweet', 'potatoes'],\n ['bread'],\n ['bread'],\n ['roasted', 'chicken'],\n ['bread'],\n ['creamy', 'chicken'],\n ['bread'],\n ['bread'],\n ['banana', 'banana', 'bread'],\n ['bread'],\n ['muffins'],\n ['bread'],\n ['garlic', 'steak', 'garlic'],\n ['cake'],\n ['banana', 'banana', 'bread'],\n ['muffins'],\n ['bread'],\n ['muffins'],\n ['zucchini', 'salad'],\n ['bread'],\n ['apple', 'salad'],\n ['pumpkin', 'cake'],\n ['cranberry', 'orange', 'cookies'],\n ['muffins'],\n ['bread'],\n ['bread'],\n ['banana', 'banana', 'bread'],\n ['apple', 'salad'],\n ['bread'],\n ['bread'],\n ['ham', 'sauce', 'mustard', 'sauce'],\n ['banana', 'banana', 'bread'],\n ['red', 'pepper', 'chicken'],\n ['muffins'],\n ['bread'],\n ['broccoli', 'bake'],\n ['bread'],\n ['bread'],\n ['coconut', 'chicken'],\n ['bread'],\n ['pizza', 'chicken'],\n ['bread'],\n ['banana', 'banana', 'bread'],\n ['italian', 'style', 'sausage'],\n ['garlic', 'steak', 'garlic'],\n ['cheese', 'baked', 'macaroni', 'cheese'],\n ['bread'],\n ['red', 'pepper', 'chicken'],\n ['broccoli', 'bake'],\n ['spinach', 'salad'],\n ['broccoli', 'bake'],\n ['banana', 'banana', 'bread'],\n ['bread'],\n ['peanut', 'butter'],\n ['bread'],\n ['banana', 'banana', 'bread'],\n ['garlic', 'steak', 'garlic'],\n ['bread'],\n ['bread'],\n ['bread'],\n ['bread'],\n ['broccoli', 'bake'],\n ['bread'],\n ['bacon'],\n ['bread'],\n ['bread'],\n ['cake'],\n ['bread'],\n ['pizza', 'chicken'],\n ['rice'],\n ['muffins'],\n ['chili'],\n ['banana', 'banana', 'bread'],\n ['bread'],\n ['banana', 'banana', 'bread'],\n ['bread'],\n ['muffins'],\n ['stuffed', 'chicken'],\n ['apple', 'salad'],\n ['bread'],\n ['corn', 'salad'],\n ['bread'],\n ['corn', 'salad'],\n ['pumpkin', 'cake'],\n ['bread'],\n ['bread'],\n ['muffins'],\n ['bacon'],\n ['bread'],\n ['bread'],\n ['pie', 'strawberry', 'pie'],\n ['bread'],\n ['banana', 'banana', 'bread'],\n ['pizza', 'chicken'],\n ['bread'],\n ['cake'],\n ['cake'],\n ['peanut', 'butter'],\n ['cake'],\n ['cake'],\n ['cake'],\n ['bars'],\n ['cake'],\n ['cake'],\n ['cake'],\n ['cake'],\n ['cake'],\n ['cake'],\n ['cake'],\n ['cake'],\n ['cake'],\n ['red', 'pepper', 'chicken'],\n ['garlic', 'steak', 'garlic'],\n ['cake'],\n ['bars'],\n ['cake'],\n ['broccoli', 'bake'],\n ['cake'],\n ['pie', 'strawberry', 'pie'],\n ['cake'],\n ['cake'],\n ['bread'],\n ['cake'],\n ['lemon', 'lemon', 'loaf'],\n ['stuffed', 'chicken'],\n ['cake'],\n ['chocolate', 'chocolate', 'chip', 'cookies'],\n ['cake'],\n ['cake'],\n ['cake'],\n ['sweet', 'cream', 'ice', 'cream'],\n ['cake'],\n ['cake'],\n ['cake'],\n ['cake'],\n ['cake'],\n ['cake'],\n ['cake'],\n ['chili'],\n ['cake'],\n ['cake'],\n ['cake'],\n ['cake'],\n ['cake'],\n ['cake'],\n ['cake'],\n ['cake'],\n ['cake'],\n ['cake'],\n ['banana', 'banana', 'bread'],\n ['banana', 'banana', 'bread'],\n ['muffins'],\n ['cake'],\n ['cake'],\n ['cake'],\n ['cake'],\n ['cake'],\n ['red', 'pepper', 'chicken'],\n ['cake'],\n ['cake'],\n ['cake'],\n ['coconut', 'chicken'],\n ['cake'],\n ['cake'],\n ['cake'],\n ['cake'],\n ['cake'],\n ['cake'],\n ['cake'],\n ['cake'],\n ['cake'],\n ['cake'],\n ['cake'],\n ['peanut', 'butter'],\n ['cake'],\n ['cake'],\n ['cake'],\n ['cake'],\n ['cake'],\n ['coconut', 'chicken'],\n ['cake'],\n ['apple', 'salad'],\n ['sweet', 'cream', 'ice', 'cream'],\n ['banana', 'banana', 'bread'],\n ['coconut', 'chicken'],\n ['creamy', 'chicken'],\n ['cake'],\n ['cake'],\n ['cake'],\n ['cake'],\n ['chocolate', 'chocolate', 'chip', 'cookies'],\n ['cake'],\n ['cake'],\n ['cake'],\n ['banana', 'banana', 'bread'],\n ['cake'],\n ['chocolate', 'chocolate', 'chip', 'cookies'],\n ['cake'],\n ['banana', 'banana', 'bread'],\n ['sweet', 'cream', 'ice', 'cream'],\n ['cake'],\n ['cake'],\n ['cake'],\n ['cake'],\n ['cake'],\n ['cake'],\n ['cake'],\n ['cake'],\n ['cake'],\n ['strawberry', 'chicken'],\n ['cake'],\n ['cake'],\n ['cake'],\n ['cake'],\n ['cake'],\n ['cake'],\n ['cake'],\n ['cake'],\n ['cake'],\n ['chocolate', 'chocolate', 'chip', 'cookies'],\n ['chocolate', 'chocolate', 'chip', 'cookies'],\n ['cake'],\n ['cake'],\n ['cake'],\n ['cake'],\n ['cake'],\n ['chocolate', 'chocolate', 'chip', 'cookies'],\n ['cake'],\n ['cake'],\n ['chocolate', 'chocolate', 'chip', 'cookies'],\n ['lemon', 'lemon', 'loaf'],\n ['cake'],\n ['cake'],\n ['cake'],\n ['cake'],\n ['chocolate', 'chocolate', 'chip', 'cookies'],\n ['cake'],\n ['italian', 'style', 'sausage'],\n ['cake'],\n ['cake'],\n ['cake'],\n ['strawberry', 'chicken'],\n ['cake'],\n ['cake'],\n ['cake'],\n ['cake'],\n ['cake'],\n ['cake'],\n ['cake'],\n ['cake'],\n ['cake'],\n ['cake'],\n ['cake'],\n ['cake'],\n ['strawberry', 'chicken'],\n ['cake'],\n ['lemon', 'lemon', 'loaf'],\n ['red', 'pepper', 'chicken'],\n ['cake'],\n ['cake'],\n ['cake'],\n ['cake'],\n ['pumpkin', 'cake'],\n ['banana', 'banana', 'bread'],\n ['coconut', 'chicken'],\n ['bars'],\n ['cake'],\n ['cake'],\n ['peanut', 'butter'],\n ['cake'],\n ['chocolate', 'chocolate', 'chip', 'cookies'],\n ['cake'],\n ['bars'],\n ['sweet', 'cream', 'ice', 'cream'],\n ['cake'],\n ['cake'],\n ['cake'],\n ['cake'],\n ['cake'],\n ['cake'],\n ['creamy', 'chicken'],\n ['cake'],\n ['cake'],\n ['bars'],\n ['sweet', 'cream', 'ice', 'cream'],\n ['cake'],\n ['cake'],\n ['cake'],\n ['cake'],\n ['cake'],\n ['cake'],\n ['cake'],\n ['cake'],\n ['sweet', 'cream', 'ice', 'cream'],\n ['cake'],\n ['cake'],\n ['cake'],\n ['bars'],\n ['cake'],\n ['cake'],\n ['sweet', 'cream', 'ice', 'cream'],\n ['cake'],\n ['cake'],\n ['cake'],\n ['cake'],\n ['cake'],\n ['apple', 'salad'],\n ['cake'],\n ['cake'],\n ['sweet', 'cream', 'ice', 'cream'],\n ['cake'],\n ['cake'],\n ['cake'],\n ['cake'],\n ['cake'],\n ['cake'],\n ['cake'],\n ['cake'],\n ['peanut', 'butter'],\n ['peanut', 'butter'],\n ['banana', 'banana', 'bread'],\n ['cake'],\n ['cake'],\n ['cake'],\n ['cake'],\n ['cake'],\n ['cake'],\n ['cake'],\n ['apple', 'salad'],\n ['cake'],\n ['cake'],\n ['cake'],\n ['peanut', 'butter'],\n ['cake'],\n ['cake'],\n ['cake'],\n ['cake'],\n ['cake'],\n ['cake'],\n ['cake'],\n ['coconut', 'chicken'],\n ['cake'],\n ['cake'],\n ['cake'],\n ['cake'],\n ['cake'],\n ['cranberry', 'orange', 'cookies'],\n ['cake'],\n ['cake'],\n ['bars'],\n ['bars'],\n ['cake'],\n ['cake'],\n ['cake'],\n ['cake'],\n ['cake'],\n ['apple', 'salad'],\n ['cake'],\n ['sweet', 'cream', 'ice', 'cream'],\n ['cake'],\n ['cake'],\n ['bars'],\n ['cake'],\n ['cake'],\n ['bars'],\n ['cake'],\n ['coconut', 'chicken'],\n ['ham', 'sauce', 'mustard', 'sauce'],\n ['sweet', 'cream', 'ice', 'cream'],\n ['banana', 'banana', 'bread'],\n ['lemon', 'lemon', 'loaf'],\n ['creamy', 'chicken'],\n ['sweet', 'cream', 'ice', 'cream'],\n ['cake'],\n ['cake'],\n ['apple', 'salad'],\n ['lemon', 'lemon', 'loaf'],\n ['cake'],\n ['cake'],\n ['cake'],\n ['cake'],\n ['cake'],\n ['cake'],\n ['cake'],\n ['cake'],\n ['cake'],\n ['pie', 'strawberry', 'pie'],\n ['lemon', 'lemon', 'loaf'],\n ['cake'],\n ['cake'],\n ['cake'],\n ['cake'],\n ['cake'],\n ['bars'],\n ['banana', 'banana', 'bread'],\n ['sweet', 'cream', 'ice', 'cream'],\n ['sweet', 'cream', 'ice', 'cream'],\n ['banana', 'banana', 'bread'],\n ['cake'],\n ['cake'],\n ['cake'],\n ['cake'],\n ['sweet', 'cream', 'ice', 'cream'],\n ['cake'],\n ['peanut', 'butter'],\n ['cake'],\n ['chocolate', 'chocolate', 'chip', 'cookies'],\n ['cake'],\n ['cake'],\n ['strawberry', 'chicken'],\n ['cake'],\n ['cake'],\n ['cake'],\n ['cake'],\n ['banana', 'banana', 'bread'],\n ['cake'],\n ['cake'],\n ['cake'],\n ['cake'],\n ['cake'],\n ['cake'],\n ['cake'],\n ['cake'],\n ['cake'],\n ['cake'],\n ['cake'],\n ['chili'],\n ['cake'],\n ['bacon'],\n ['coconut', 'chicken'],\n ['cake'],\n ['cake'],\n ['cake'],\n ['chocolate', 'chocolate', 'chip', 'cookies'],\n ['cake'],\n ['banana', 'banana', 'bread'],\n ['sweet', 'cream', 'ice', 'cream'],\n ['peanut', 'butter'],\n ['cranberry', 'orange', 'cookies'],\n ['bars'],\n ['cake'],\n ['cake'],\n ['cake'],\n ['cake'],\n ['cake'],\n ['cake'],\n ['cake'],\n ['cake'],\n ['cake'],\n ['chocolate', 'chocolate', 'chip', 'cookies'],\n ['chocolate', 'chocolate', 'chip', 'cookies'],\n ['cake'],\n ['cake'],\n ['lemon', 'lemon', 'loaf'],\n ['cake'],\n ['sweet', 'cream', 'ice', 'cream'],\n ['cake'],\n ['cake'],\n ['cake'],\n ['lemon', 'lemon', 'loaf'],\n ['cake'],\n ['cake'],\n ['bars'],\n ['lemon', 'lemon', 'loaf'],\n ['cake'],\n ['cake'],\n ['ham', 'pineapple'],\n ['cake'],\n ['cake'],\n ['cake'],\n ['cake'],\n ['cake'],\n ['cake'],\n ['cake'],\n ['cake'],\n ['cake'],\n ['banana', 'banana', 'bread'],\n ['cake'],\n ['coconut', 'chicken'],\n ['cake'],\n ['cake'],\n ['cake'],\n ['cake'],\n ['cake'],\n ['cake'],\n ['sweet', 'cream', 'ice', 'cream'],\n ['bars'],\n ['cake'],\n ['lemon', 'lemon', 'loaf'],\n ['cake'],\n ['coconut', 'chicken'],\n ['cake'],\n ['cake'],\n ['banana', 'banana', 'bread'],\n ['cake'],\n ['coconut', 'chicken'],\n ['cake'],\n ['cake'],\n ['bars'],\n ['chocolate', 'chocolate', 'chip', 'cookies'],\n ['bars'],\n ['cake'],\n ['lemon', 'lemon', 'loaf'],\n ['cake'],\n ['cake'],\n ['banana', 'banana', 'bread'],\n ['cake'],\n ['peanut', 'butter'],\n ['chocolate', 'chocolate', 'chip', 'cookies'],\n ['ham', 'sauce', 'mustard', 'sauce'],\n ['cake'],\n ['cake'],\n ['cake'],\n ['lemon', 'lemon', 'loaf'],\n ['banana', 'banana', 'bread'],\n ['banana', 'banana', 'bread'],\n ['cake'],\n ['cake'],\n ['cake'],\n ['cheese', 'baked', 'macaroni', 'cheese'],\n ['coconut', 'chicken'],\n ['coconut', 'chicken'],\n ['bars'],\n ['banana', 'banana', 'bread'],\n ['cake'],\n ['cake'],\n ['cake'],\n ['cake'],\n ['sweet', 'cream', 'ice', 'cream'],\n ['cake'],\n ...]"
     },
     "execution_count": 31,
     "metadata": {},
     "output_type": "execute_result"
    }
   ],
   "source": [
    "categories_for_recipes"
   ]
  },
  {
   "cell_type": "code",
   "execution_count": 32,
   "id": "3832963e",
   "metadata": {
    "pycharm": {
     "name": "#%%\n"
    }
   },
   "outputs": [],
   "source": [
    "data['category'] = categories_for_recipes"
   ]
  },
  {
   "cell_type": "code",
   "execution_count": 33,
   "id": "0db9e965",
   "metadata": {
    "pycharm": {
     "name": "#%%\n"
    }
   },
   "outputs": [
    {
     "data": {
      "text/plain": "                                           ingredients  \\\n0    [1/2 cup unsalted butter, chilled and cubed, 1...   \n1    [1/2 cup Parmesan cheese, 3/4 teaspoon ground ...   \n2    [2 cups hot water, 1/2 cup margarine, 1/3 cup ...   \n3    [1 1/2 cups white sugar, 1/2 cup vegetable oil...   \n4    [1/4 cup butter, 1 teaspoon white sugar, 1 cup...   \n5    [1 teaspoon active dry yeast, 1 1/4 cups lukew...   \n6    [8 cups all-purpose flour, 4 cups shredded Che...   \n7    [2 tablespoons active dry yeast, 1 teaspoon wh...   \n8    [1 cup rolled oats, 1/2 cup molasses, 1/3 cup ...   \n9    [3 cups all-purpose flour, 2 cups white sugar,...   \n10   [1 cup water, 2 tablespoons extra virgin olive...   \n11   [1 cup warm water, 5 tablespoons white sugar, ...   \n12   [1 egg, 1 1/3 cups milk, 1/4 cup vegetable oil...   \n13   [4 1/2 teaspoons active dry yeast, 2 cups warm...   \n14   [3 tablespoons instant mashed potato flakes, 3...   \n15   [1 cup sourdough starter, 1 1/2 cups warm wate...   \n16   [1 (.25 ounce) package active dry yeast, 1/4 c...   \n17   [3 1/2 cups all-purpose flour, 2 teaspoons bak...   \n18   [1/4 cup white sugar, 1 tablespoon salt, 1/4 c...   \n19   [2 (.25 ounce) packages active dry yeast, 3/4 ...   \n20   [3 cups warm water, 3 tablespoons active dry y...   \n21   [1/4 cup chopped sun-dried tomatoes, 2 1/2 cup...   \n22   [1 (.25 ounce) package active dry yeast, 1/4 c...   \n23   [2 cups whole wheat flour, 1/4 cup wheat germ,...   \n24   [1 1/2 cups all-purpose flour, 1 teaspoon baki...   \n25   [2 cups sifted all-purpose flour, 4 teaspoons ...   \n26   [2 cups sifted all-purpose flour, 4 teaspoons ...   \n27   [1 3/4 cups all-purpose flour, 2 teaspoons bak...   \n28   [1 1/2 cups warm milk, 1 1/2 tablespoons veget...   \n29   [1 1/2 cups buttermilk, 1 1/2 tablespoons marg...   \n30   [1 cup water, 3 cups bread flour, 2 tablespoon...   \n31   [7/8 cup water, 1/2 tablespoon salt, 1/4 cup h...   \n32   [3/4 cup water, 2/3 cup instant mashed potato ...   \n33   [3 1/4 cups all-purpose flour, 3 cups white su...   \n34   [3 cups all-purpose flour, 1 teaspoon salt, 1 ...   \n35   [3/4 cup warm water, 1 egg, lightly beaten, 1 ...   \n36   [1 (.25 ounce) package active dry yeast, 1 pin...   \n37   [1/2 cup warm water, 3 (.25 ounce) packages ac...   \n38   [2 eggs, 1 1/2 cups all-purpose flour, 3/4 cup...   \n39   [3/4 cup white sugar, 1/4 cup packed brown sug...   \n40   [1/2 cup butter, softened, 1 cup white sugar, ...   \n41   [2 cups fresh blueberries, 1/4 cup all-purpose...   \n42   [6 tablespoons butter, melted, 1 cup white sug...   \n43   [1/2 cup margarine, 3/4 cup white sugar, 2 egg...   \n44   [1 1/2 (0.6 ounce) cakes compressed fresh yeas...   \n45   [2 cups raisin bran cereal, 4 cups whole bran ...   \n46   [1 cup chopped walnuts, 4 eggs, 2 cups white s...   \n47   [1 (15 ounce) can apricot halves, 1/3 cup shor...   \n48   [2 cups milk, 1/2 pound unsalted butter, at ro...   \n49   [3 tablespoons margarine, 2 cups white sugar, ...   \n50   [5 very ripe bananas, 4 eggs, 1 cup shortening...   \n51   [1 1/2 cups unbleached all-purpose flour, 1 cu...   \n52   [1 tablespoon white sugar, 1/2 cup warm water ...   \n53   [1 (12 fluid ounce) can or bottle beer, 3 cups...   \n54   [2 cups all-purpose flour, 3 teaspoons baking ...   \n55   [1 egg, 1/4 cup water, 1/2 cup evaporated skim...   \n56   [3 eggs, beaten, 1/2 cup vegetable oil, 1/2 cu...   \n57   [1 medium potato, peeled, 2 cups water, 1 teas...   \n58   [1 tablespoon sunflower seed oil, 2 teaspoons ...   \n59   [1 cup bread flour, 1/3 cup amaranth flour, 2/...   \n60   [1 teaspoon salt, 1/4 cup poppy seeds, 3 cups ...   \n61   [3 cups all-purpose flour, 3 eggs, 2 cups whit...   \n62   [1 (.25 ounce) package rapid rise yeast, 1 tea...   \n63   [1 cup milk, 3 tablespoons unsalted butter, me...   \n65   [1 (18.25 ounce) package lemon cake mix, 4 egg...   \n66   [3 eggs, 1 cup vegetable oil, 1 cup packed bro...   \n67   [3 eggs, 2 cups white sugar, 1 cup vegetable o...   \n68   [3 cups white sugar, 1 (15 ounce) can pumpkin ...   \n69   [2 3/4 cups baking mix, 1/2 teaspoon crushed r...   \n70   [1/3 cup shortening, 1 1/3 cups white sugar, 2...   \n71   [3/4 cup wheat and barley nugget cereal (e.g. ...   \n72   [1 cup tomato juice, 1 cup water, 1 (.25 ounce...   \n73   [3 eggs, 3/4 cup vegetable oil, 1 2/3 cups pac...   \n74   [1 (.25 ounce) package active dry yeast, 2 tab...   \n75   [1 1/3 cups warm water (110 degrees F/45 degre...   \n76   [1 (.25 ounce) package active dry yeast, 4 tab...   \n77   [2 cups all-purpose flour, 4 teaspoons baking ...   \n78   [2 cups biscuit baking mix, 1 cup shredded Che...   \n79   [2/3 cup warm water (110 degrees F/45 degrees ...   \n80   [2 (.25 ounce) packages active dry yeast, 6 cu...   \n81   [1 1/3 cups warm water (110 degrees F/45 degre...   \n82   [2 (1 pound) loaves frozen bread dough, thawed...   \n83   [3/4 cup fat free sour cream, 1/2 teaspoon sal...   \n84   [1/2 cup butter, softened, 1 cup vanilla sugar...   \n85   [4 cups all-purpose flour, 1 cup white sugar, ...   \n86   [For Sponge (Biga):, 1/8 teaspoon active dry y...   \n87   [3/4 cup fat free sour cream, 4 egg whites, 1/...   \n88   [1 tablespoon grated orange zest, 1/3 cup fres...   \n89   [3 cups all-purpose flour, 1 1/2 teaspoons sal...   \n90   [1 1/4 cups quick cooking oats, 1 1/4 cups mil...   \n91   [2/3 cup white sugar, 1/4 cup margarine, softe...   \n92   [2 1/4 teaspoons active dry yeast, 1/2 cup war...   \n93   [2 cups warm water (110 degrees F/45 degrees C...   \n94   [4 ripe bananas, mashed, 2/3 cup white sugar, ...   \n95   [3/4 cup milk, 3/4 cup water, 1/2 cup white su...   \n96   [4 1/2 teaspoons active dry yeast, 1/2 cup war...   \n97   [2 1/2 cups warm water (110 degrees F/45 degre...   \n98   [5 cups all-purpose flour, 2 (.25 ounce) packa...   \n99   [1 3/4 cups all-purpose flour, 1/3 cup white s...   \n100  [2 cups warm water (110 degrees F/45 degrees C...   \n101  [1 1/4 cups vegetable oil, 2 cups pumpkin pure...   \n102  [2 cups all-purpose flour, 1/2 teaspoon baking...   \n103  [1 1/4 cups quick cooking oats, 1 cup all-purp...   \n104  [1 cup self-rising flour, 3 tablespoons white ...   \n105  [1 cup milk, 8 cups sifted all-purpose flour, ...   \n106  [6 tablespoons shortening, 1 cup white sugar, ...   \n107  [2 cups white sugar, 1 cup packed brown sugar,...   \n108  [2 (.25 ounce) packages active dry yeast, 2 1/...   \n109  [2 cups all-purpose flour, 1/3 cup packed brow...   \n110  [3 cups warm water (110 degrees F/45 degrees C...   \n111  [2 cups rye flour, 1 1/2 cups room temperature...   \n112  [1/4 cup margarine, softened, 1 cup white suga...   \n113  [3 cups all-purpose flour, 1 (.25 ounce) packa...   \n114  [2 1/2 cups white sugar, 1 cup shortening, 3 e...   \n115  [1 (.25 ounce) package active dry yeast, 1 cup...   \n116  [1 1/2 cups milk, 1 cup warm water (110 degree...   \n117  [3 1/2 cups all-purpose flour, 1 teaspoon whit...   \n118  [3/8 cup cracked wheat, 3/4 cup water, 2 cups ...   \n119  [1 cup sourdough starter, 1/3 cup vegetable oi...   \n120  [2 cups all-purpose flour, 2 cups warm water (...   \n121  [2 (.25 ounce) packages active dry yeast, 1/2 ...   \n123  [2 (.25 ounce) packages active dry yeast, 2 cu...   \n124  [1 1/3 cups warm water (110 degrees F/45 degre...   \n125  [2 cups warm water (110 degrees F/45 degrees C...   \n126  [1/2 cup water, 1 cup cottage cheese, 2 tables...   \n127  [2 tablespoons shortening, 1 1/2 cups white su...   \n128  [3 cups all-purpose flour, 2 teaspoons baking ...   \n129  [3 eggs, 1 cup vegetable oil, 1 1/2 cups packe...   \n130  [1 cup warm water (110 degrees F), 1 egg, 3 cu...   \n131  [1 cup canned sweet potato puree, 3 egg yolks,...   \n132  [2 cups all-purpose flour, 2 1/2 teaspoons bak...   \n133  [1 cup buttermilk, 1 cup stone ground cornmeal...   \n134  [1 (15 ounce) can pumpkin puree, 1 cup vegetab...   \n135  [3 1/2 cups all-purpose flour, 1 cup packed br...   \n136  [1 1/8 cups warm water (110 degrees F/45 degre...   \n137  [1 1/8 cups warm water, 2 tablespoons molasses...   \n138  [1 cup buttermilk, 1 egg, 1/4 cup warm water (...   \n139  [2 eggs, 1/4 cup corn oil, 1 cup buttermilk, 1...   \n140  [2 1/2 cups warm water (110 degrees F/45 degre...   \n141  [3 eggs, 2 cups white sugar, 1 cup vegetable o...   \n142  [1 cup milk, 1 egg, 1/3 cup vegetable oil, 2 c...   \n143  [1 1/4 cups water, 1 teaspoon salt, 3 cups bre...   \n144  [1 1/2 cups water, 3 tablespoons honey, 2 tabl...   \n145  [3 cups self-rising flour, 2 tablespoons white...   \n146  [4 1/4 cups all-purpose flour, 3 tablespoons w...   \n148  [1 (.25 ounce) package active dry yeast, 1 cup...   \n149  [1 1/8 cups warm water, 2 tablespoons olive oi...   \n150  [1 cup warm water (110 degrees F/45 degrees C)...   \n151  [1 cup warm water (110 degrees F/45 degrees C)...   \n152  [3 (12 ounce) packages refrigerated biscuit do...   \n153  [3 cups unbleached all-purpose flour, 1 tables...   \n154  [1 1/8 cups warm water, 1 1/3 tablespoons vege...   \n155  [3/4 cup water, 2 teaspoons honey, 2 teaspoons...   \n156  [1 (20 ounce) can crushed pineapple with juice...   \n157  [1 (15 ounce) can pumpkin puree, 4 eggs, 1 cup...   \n158  [1 1/8 cups warm water (110 degrees F/45 degre...   \n159  [1 cup packed brown sugar, 1/2 cup margarine, ...   \n160  [2 cups all-purpose flour, 2 tablespoons white...   \n161  [2 cups sifted all-purpose flour, 1 teaspoon b...   \n162  [2 cups all-purpose flour, 2 teaspoons baking ...   \n163  [3/4 cup plain yogurt, 1/3 cup water, 1 tables...   \n164  [4 1/2 cups all-purpose flour, 3 tablespoons w...   \n165  [5 cups all-purpose flour, 2 tablespoons short...   \n166  [2 cups whole wheat flour, 1 teaspoon baking s...   \n167  [2 cups all-purpose flour, 3 1/2 teaspoons bak...   \n168  [1 cup milk, 1/2 cup water, 1/4 cup butter, 4 ...   \n169  [1 1/8 cups water, 3 tablespoons honey, 1 tabl...   \n170  [3 tablespoons active dry yeast, 2/3 cup warm ...   \n171  [2 cups buttermilk baking mix, 2 tablespoons w...   \n172  [1 (15 ounce) can pumpkin puree, 4 cups all-pu...   \n173  [2 cups buttermilk baking mix, 2/3 cup milk, 1...   \n174  [1 (10 ounce) can refrigerated biscuit dough, ...   \n175  [3 cups all-purpose flour, 2 1/4 cups white su...   \n176  [1 egg, 1/2 cup milk, 1/4 cup vegetable oil, 1...   \n177  [3 cups all-purpose flour, 3 cups white sugar,...   \n178  [1/2 cup water, 2 teaspoons honey, 1 tablespoo...   \n179  [4 cups grated fresh cassava, 3 cups coconut m...   \n180  [2 cups all-purpose flour, 2 teaspoons ground ...   \n181  [2 3/4 cups cake flour, 1 1/4 cups white sugar...   \n182  [1 1/2 cups all-purpose flour, 1 1/4 teaspoons...   \n183  [1 1/2 cups all-purpose flour, 1 cup fresh blu...   \n184  [2 eggs, 1 cup white sugar, 1/2 cup butter, me...   \n185  [3 cups all-purpose flour, 1 teaspoon baking s...   \n186  [4 1/4 cups all-purpose flour, 2 (.25 ounce) p...   \n187  [1/8 cup coffee flavored liqueur, 1/4 cup wate...   \n188  [2/3 cup crushed pineapple with juice, 3 table...   \n189  [1 1/2 cups dates, pitted and chopped, 2 1/4 c...   \n190  [2/3 cup white sugar, 1 tablespoon ground cinn...   \n191  [2 cups all-purpose flour, 2 teaspoons baking ...   \n192  [2 1/4 cups self-rising flour, 3/4 cup shorten...   \n193  [1 cup Amish Friendship Bread Starter (see foo...   \n194  [1 cup warm water (110 degrees F/45 degrees C)...   \n195  [1 1/8 cups warm water (110 degrees F/45 degre...   \n196  [1 1/2 cups sourdough starter, 1 cup warm wate...   \n197  [1 cup warm milk (110 degrees F/45 degrees C),...   \n198  [1 1/2 (.25 ounce) packages active dry yeast, ...   \n199  [3 cups canned pumpkin puree, 1 1/2 cups veget...   \n200  [1 (.25 ounce) package active dry yeast, 3 cup...   \n201  [2 1/2 teaspoons active dry yeast, 3 cups all-...   \n202  [1 1/2 cups all-purpose flour, 3/4 cup white s...   \n\n                                          instructions  \\\n0    [Preheat oven to 400 degrees F (205 degrees C)...   \n1    [Combine parmesan cheese, pepper and garlic po...   \n2    [Melt margarine in hot water. Add sugar and sa...   \n3    [Combine sugar and oil; beat well. Add eggs an...   \n4    [Stir butter and 1 teaspoon sugar into the hot...   \n5    [In a small bowl, dissolve the yeast in the mi...   \n6    [In a very large bowl, combine 7 cups of flour...   \n7    [In a small bowl, dissolve the yeast and sugar...   \n8    [Combine oats, molasses, oil, salt and boiling...   \n9    [Grease and flour a 9 x 5 inch pan well. Prehe...   \n10   [Place all ingredients into bread machine in o...   \n11   [Measure ingredients into the bread machine in...   \n12   [Heat oven to 425 degrees F (220 degrees C). G...   \n13   [In a large bowl, dissolve yeast in warm water...   \n14   [Combine instant potatoes, sugar, water, and y...   \n15   [Mix sugar, corn oil, salt, water, and 1 cup o...   \n16   [Stir the yeast into the warm water, and add a...   \n17   [Preheat oven to 350 degrees F (175 degrees C)...   \n18   [Place sugar, salt, and oil in either a mixing...   \n19   [Warm the milk in a small saucepan until it bu...   \n20   [In a large bowl, combine warm water, yeast, s...   \n21   [Preheat oven to 350 degrees F (175 degrees C)...   \n22   [In a large bowl, stir yeast, 1/4 cup warm wat...   \n23   [Grease a 9 x 5 inch loaf pan. Preheat oven to...   \n24   [Grease and flour two 7x3 inch loaf pans. Preh...   \n25   [Grease an 8 x 5 inch loaf tin thoroughly. Pre...   \n26   [Grease an 8 x 5 inch loaf tin thoroughly. Pre...   \n27   [Grease an 8x4 inch loaf pan. Preheat oven to ...   \n28   [Place ingredients into the bread machine in o...   \n29   [Place buttermilk, butter or margarine, sugar,...   \n30   [Place water, flour, powdered milk, sugar, sal...   \n31   [Place water, salt, honey, eggs, melted butter...   \n32   [Add ingredients to bread machine in order sug...   \n33   [Grease and flour three 7 x 3 inch pans. Prehe...   \n34   [Grease and flour two 8 x 4 inch pans. Preheat...   \n35   [Place warm water, egg, butter or margarine, f...   \n36   [In a large bowl, dissolve yeast and a pinch o...   \n37   [In the mixing bowl of an electric mixer, stir...   \n38   [Preheat oven to 325 degrees F (165 degrees C)...   \n39   [Preheat oven to 350 degrees F (175 Degrees C)...   \n40   [Lightly grease a 9 x 5 inch glass loaf pan, a...   \n41   [Preheat oven to 375 degrees F (190 degrees C)...   \n42   [Generously grease a 9 x 5 inch loaf pan. Preh...   \n43   [Preheat oven to 350 degrees F (175 degrees C)...   \n44   [Dissolve yeast in warm water., Scald milk. Tr...   \n45   [Mix cereal and boiling water together in a me...   \n46   [Whisk together flour, baking soda, salt, cinn...   \n47   [Drain apricots, and save syrup. Puree apricot...   \n48   [In a small saucepan, heat milk until just bel...   \n49   [Preheat oven to 350 degrees F (175 degrees C)...   \n50   [Preheat oven to 300 degrees F (150 degrees C)...   \n51   [Combine flour, oats, sugar, baking powder, so...   \n52   [Dissolve 1 tablespoon sugar and yeast in 1/2 ...   \n53   [In a large bowl, mix together the sugar and f...   \n54   [Preheat oven to 450 degrees F (230 degrees C)...   \n55   [Place all ingredients into bread machine in t...   \n56   [Preheat oven to 350 degrees F (175 degrees C)...   \n57   [Dissolve yeast and 1 teaspoon sugar in 1/2 cu...   \n58   [Combine flour, salt, yeast, sugar, cocoa, sun...   \n59   [Place rhubarb and water in a saucepan, and br...   \n60   [Preheat oven to 325 degrees F (165 degrees C)...   \n61   [Preheat oven to 350 degrees F (175 degrees C)...   \n62   [Dissolve yeast and sugar in 1/2 cup warm wate...   \n63   [Assemble ingredients in the order suggested i...   \n65   [Preheat oven to 350 degrees F (175 degrees C)...   \n66   [In a mixing bowl, beat the 3 eggs; add oil, s...   \n67   [Sift together flour, baking powder, soda, sal...   \n68   [Preheat oven to 350 degrees F (175 degrees C)...   \n69   [Preheat oven to 425 degrees F (220 degrees C)...   \n70   [Preheat oven to 350 degrees F (175 degrees C)...   \n71   [In a small bowl, soak grape nuts in buttermil...   \n72   [In a sauce pan, heat the tomato juice and wat...   \n73   [In a large bowl, beat eggs well. Add oil, bro...   \n74   [In a large mixing bowl, dissolve the yeast, b...   \n75   [In a large bowl, dissolve the yeast and sugar...   \n76   [Dissolve yeast, warm water, and 1 tablespoon ...   \n77   [Preheat oven to 400 degrees F (205 degrees C)...   \n78   [Preheat oven to 400 degrees F (205 degrees C)...   \n79   [Measure ingredients into the machine in the o...   \n80   [In a small saucepan, heat the milk and water ...   \n81   [Place ingredients in the bread machine in the...   \n82   [Thaw frozen bread dough loaves until they can...   \n83   [Combine sour cream, sugar, egg whites, milk, ...   \n84   [Preheat oven to 350 degrees F (175 degrees C)...   \n85   [Preheat oven to 325 degrees F (165 degrees C)...   \n86   [To Make Sponge: In a small bowl stir together...   \n87   [Preheat oven to 375 degrees F (190 degrees C)...   \n88   [Preheat oven to 350 degrees F (175 degrees C)...   \n89   [Preheat oven to 350 degrees F (175 degrees C)...   \n90   [Combine oats and milk and allow to stand for ...   \n91   [Preheat oven to 350 degrees F (175 degrees C)...   \n92   [In a medium bowl, dissolve 2 1/4 teaspoons ye...   \n93   [Sprinkle yeast over water in large bowl. Let ...   \n94   [Preheat oven to 350 degrees F (175 degrees C)...   \n95   [In a medium saucepan over medium heat, warm m...   \n96   [Dissolve yeast in warm water in a large mixin...   \n97   [In a large bowl, sprinkle yeast over barely w...   \n98   [Stir together 2 cups flour and the yeast. In ...   \n99   [Preheat oven to 400 degrees F (200 degrees C)...   \n100  [Dissolve yeast in warm water. Add honey, and ...   \n101  [In a large bowl, mix together oil, pumpkin, s...   \n102  [Sift together flour, baking soda, baking powd...   \n103  [Combine oats, flour, sugar, baking powder, an...   \n104  [Preheat oven to 450 degrees F (230 degrees C)...   \n105  [Scald milk in a medium saucepan. Add cold wat...   \n106  [Whisk together flour, salt, and baking powder...   \n107  [Preheat oven to 350 degrees F (175 degrees C)...   \n108  [In a large mixing bowl, dissolve yeast in 1/2...   \n109  [Preheat oven to 400 degrees F (205 degrees C)...   \n110  [In a large bowl, mix warm water, yeast, and 1...   \n111  [Combine rye flour, beer, and yeast in a large...   \n112  [Cream together butter or margarine, sugar, an...   \n113  [Combine flour, salt, sugar, and yeast in a la...   \n114  [Preheat oven to 350 degrees F (175 degrees C)...   \n115  [In a large bowl, mix together yeast, milk and...   \n116  [Warm the milk in a small saucepan until it bu...   \n117  [Combine 1 cup flour, sugar, salt, and yeast. ...   \n118  [In a two quart saucepan, combine the cracked ...   \n119  [Sift flour, salt, and soda together into a la...   \n120  [Mix together flour, warm water, and yeast in ...   \n121  [In a large bowl, dissolve yeast in warm water...   \n123  [Mix yeast, warm water, and white sugar togeth...   \n124  [Place ingredients in the bread machine in the...   \n125  [In a large bowl, dissolve the sugar in warm w...   \n126  [Add the ingredients to your bread machine in ...   \n127  [Cream shortening with sugar. Mix in eggs. Dis...   \n128  [Preheat oven to 350 degrees F (175 degrees C)...   \n129  [In a large bowl, combine eggs, oil, sugar, zu...   \n130  [Place water, egg, bread flour, white sugar, p...   \n131  [Stir together flour, baking powder, sugar, sa...   \n132  [Preheat oven to 450 degrees F (230 degrees C)...   \n133  [Preheat oven to 450 degrees F (225 degrees C)...   \n134  [Combine pumpkin, oil and eggs. Sift together ...   \n135  [Preheat oven to 350 degrees F (175 degrees C)...   \n136  [Add ingredients according to the manufacturer...   \n137  [Add ingredients according to bread machine's ...   \n138  [Place ingredients into the bread machine in o...   \n139  [Preheat oven to 350 degrees F (175 degrees C)...   \n140  [Place water, yeast, and molasses in a mixing ...   \n141  [Preheat oven to 350 degrees F (175 degrees C)...   \n142  [Preheat oven to 400 degrees F (205 degrees C)...   \n143  [Place water, salt, bread flour, dry milk, sug...   \n144  [Place ingredients in the pan of the bread mac...   \n145  [Preheat oven to 350 degrees F (175 degrees C)...   \n146  [In large bowl, combine 1 1/2 cups flour, suga...   \n148  [In a medium bowl, combine yeast, water and su...   \n149  [Measure and add warm water, olive oil, dry mi...   \n150  [Place water, sugar, salt, oil, bread flour an...   \n151  [Stir water, sugar and yeast together until di...   \n152  [Preheat oven to 350 degrees F (175 degrees C)...   \n153  [Add all ingredients except egg, 1 tablespoon ...   \n154  [Place all ingredients in to your bread machin...   \n155  [Add to your bread machine per manufacturer in...   \n156  [Preheat oven to 350 degrees F (175 degrees C)...   \n157  [Preheat oven to 350 degrees F (175 degrees C)...   \n158  [Place all ingredients in bread pan of your br...   \n159  [Heat oven to 350 degrees F (175 degrees C). G...   \n160  [In a large bowl combine flour, sugar, baking ...   \n161  [Preheat the oven to 350 degrees F (175 degree...   \n162  [Combine flour, baking powder, baking soda, sa...   \n163  [Place all ingredients in the bread machine in...   \n164  [Mix together the unsifted flour, 3 tablespoon...   \n165  [Mix together the flour, baking powder, and sa...   \n166  [Preheat oven to 350 degrees F (175 degrees C)...   \n167  [Sift flour with baking powder, salt, and papr...   \n168  [In a small saucepan, heat milk, water and but...   \n169  [Add ingredients to bread machine pan in order...   \n170  [In a small bowl, dissolve yeast in warm water...   \n171  [Preheat oven to 400 degrees F (205 degrees C)...   \n172  [Cook, peel and mash the sugar pumpkin., Sift ...   \n173  [Preheat oven to 450 degrees F (230 degrees C)...   \n174  [Cut each biscuit in half and form each piece ...   \n175  [Mix together the flour, 2 1/4 cups white suga...   \n176  [Preheat oven to 400 degrees F (205 degrees C)...   \n177  [Preheat oven to 350 degrees F (175 degrees C)...   \n178  [Place ingredients in the pan of the bread mac...   \n179  [NOTE: Cassava, also known as Manioc, tapioca ...   \n180  [Combine all of the dry ingredients. Beat eggs...   \n181  [Preheat oven to 375 degrees F (190 degrees C)...   \n182  [Preheat oven to 350 degrees F (175 degrees C)...   \n183  [Preheat oven to 400 degrees F (205 degrees C)...   \n184  [Preheat oven to 350 degrees F (175 degrees C)...   \n185  [Preheat oven to 350 degrees F (175 degrees C)...   \n186  [In large bowl, combine 1-1/2 cups flour and y...   \n187  [Place all ingredients, except for the semi-sw...   \n188  [Place all ingredients in bread pan in order s...   \n189  [Combine baking soda with the boiling water. S...   \n190  [Preheat oven to 350 degrees F (175 degrees C)...   \n191  [Preheat oven to 375 degrees F (190 degrees C)...   \n192  [Combine and mix ingredients together. Pour ou...   \n193  [Preheat oven to 350 degrees F (175 degrees C)...   \n194  [Add ingredients according to the bread machin...   \n195  [Add ingredients according to the bread machin...   \n196  [Dissolve yeast in 1 cup warm water, set aside...   \n197  [Add the milk, salt, 2 tablespoons butter or m...   \n198  [Dissolve yeast in warm water with 1 tablespoo...   \n199  [Preheat the oven to 350 degrees F (175 degree...   \n200  [Add ingredients according to the manufacturer...   \n201  [Remove baking pan from machine. Place yeast, ...   \n202  [Preheat oven to 400 degrees F (200 degrees C)...   \n\n                                             photo_url  \\\n0    http://images.media-allrecipes.com/userphotos/...   \n1    http://images.media-allrecipes.com/userphotos/...   \n2    http://images.media-allrecipes.com/userphotos/...   \n3    http://images.media-allrecipes.com/userphotos/...   \n4    http://images.media-allrecipes.com/userphotos/...   \n5    http://images.media-allrecipes.com/userphotos/...   \n6    http://images.media-allrecipes.com/userphotos/...   \n7    http://images.media-allrecipes.com/userphotos/...   \n8    http://images.media-allrecipes.com/userphotos/...   \n9    http://images.media-allrecipes.com/userphotos/...   \n10   http://images.media-allrecipes.com/userphotos/...   \n11   http://images.media-allrecipes.com/userphotos/...   \n12   http://images.media-allrecipes.com/userphotos/...   \n13   http://images.media-allrecipes.com/userphotos/...   \n14   http://images.media-allrecipes.com/userphotos/...   \n15   http://images.media-allrecipes.com/userphotos/...   \n16   http://images.media-allrecipes.com/userphotos/...   \n17   http://images.media-allrecipes.com/userphotos/...   \n18   http://images.media-allrecipes.com/userphotos/...   \n19   http://images.media-allrecipes.com/userphotos/...   \n20   http://images.media-allrecipes.com/userphotos/...   \n21   http://images.media-allrecipes.com/userphotos/...   \n22   http://images.media-allrecipes.com/userphotos/...   \n23   http://images.media-allrecipes.com/userphotos/...   \n24   http://images.media-allrecipes.com/userphotos/...   \n25   http://images.media-allrecipes.com/userphotos/...   \n26   http://images.media-allrecipes.com/userphotos/...   \n27   http://images.media-allrecipes.com/userphotos/...   \n28   http://images.media-allrecipes.com/userphotos/...   \n29   http://images.media-allrecipes.com/userphotos/...   \n30   http://images.media-allrecipes.com/userphotos/...   \n31   http://images.media-allrecipes.com/userphotos/...   \n32   http://images.media-allrecipes.com/userphotos/...   \n33   http://images.media-allrecipes.com/userphotos/...   \n34   http://images.media-allrecipes.com/userphotos/...   \n35   http://images.media-allrecipes.com/userphotos/...   \n36   http://images.media-allrecipes.com/userphotos/...   \n37   http://images.media-allrecipes.com/userphotos/...   \n38   http://images.media-allrecipes.com/userphotos/...   \n39   http://images.media-allrecipes.com/userphotos/...   \n40   http://images.media-allrecipes.com/userphotos/...   \n41   http://images.media-allrecipes.com/userphotos/...   \n42   http://images.media-allrecipes.com/userphotos/...   \n43   http://images.media-allrecipes.com/userphotos/...   \n44   http://images.media-allrecipes.com/userphotos/...   \n45   http://images.media-allrecipes.com/userphotos/...   \n46   http://images.media-allrecipes.com/userphotos/...   \n47   http://images.media-allrecipes.com/userphotos/...   \n48   http://images.media-allrecipes.com/userphotos/...   \n49   http://images.media-allrecipes.com/userphotos/...   \n50   http://images.media-allrecipes.com/userphotos/...   \n51   http://images.media-allrecipes.com/userphotos/...   \n52   http://images.media-allrecipes.com/userphotos/...   \n53   http://images.media-allrecipes.com/userphotos/...   \n54   http://images.media-allrecipes.com/userphotos/...   \n55   http://images.media-allrecipes.com/userphotos/...   \n56   http://images.media-allrecipes.com/userphotos/...   \n57   http://images.media-allrecipes.com/userphotos/...   \n58   http://images.media-allrecipes.com/userphotos/...   \n59   http://images.media-allrecipes.com/userphotos/...   \n60   http://images.media-allrecipes.com/userphotos/...   \n61   http://images.media-allrecipes.com/userphotos/...   \n62   http://images.media-allrecipes.com/userphotos/...   \n63   http://images.media-allrecipes.com/userphotos/...   \n65   http://images.media-allrecipes.com/userphotos/...   \n66   http://images.media-allrecipes.com/userphotos/...   \n67   http://images.media-allrecipes.com/userphotos/...   \n68   http://images.media-allrecipes.com/userphotos/...   \n69   http://images.media-allrecipes.com/userphotos/...   \n70   http://images.media-allrecipes.com/userphotos/...   \n71   http://images.media-allrecipes.com/userphotos/...   \n72   http://images.media-allrecipes.com/userphotos/...   \n73   http://images.media-allrecipes.com/userphotos/...   \n74   http://images.media-allrecipes.com/userphotos/...   \n75   http://images.media-allrecipes.com/userphotos/...   \n76   http://images.media-allrecipes.com/userphotos/...   \n77   http://images.media-allrecipes.com/userphotos/...   \n78   http://images.media-allrecipes.com/userphotos/...   \n79   http://images.media-allrecipes.com/userphotos/...   \n80   http://images.media-allrecipes.com/userphotos/...   \n81   http://images.media-allrecipes.com/userphotos/...   \n82   http://images.media-allrecipes.com/userphotos/...   \n83   http://images.media-allrecipes.com/userphotos/...   \n84   http://images.media-allrecipes.com/userphotos/...   \n85   http://images.media-allrecipes.com/userphotos/...   \n86   http://images.media-allrecipes.com/userphotos/...   \n87   http://images.media-allrecipes.com/userphotos/...   \n88   http://images.media-allrecipes.com/userphotos/...   \n89   http://images.media-allrecipes.com/userphotos/...   \n90   http://images.media-allrecipes.com/userphotos/...   \n91   http://images.media-allrecipes.com/userphotos/...   \n92   http://images.media-allrecipes.com/userphotos/...   \n93   http://images.media-allrecipes.com/userphotos/...   \n94   http://images.media-allrecipes.com/userphotos/...   \n95   http://images.media-allrecipes.com/userphotos/...   \n96   http://images.media-allrecipes.com/userphotos/...   \n97   http://images.media-allrecipes.com/userphotos/...   \n98   http://images.media-allrecipes.com/userphotos/...   \n99   http://images.media-allrecipes.com/userphotos/...   \n100  http://images.media-allrecipes.com/userphotos/...   \n101  http://images.media-allrecipes.com/userphotos/...   \n102  http://images.media-allrecipes.com/userphotos/...   \n103  http://images.media-allrecipes.com/userphotos/...   \n104  http://images.media-allrecipes.com/userphotos/...   \n105  http://images.media-allrecipes.com/userphotos/...   \n106  http://images.media-allrecipes.com/userphotos/...   \n107  http://images.media-allrecipes.com/userphotos/...   \n108  http://images.media-allrecipes.com/userphotos/...   \n109  http://images.media-allrecipes.com/userphotos/...   \n110  http://images.media-allrecipes.com/userphotos/...   \n111  http://images.media-allrecipes.com/userphotos/...   \n112  http://images.media-allrecipes.com/userphotos/...   \n113  http://images.media-allrecipes.com/userphotos/...   \n114  http://images.media-allrecipes.com/userphotos/...   \n115  http://images.media-allrecipes.com/userphotos/...   \n116  http://images.media-allrecipes.com/userphotos/...   \n117  http://images.media-allrecipes.com/userphotos/...   \n118  http://images.media-allrecipes.com/userphotos/...   \n119  http://images.media-allrecipes.com/userphotos/...   \n120  http://images.media-allrecipes.com/userphotos/...   \n121  http://images.media-allrecipes.com/userphotos/...   \n123  http://images.media-allrecipes.com/userphotos/...   \n124  http://images.media-allrecipes.com/userphotos/...   \n125  http://images.media-allrecipes.com/userphotos/...   \n126  http://images.media-allrecipes.com/userphotos/...   \n127  http://images.media-allrecipes.com/userphotos/...   \n128  http://images.media-allrecipes.com/userphotos/...   \n129  http://images.media-allrecipes.com/userphotos/...   \n130  http://images.media-allrecipes.com/userphotos/...   \n131  http://images.media-allrecipes.com/userphotos/...   \n132  http://images.media-allrecipes.com/userphotos/...   \n133  http://images.media-allrecipes.com/userphotos/...   \n134  http://images.media-allrecipes.com/userphotos/...   \n135  http://images.media-allrecipes.com/userphotos/...   \n136  http://images.media-allrecipes.com/userphotos/...   \n137  http://images.media-allrecipes.com/userphotos/...   \n138  http://images.media-allrecipes.com/userphotos/...   \n139  http://images.media-allrecipes.com/userphotos/...   \n140  http://images.media-allrecipes.com/userphotos/...   \n141  http://images.media-allrecipes.com/userphotos/...   \n142  http://images.media-allrecipes.com/userphotos/...   \n143  http://images.media-allrecipes.com/userphotos/...   \n144  http://images.media-allrecipes.com/userphotos/...   \n145  http://images.media-allrecipes.com/userphotos/...   \n146  http://images.media-allrecipes.com/userphotos/...   \n148  http://images.media-allrecipes.com/userphotos/...   \n149  http://images.media-allrecipes.com/userphotos/...   \n150  http://images.media-allrecipes.com/userphotos/...   \n151  http://images.media-allrecipes.com/userphotos/...   \n152  http://images.media-allrecipes.com/userphotos/...   \n153  http://images.media-allrecipes.com/userphotos/...   \n154  http://images.media-allrecipes.com/userphotos/...   \n155  http://images.media-allrecipes.com/userphotos/...   \n156  http://images.media-allrecipes.com/userphotos/...   \n157  http://images.media-allrecipes.com/userphotos/...   \n158  http://images.media-allrecipes.com/userphotos/...   \n159  http://images.media-allrecipes.com/userphotos/...   \n160  http://images.media-allrecipes.com/userphotos/...   \n161  http://images.media-allrecipes.com/userphotos/...   \n162  http://images.media-allrecipes.com/userphotos/...   \n163  http://images.media-allrecipes.com/userphotos/...   \n164  http://images.media-allrecipes.com/userphotos/...   \n165  http://images.media-allrecipes.com/userphotos/...   \n166  http://images.media-allrecipes.com/userphotos/...   \n167  http://images.media-allrecipes.com/userphotos/...   \n168  http://images.media-allrecipes.com/userphotos/...   \n169  http://images.media-allrecipes.com/userphotos/...   \n170  http://images.media-allrecipes.com/userphotos/...   \n171  http://images.media-allrecipes.com/userphotos/...   \n172  http://images.media-allrecipes.com/userphotos/...   \n173  http://images.media-allrecipes.com/userphotos/...   \n174  http://images.media-allrecipes.com/userphotos/...   \n175  http://images.media-allrecipes.com/userphotos/...   \n176  http://images.media-allrecipes.com/userphotos/...   \n177  http://images.media-allrecipes.com/userphotos/...   \n178  http://images.media-allrecipes.com/userphotos/...   \n179  http://images.media-allrecipes.com/userphotos/...   \n180  http://images.media-allrecipes.com/userphotos/...   \n181  http://images.media-allrecipes.com/userphotos/...   \n182  http://images.media-allrecipes.com/userphotos/...   \n183  http://images.media-allrecipes.com/userphotos/...   \n184  http://images.media-allrecipes.com/userphotos/...   \n185  http://images.media-allrecipes.com/userphotos/...   \n186  http://images.media-allrecipes.com/userphotos/...   \n187  http://images.media-allrecipes.com/userphotos/...   \n188  http://images.media-allrecipes.com/userphotos/...   \n189  http://images.media-allrecipes.com/userphotos/...   \n190  http://images.media-allrecipes.com/userphotos/...   \n191  http://images.media-allrecipes.com/userphotos/...   \n192  http://images.media-allrecipes.com/userphotos/...   \n193  http://images.media-allrecipes.com/userphotos/...   \n194  http://images.media-allrecipes.com/userphotos/...   \n195  http://images.media-allrecipes.com/userphotos/...   \n196  http://images.media-allrecipes.com/userphotos/...   \n197  http://images.media-allrecipes.com/userphotos/...   \n198  http://images.media-allrecipes.com/userphotos/...   \n199  http://images.media-allrecipes.com/userphotos/...   \n200  http://images.media-allrecipes.com/userphotos/...   \n201  http://images.media-allrecipes.com/userphotos/...   \n202  http://images.media-allrecipes.com/userphotos/...   \n\n                                                 title  \\\n0    Basil, Roasted Peppers and Monterey Jack Cornb...   \n1                                 Crispy Cheese Twists   \n2                                    Mom's Yeast Rolls   \n3                                 Sweet Potato Bread I   \n4                                          Orange Buns   \n5                                       Cornish Splits   \n6                                Jalapeno Cheese Bread   \n7                                   Dee's Health Bread   \n8                                      Oatmeal Bread I   \n9                                   Strawberry Bread I   \n10            Sun Dried Tomato and Asiago Cheese Bread   \n11                                Hawaiian Sweet Bread   \n12                 The Best Corn Bread You'll Ever Eat   \n13                         No Knead Refrigerator Rolls   \n14                                 Sourdough Starter I   \n15                                   Sourdough Bread I   \n16                                         Dilly Bread   \n17                                     Pumpkin Bread I   \n18                                        Sy's Challah   \n19                                       Onion Bread I   \n20                      Grandma VanDoren's White Bread   \n21                                     Italian Bread I   \n22                                 Sunday Dinner Rolls   \n23                                  Banana Wheat Bread   \n24                                        Banana Bread   \n25                                 Candied Fruit Bread   \n26                                 Nut and Fruit Bread   \n27                               Mother's Banana Bread   \n28                                Pumpernickel Bread I   \n29                                  Buttermilk Bread I   \n30                           Sun Dried Tomato Focaccia   \n31                             Michell Jenny's Challah   \n32                                      Potato Bread I   \n33                             Delicious Pumpkin Bread   \n34                                Mom's Zucchini Bread   \n35                           Cinnamon Cranraisin Bread   \n36                             Molasses-Oat Bran Bread   \n37                             Fabulous Homemade Bread   \n38                                   Persimmon Bread I   \n39                               Cinnamon Carrot Bread   \n40                                 Strawberry Bread II   \n41                         Alienated Blueberry Muffins   \n42                                   Yummy Lemon Bread   \n43                  Nick's Favorite Cherry Pecan Bread   \n44                                 Swedish Rye Bread I   \n45                                      Bran Muffins I   \n46                               Zucchini Walnut Bread   \n47                                   Apricot Nut Bread   \n48                                             Babka I   \n49                              Brazilian Banana Bread   \n50                                   Easy Banana Bread   \n51                                  Banana Oat Muffins   \n52                                  Canadian Doughnuts   \n53                                        Beer Bread I   \n54                                       Beer Biscuits   \n55                                      Cardamom Bread   \n56                                       Three C Bread   \n57          Grandma Cornish's Whole Wheat Potato Bread   \n58                                     Chocolate Bread   \n59                          Strawberry Rhubarb Muffins   \n60                                  Poppy Seed Bread I   \n61                                      Zucchini Bread   \n62                                 Honey Wheat Bread I   \n63                                   Honey White Bread   \n65                        Quick Lemon Poppy Seed Bread   \n66                                Maple Zucchini Bread   \n67                Chocolate Chip Orange Zucchini Bread   \n68                        Chocolate Chip Pumpkin Bread   \n69                                 Red Pepper Biscuits   \n70                       Chocolate Wave Zucchini Bread   \n71                              Wheat and Barley Bread   \n72                                      Tomato Bread I   \n73                                   Zucchini Bread II   \n74                                       Mall Pretzels   \n75                                     Soft Pretzels I   \n76                                  Sweet Potato Rolls   \n77                                        Tea Biscuits   \n78                                    Cheddar Biscuits   \n79                                  Cottage Dill Bread   \n80                               English Muffin Loaves   \n81                             Parmesan Focaccia Bread   \n82                                        Darbey Bread   \n83                        Nonfat Sour Cream Cake Bread   \n84                                     Coconut Bread I   \n85                                  Irish Soda Bread I   \n86                                            Ciabatta   \n87                          Lower Fat Banana Nut Bread   \n88                                    Orange Nut Bread   \n89                                 Poppy Seed Bread II   \n90                      Oatmeal Chocolate Chip Muffins   \n91                            Lower Fat Banana Bread I   \n92                                  Sourdough Bread II   \n93                                 Parmesan Herb Bread   \n94                                 Simple Banana Bread   \n95                                  Unbelievable Rolls   \n96                                   Pecan Sticky Buns   \n97                                           Challah I   \n98                                          Tasty Buns   \n99                                   Breakfast Muffins   \n100                               Honey Wheat Bread II   \n101                              Special Pumpkin Bread   \n102                                    4H Banana Bread   \n103                          Oatmeal Blueberry Muffins   \n104                                      Instant Rolls   \n105                                  Basic Sweet Dough   \n106                                        Lemon Bread   \n107                              Pumpkin Coconut Bread   \n108                                 Simple White Bread   \n109                     Hazelnut Chocolate Chip Scones   \n110                           Simple Whole Wheat Bread   \n111                                     Rye Beer Bread   \n112                          Mrs. Kurtz's Banana Bread   \n113                                      Pizza Dough I   \n114                                 Banana Nut Bread I   \n115                        Blue Ribbon Overnight Rolls   \n116                            Cinnamon Raisin Bread I   \n117                            Homemade Focaccia Bread   \n118                                Whole Wheat Bread I   \n119                            Sourdough Drop Biscuits   \n120                               Sourdough Starter II   \n121                                Milk and Honey Loaf   \n123                               Italian Herb Bread I   \n124                                    Potato Bread II   \n125                                  Amish White Bread   \n126                             Cottage Cheese Bread I   \n127                                   Nana's Nut Bread   \n128                                Irish Soda Bread II   \n129                                 Zucchini Bread III   \n130                                   Cinnamon Rolls I   \n131                         Sweet Potato Pecan Waffles   \n132                       Mom's Baking Powder Biscuits   \n133                                        Cornbread I   \n134                                   Pumpkin Bread II   \n135                            Cranberry Pumpkin Bread   \n136                            Honey Whole Wheat Bread   \n137                                    Basic Rye Bread   \n138                                  Oat-N-Honey Bread   \n139                            Mexican Style Cornbread   \n140                                        Olive Bread   \n141                   Donna's Chocolate Zucchini Bread   \n142                                Blueberry Muffins I   \n143                                            Calzone   \n144                     Uncle Wynn's Bread Machine Rye   \n145                                      Beer Bread II   \n146                                   Garden Herb Loaf   \n148                                        Panettone I   \n149                              Potato Rosemary Rolls   \n150                  White Bread For The Bread Machine   \n151                            Valentino's Pizza Crust   \n152                                     Monkey Bread I   \n153                                   Italian Bread II   \n154                                 New York Rye Bread   \n155                           Sweet Honey French Bread   \n156                          Pineapple Tangerine Bread   \n157                       Downeast Maine Pumpkin Bread   \n158                                 Peppy's Pita Bread   \n159                           Pineapple Zucchini Bread   \n160                               Walnut Raisin Scones   \n161                                Pumpkin Nut Muffins   \n162                                     Orange Muffins   \n163                                   Yogurt Cornbread   \n164                                           Bagels I   \n165                                        Tortillas I   \n166                 Whole Wheat Banana Strawberry Loaf   \n167                                    Cheddar Muffins   \n168                             Burger or Hot Dog Buns   \n169                             Buttermilk White Bread   \n170                             Carolyn's Orange Rolls   \n171             Orange Juice Muffins with Honey Spread   \n172                             Seminole Pumpkin Bread   \n173                             Garlic Cheese Biscuits   \n174                                  Quick Sticky Buns   \n175                               Poppy Seed Bread III   \n176                                    Sweeter Muffins   \n177                                  Pumpkin Bread III   \n178                    Whole Wheat Zucchini Herb Bread   \n179                                  Chinky's Bibingka   \n180                               Chinky's Mango Bread   \n181                                Chinky's Puto Bread   \n182                                Baked Pumpkin Bread   \n183                               Blueberry Muffins II   \n184                                 Eggnog Quick Bread   \n185                               Strawberry Nut Bread   \n186                                      Boiled Bagels   \n187                                  Mocha Cream Bread   \n188                                  Pina Colada Bread   \n189                                     Date Nut Bread   \n190                             Blueberry Monkey Bread   \n191                  Streusel Topped Blueberry Muffins   \n192                                      Easy Biscuits   \n193                           Amish Friendship Bread I   \n194                                   Jalapeno Bread I   \n195                                  Jalapeno Bread II   \n196                             Sourdough Tomato Bread   \n197                        Chocolate Chip Almond Bread   \n198                                Hot Onion Pinwheels   \n199                                   Pumpkin Bread IV   \n200                                  Italian Bread III   \n201                                    Monkey Bread II   \n202                       To Die For Blueberry Muffins   \n\n                                        recipe_name  \\\n0    basil, roasted peppers monterey jack cornbread   \n1                              crispy cheese twists   \n2                                 mom's yeast rolls   \n3                              sweet potato bread i   \n4                                       orange buns   \n5                                    cornish splits   \n6                             jalapeno cheese bread   \n7                                dee's health bread   \n8                                   oatmeal bread i   \n9                                strawberry bread i   \n10             sun dried tomato asiago cheese bread   \n11                              hawa an sweet bread   \n12                 the   corn bread you'll ever eat   \n13                      no knead refrigerator rolls   \n14                              sourdough starter i   \n15                                sourdough bread i   \n16                                      dilly bread   \n17                                  pumpkin bread i   \n18                                     sy's challah   \n19                                    onion bread i   \n20                   grandma vandoren's white bread   \n21                                  italian bread i   \n22                              sunday dinner rolls   \n23                               banana wheat bread   \n24                                     banana bread   \n25                              candied fruit bread   \n26                                  nut fruit bread   \n27                            mother's banana bread   \n28                             pumpernickel bread i   \n29                               buttermilk bread i   \n30                        sun dried tomato focaccia   \n31                          michell jenny's challah   \n32                                   potato bread i   \n33                          delicious pumpkin bread   \n34                             mom's zucchini bread   \n35                        cinnamon cranraisin bread   \n36                          molasses-oat bran bread   \n37                          fabulous homemade bread   \n38                                persimmon bread i   \n39                            cinnamon carrot bread   \n40                               strawberry bread     \n41                      alienated blueberry muffins   \n42                                yummy lemon bread   \n43               nick's favorite cherry pecan bread   \n44                              swedish rye bread i   \n45                                   bran muffins i   \n46                            zucchini walnut bread   \n47                                apricot nut bread   \n48                                          babka i   \n49                           brazilian banana bread   \n50                                     banana bread   \n51                               banana oat muffins   \n52                               canadian doughnuts   \n53                                     beer bread i   \n54                                    beer biscuits   \n55                                   cardamom bread   \n56                                    three c bread   \n57       grandma cornish's whole wheat potato bread   \n58                                  chocolate bread   \n59                       strawberry rhubarb muffins   \n60                               poppy seed bread i   \n61                                   zucchini bread   \n62                              honey wheat bread i   \n63                                honey white bread   \n65                     quick lemon poppy seed bread   \n66                             maple zucchini bread   \n67             chocolate chip orange zucchini bread   \n68                     chocolate chip pumpkin bread   \n69                              red pepper biscuits   \n70                    chocolate wave zucchini bread   \n71                               wheat barley bread   \n72                                   tomato bread i   \n73                                 zucchini bread     \n74                                    mall pretzels   \n75                                  soft pretzels i   \n76                               sweet potato rolls   \n77                                     tea biscuits   \n78                                 cheddar biscuits   \n79                               cottage dill bread   \n80                            english muffin loaves   \n81                          parmesan focaccia bread   \n82                                     darbey bread   \n83                     nonfat sour cream cake bread   \n84                                  coconut bread i   \n85                               irish soda bread i   \n86                                         ciabatta   \n87                       lower fat banana nut bread   \n88                                 orange nut bread   \n89                               poppy seed bread     \n90                   oatmeal chocolate chip muffins   \n91                         lower fat banana bread i   \n92                                sourdough bread     \n93                              parmesan herb bread   \n94                              simple banana bread   \n95                               unbelievable rolls   \n96                                pecan sticky buns   \n97                                        challah i   \n98                                       tasty buns   \n99                                breakfast muffins   \n100                             honey wheat bread     \n101                           special pumpkin bread   \n102                                 4h banana bread   \n103                       oatmeal blueberry muffins   \n104                                   instant rolls   \n105                               basic sweet dough   \n106                                     lemon bread   \n107                           pumpkin coconut bread   \n108                              simple white bread   \n109                  hazelnut chocolate chip scones   \n110                        simple whole wheat bread   \n111                                  rye beer bread   \n112                       mrs. kurtz's banana bread   \n113                                   pizza dough i   \n114                              banana nut bread i   \n115                     blue ribbon overnight rolls   \n116                         cinnamon raisin bread i   \n117                         homemade focaccia bread   \n118                             whole wheat bread i   \n119                         sourdough drop biscuits   \n120                             sourdough starter     \n121                                 milk honey loaf   \n123                            italian herb bread i   \n124                                  potato bread     \n125                               amish white bread   \n126                          cottage cheese bread i   \n127                                nana's nut bread   \n128                              irish soda bread     \n129                               zucchini bread  i   \n130                                cinnamon rolls i   \n131                      sweet potato pecan waffles   \n132                    mom's baking powder biscuits   \n133                                     cornbread i   \n134                                 pumpkin bread     \n135                         cranberry pumpkin bread   \n136                         honey whole wheat bread   \n137                                 basic rye bread   \n138                               oat-n-honey bread   \n139                         mexican style cornbread   \n140                                      ol e bread   \n141                donna's chocolate zucchini bread   \n142                             blueberry muffins i   \n143                                         calzone   \n144                  uncle wynn's bread machine rye   \n145                                    beer bread     \n146                                garden herb loaf   \n148                                     panettone i   \n149                           potato rosemary rolls   \n150                   white bread for bread machine   \n151                         valentino's pizza crust   \n152                                  monkey bread i   \n153                                 italian bread     \n154                              new york rye bread   \n155                        sweet honey french bread   \n156                       pineapple tangerine bread   \n157                    downeast maine pumpkin bread   \n158                              peppy's pita bread   \n159                        pineapple zucchini bread   \n160                            walnut raisin scones   \n161                             pumpkin nut muffins   \n162                                  orange muffins   \n163                                yogurt cornbread   \n164                                        bagels i   \n165                                     tortillas i   \n166              whole wheat banana strawberry loaf   \n167                                 cheddar muffins   \n168                          burger or hot dog buns   \n169                          buttermilk white bread   \n170                          carolyn's orange rolls   \n171               orange juice muffins honey spread   \n172                          seminole pumpkin bread   \n173                          garlic cheese biscuits   \n174                               quick sticky buns   \n175                             poppy seed bread  i   \n176                                 sweeter muffins   \n177                                pumpkin bread  i   \n178                 whole wheat zucchini herb bread   \n179                               chinky's bibingka   \n180                            chinky's mango bread   \n181                             chinky's puto bread   \n182                             baked pumpkin bread   \n183                             blueberry muffins     \n184                              eggnog quick bread   \n185                            strawberry nut bread   \n186                                   boiled bagels   \n187                               mocha cream bread   \n188                               pina colada bread   \n189                                  date nut bread   \n190                          blueberry monkey bread   \n191               streusel topped blueberry muffins   \n192                                        biscuits   \n193                        amish friendship bread i   \n194                                jalapeno bread i   \n195                                jalapeno bread     \n196                          sourdough tomato bread   \n197                     chocolate chip almond bread   \n198                             hot onion pinwheels   \n199                                 pumpkin bread     \n200                                italian bread  i   \n201                                  monkey bread     \n202                    to die for blueberry muffins   \n\n                                  category  \n0                       [roasted, chicken]  \n1        [cheese, baked, macaroni, cheese]  \n2                                  [bread]  \n3                                  [bread]  \n4             [cranberry, orange, cookies]  \n5                  [banana, banana, bread]  \n6                                  [bread]  \n7                                  [bread]  \n8                                  [bread]  \n9                                  [bread]  \n10                                 [bread]  \n11                                 [bread]  \n12                                 [bread]  \n13                      [stuffed, chicken]  \n14                                 [bread]  \n15                                 [bread]  \n16                                 [bread]  \n17                                 [bread]  \n18                                 [bread]  \n19                                 [bread]  \n20                                 [bread]  \n21                                 [bread]  \n22                         [pumpkin, cake]  \n23                                 [bread]  \n24                 [banana, banana, bread]  \n25                                 [bread]  \n26                                 [bread]  \n27                 [banana, banana, bread]  \n28                                 [bread]  \n29                                 [bread]  \n30                       [tomato, chicken]  \n31                                 [bread]  \n32                                 [bread]  \n33                                 [bread]  \n34                                 [bread]  \n35                                 [bread]  \n36                                 [bread]  \n37                                 [bread]  \n38                                 [bread]  \n39                                 [bread]  \n40                                 [bread]  \n41                               [muffins]  \n42                                 [bread]  \n43                                 [bread]  \n44                                 [bread]  \n45                               [muffins]  \n46                                 [bread]  \n47                                 [bread]  \n48   [chocolate, chocolate, chip, cookies]  \n49                 [banana, banana, bread]  \n50                 [banana, banana, bread]  \n51                 [banana, banana, bread]  \n52                                 [bacon]  \n53                                 [bread]  \n54                 [garlic, steak, garlic]  \n55                                 [bread]  \n56                                 [bread]  \n57                                 [bread]  \n58                                 [bread]  \n59                   [strawberry, chicken]  \n60                                 [bread]  \n61                                 [bread]  \n62                                 [bread]  \n63                                 [bread]  \n65                                 [bread]  \n66                                 [bread]  \n67                                 [bread]  \n68                                 [bread]  \n69                  [red, pepper, chicken]  \n70                                 [bread]  \n71                                 [bread]  \n72                                 [bread]  \n73                                 [bread]  \n74                                 [bacon]  \n75   [chocolate, chocolate, chip, cookies]  \n76         [sweet, spicy, sweet, potatoes]  \n77                 [garlic, steak, garlic]  \n78                                 [bacon]  \n79                                 [bread]  \n80                               [muffins]  \n81                                 [bread]  \n82                                 [bread]  \n83                                 [bread]  \n84                      [coconut, chicken]  \n85                                 [bread]  \n86                                 [bread]  \n87                 [banana, banana, bread]  \n88                                 [bread]  \n89                                 [bread]  \n90                               [muffins]  \n91                 [banana, banana, bread]  \n92                                 [bread]  \n93                                 [bread]  \n94                 [banana, banana, bread]  \n95                      [stuffed, chicken]  \n96                  [pie, strawberry, pie]  \n97                                 [bread]  \n98                                [turkey]  \n99                               [muffins]  \n100                                [bread]  \n101                                [bread]  \n102                [banana, banana, bread]  \n103                              [muffins]  \n104                     [stuffed, chicken]  \n105        [sweet, spicy, sweet, potatoes]  \n106                                [bread]  \n107                     [coconut, chicken]  \n108                                [bread]  \n109  [chocolate, chocolate, chip, cookies]  \n110                                [bread]  \n111                                [bread]  \n112                [banana, banana, bread]  \n113                       [pizza, chicken]  \n114                [banana, banana, bread]  \n115      [cheese, baked, macaroni, cheese]  \n116                                [bread]  \n117                                [bread]  \n118                                [bread]  \n119                [garlic, steak, garlic]  \n120                                [bread]  \n121                       [ham, pineapple]  \n123                                [bread]  \n124                                [bread]  \n125                                [bread]  \n126                                [bread]  \n127                                [bread]  \n128                                [bread]  \n129                                [bread]  \n130                         [apple, salad]  \n131        [sweet, spicy, sweet, potatoes]  \n132                [garlic, steak, garlic]  \n133                              [muffins]  \n134                                [bread]  \n135                                [bread]  \n136                                [bread]  \n137                                [bread]  \n138                                [bread]  \n139              [italian, style, sausage]  \n140                                [bread]  \n141                                [bread]  \n142                              [muffins]  \n143                       [spinach, salad]  \n144                                [bread]  \n145                                [bread]  \n146                [garlic, steak, garlic]  \n148                                [bread]  \n149         [sweet, potato, potato, salad]  \n150                                [bread]  \n151                       [pizza, chicken]  \n152                                [bread]  \n153                                [bread]  \n154                                [bread]  \n155                                [bread]  \n156                                [bread]  \n157                                [bread]  \n158                                [bread]  \n159                                [bread]  \n160                                [bread]  \n161                        [pumpkin, cake]  \n162                              [muffins]  \n163                              [muffins]  \n164                       [ham, pineapple]  \n165                          [corn, salad]  \n166                [banana, banana, bread]  \n167                              [muffins]  \n168                                  [dip]  \n169                                [bread]  \n170           [cranberry, orange, cookies]  \n171                              [muffins]  \n172                                [bread]  \n173                [garlic, steak, garlic]  \n174                                [chili]  \n175                                [bread]  \n176                              [muffins]  \n177                                [bread]  \n178                                [bread]  \n179                                [bread]  \n180                                [bread]  \n181                                [bread]  \n182                       [baked, chicken]  \n183                              [muffins]  \n184                                [bread]  \n185                                [bread]  \n186                                [bacon]  \n187                                [bread]  \n188                                [bread]  \n189                                [bread]  \n190                                [bread]  \n191                              [muffins]  \n192                [garlic, steak, garlic]  \n193                                [bread]  \n194                                [bread]  \n195                                [bread]  \n196                                [bread]  \n197                                [bread]  \n198                                  [dip]  \n199                                [bread]  \n200                                [bread]  \n201                                [bread]  \n202                              [muffins]  ",
      "text/html": "<div>\n<style scoped>\n    .dataframe tbody tr th:only-of-type {\n        vertical-align: middle;\n    }\n\n    .dataframe tbody tr th {\n        vertical-align: top;\n    }\n\n    .dataframe thead th {\n        text-align: right;\n    }\n</style>\n<table border=\"1\" class=\"dataframe\">\n  <thead>\n    <tr style=\"text-align: right;\">\n      <th></th>\n      <th>ingredients</th>\n      <th>instructions</th>\n      <th>photo_url</th>\n      <th>title</th>\n      <th>recipe_name</th>\n      <th>category</th>\n    </tr>\n  </thead>\n  <tbody>\n    <tr>\n      <th>0</th>\n      <td>[1/2 cup unsalted butter, chilled and cubed, 1...</td>\n      <td>[Preheat oven to 400 degrees F (205 degrees C)...</td>\n      <td>http://images.media-allrecipes.com/userphotos/...</td>\n      <td>Basil, Roasted Peppers and Monterey Jack Cornb...</td>\n      <td>basil, roasted peppers monterey jack cornbread</td>\n      <td>[roasted, chicken]</td>\n    </tr>\n    <tr>\n      <th>1</th>\n      <td>[1/2 cup Parmesan cheese, 3/4 teaspoon ground ...</td>\n      <td>[Combine parmesan cheese, pepper and garlic po...</td>\n      <td>http://images.media-allrecipes.com/userphotos/...</td>\n      <td>Crispy Cheese Twists</td>\n      <td>crispy cheese twists</td>\n      <td>[cheese, baked, macaroni, cheese]</td>\n    </tr>\n    <tr>\n      <th>2</th>\n      <td>[2 cups hot water, 1/2 cup margarine, 1/3 cup ...</td>\n      <td>[Melt margarine in hot water. Add sugar and sa...</td>\n      <td>http://images.media-allrecipes.com/userphotos/...</td>\n      <td>Mom's Yeast Rolls</td>\n      <td>mom's yeast rolls</td>\n      <td>[bread]</td>\n    </tr>\n    <tr>\n      <th>3</th>\n      <td>[1 1/2 cups white sugar, 1/2 cup vegetable oil...</td>\n      <td>[Combine sugar and oil; beat well. Add eggs an...</td>\n      <td>http://images.media-allrecipes.com/userphotos/...</td>\n      <td>Sweet Potato Bread I</td>\n      <td>sweet potato bread i</td>\n      <td>[bread]</td>\n    </tr>\n    <tr>\n      <th>4</th>\n      <td>[1/4 cup butter, 1 teaspoon white sugar, 1 cup...</td>\n      <td>[Stir butter and 1 teaspoon sugar into the hot...</td>\n      <td>http://images.media-allrecipes.com/userphotos/...</td>\n      <td>Orange Buns</td>\n      <td>orange buns</td>\n      <td>[cranberry, orange, cookies]</td>\n    </tr>\n    <tr>\n      <th>5</th>\n      <td>[1 teaspoon active dry yeast, 1 1/4 cups lukew...</td>\n      <td>[In a small bowl, dissolve the yeast in the mi...</td>\n      <td>http://images.media-allrecipes.com/userphotos/...</td>\n      <td>Cornish Splits</td>\n      <td>cornish splits</td>\n      <td>[banana, banana, bread]</td>\n    </tr>\n    <tr>\n      <th>6</th>\n      <td>[8 cups all-purpose flour, 4 cups shredded Che...</td>\n      <td>[In a very large bowl, combine 7 cups of flour...</td>\n      <td>http://images.media-allrecipes.com/userphotos/...</td>\n      <td>Jalapeno Cheese Bread</td>\n      <td>jalapeno cheese bread</td>\n      <td>[bread]</td>\n    </tr>\n    <tr>\n      <th>7</th>\n      <td>[2 tablespoons active dry yeast, 1 teaspoon wh...</td>\n      <td>[In a small bowl, dissolve the yeast and sugar...</td>\n      <td>http://images.media-allrecipes.com/userphotos/...</td>\n      <td>Dee's Health Bread</td>\n      <td>dee's health bread</td>\n      <td>[bread]</td>\n    </tr>\n    <tr>\n      <th>8</th>\n      <td>[1 cup rolled oats, 1/2 cup molasses, 1/3 cup ...</td>\n      <td>[Combine oats, molasses, oil, salt and boiling...</td>\n      <td>http://images.media-allrecipes.com/userphotos/...</td>\n      <td>Oatmeal Bread I</td>\n      <td>oatmeal bread i</td>\n      <td>[bread]</td>\n    </tr>\n    <tr>\n      <th>9</th>\n      <td>[3 cups all-purpose flour, 2 cups white sugar,...</td>\n      <td>[Grease and flour a 9 x 5 inch pan well. Prehe...</td>\n      <td>http://images.media-allrecipes.com/userphotos/...</td>\n      <td>Strawberry Bread I</td>\n      <td>strawberry bread i</td>\n      <td>[bread]</td>\n    </tr>\n    <tr>\n      <th>10</th>\n      <td>[1 cup water, 2 tablespoons extra virgin olive...</td>\n      <td>[Place all ingredients into bread machine in o...</td>\n      <td>http://images.media-allrecipes.com/userphotos/...</td>\n      <td>Sun Dried Tomato and Asiago Cheese Bread</td>\n      <td>sun dried tomato asiago cheese bread</td>\n      <td>[bread]</td>\n    </tr>\n    <tr>\n      <th>11</th>\n      <td>[1 cup warm water, 5 tablespoons white sugar, ...</td>\n      <td>[Measure ingredients into the bread machine in...</td>\n      <td>http://images.media-allrecipes.com/userphotos/...</td>\n      <td>Hawaiian Sweet Bread</td>\n      <td>hawa an sweet bread</td>\n      <td>[bread]</td>\n    </tr>\n    <tr>\n      <th>12</th>\n      <td>[1 egg, 1 1/3 cups milk, 1/4 cup vegetable oil...</td>\n      <td>[Heat oven to 425 degrees F (220 degrees C). G...</td>\n      <td>http://images.media-allrecipes.com/userphotos/...</td>\n      <td>The Best Corn Bread You'll Ever Eat</td>\n      <td>the   corn bread you'll ever eat</td>\n      <td>[bread]</td>\n    </tr>\n    <tr>\n      <th>13</th>\n      <td>[4 1/2 teaspoons active dry yeast, 2 cups warm...</td>\n      <td>[In a large bowl, dissolve yeast in warm water...</td>\n      <td>http://images.media-allrecipes.com/userphotos/...</td>\n      <td>No Knead Refrigerator Rolls</td>\n      <td>no knead refrigerator rolls</td>\n      <td>[stuffed, chicken]</td>\n    </tr>\n    <tr>\n      <th>14</th>\n      <td>[3 tablespoons instant mashed potato flakes, 3...</td>\n      <td>[Combine instant potatoes, sugar, water, and y...</td>\n      <td>http://images.media-allrecipes.com/userphotos/...</td>\n      <td>Sourdough Starter I</td>\n      <td>sourdough starter i</td>\n      <td>[bread]</td>\n    </tr>\n    <tr>\n      <th>15</th>\n      <td>[1 cup sourdough starter, 1 1/2 cups warm wate...</td>\n      <td>[Mix sugar, corn oil, salt, water, and 1 cup o...</td>\n      <td>http://images.media-allrecipes.com/userphotos/...</td>\n      <td>Sourdough Bread I</td>\n      <td>sourdough bread i</td>\n      <td>[bread]</td>\n    </tr>\n    <tr>\n      <th>16</th>\n      <td>[1 (.25 ounce) package active dry yeast, 1/4 c...</td>\n      <td>[Stir the yeast into the warm water, and add a...</td>\n      <td>http://images.media-allrecipes.com/userphotos/...</td>\n      <td>Dilly Bread</td>\n      <td>dilly bread</td>\n      <td>[bread]</td>\n    </tr>\n    <tr>\n      <th>17</th>\n      <td>[3 1/2 cups all-purpose flour, 2 teaspoons bak...</td>\n      <td>[Preheat oven to 350 degrees F (175 degrees C)...</td>\n      <td>http://images.media-allrecipes.com/userphotos/...</td>\n      <td>Pumpkin Bread I</td>\n      <td>pumpkin bread i</td>\n      <td>[bread]</td>\n    </tr>\n    <tr>\n      <th>18</th>\n      <td>[1/4 cup white sugar, 1 tablespoon salt, 1/4 c...</td>\n      <td>[Place sugar, salt, and oil in either a mixing...</td>\n      <td>http://images.media-allrecipes.com/userphotos/...</td>\n      <td>Sy's Challah</td>\n      <td>sy's challah</td>\n      <td>[bread]</td>\n    </tr>\n    <tr>\n      <th>19</th>\n      <td>[2 (.25 ounce) packages active dry yeast, 3/4 ...</td>\n      <td>[Warm the milk in a small saucepan until it bu...</td>\n      <td>http://images.media-allrecipes.com/userphotos/...</td>\n      <td>Onion Bread I</td>\n      <td>onion bread i</td>\n      <td>[bread]</td>\n    </tr>\n    <tr>\n      <th>20</th>\n      <td>[3 cups warm water, 3 tablespoons active dry y...</td>\n      <td>[In a large bowl, combine warm water, yeast, s...</td>\n      <td>http://images.media-allrecipes.com/userphotos/...</td>\n      <td>Grandma VanDoren's White Bread</td>\n      <td>grandma vandoren's white bread</td>\n      <td>[bread]</td>\n    </tr>\n    <tr>\n      <th>21</th>\n      <td>[1/4 cup chopped sun-dried tomatoes, 2 1/2 cup...</td>\n      <td>[Preheat oven to 350 degrees F (175 degrees C)...</td>\n      <td>http://images.media-allrecipes.com/userphotos/...</td>\n      <td>Italian Bread I</td>\n      <td>italian bread i</td>\n      <td>[bread]</td>\n    </tr>\n    <tr>\n      <th>22</th>\n      <td>[1 (.25 ounce) package active dry yeast, 1/4 c...</td>\n      <td>[In a large bowl, stir yeast, 1/4 cup warm wat...</td>\n      <td>http://images.media-allrecipes.com/userphotos/...</td>\n      <td>Sunday Dinner Rolls</td>\n      <td>sunday dinner rolls</td>\n      <td>[pumpkin, cake]</td>\n    </tr>\n    <tr>\n      <th>23</th>\n      <td>[2 cups whole wheat flour, 1/4 cup wheat germ,...</td>\n      <td>[Grease a 9 x 5 inch loaf pan. Preheat oven to...</td>\n      <td>http://images.media-allrecipes.com/userphotos/...</td>\n      <td>Banana Wheat Bread</td>\n      <td>banana wheat bread</td>\n      <td>[bread]</td>\n    </tr>\n    <tr>\n      <th>24</th>\n      <td>[1 1/2 cups all-purpose flour, 1 teaspoon baki...</td>\n      <td>[Grease and flour two 7x3 inch loaf pans. Preh...</td>\n      <td>http://images.media-allrecipes.com/userphotos/...</td>\n      <td>Banana Bread</td>\n      <td>banana bread</td>\n      <td>[banana, banana, bread]</td>\n    </tr>\n    <tr>\n      <th>25</th>\n      <td>[2 cups sifted all-purpose flour, 4 teaspoons ...</td>\n      <td>[Grease an 8 x 5 inch loaf tin thoroughly. Pre...</td>\n      <td>http://images.media-allrecipes.com/userphotos/...</td>\n      <td>Candied Fruit Bread</td>\n      <td>candied fruit bread</td>\n      <td>[bread]</td>\n    </tr>\n    <tr>\n      <th>26</th>\n      <td>[2 cups sifted all-purpose flour, 4 teaspoons ...</td>\n      <td>[Grease an 8 x 5 inch loaf tin thoroughly. Pre...</td>\n      <td>http://images.media-allrecipes.com/userphotos/...</td>\n      <td>Nut and Fruit Bread</td>\n      <td>nut fruit bread</td>\n      <td>[bread]</td>\n    </tr>\n    <tr>\n      <th>27</th>\n      <td>[1 3/4 cups all-purpose flour, 2 teaspoons bak...</td>\n      <td>[Grease an 8x4 inch loaf pan. Preheat oven to ...</td>\n      <td>http://images.media-allrecipes.com/userphotos/...</td>\n      <td>Mother's Banana Bread</td>\n      <td>mother's banana bread</td>\n      <td>[banana, banana, bread]</td>\n    </tr>\n    <tr>\n      <th>28</th>\n      <td>[1 1/2 cups warm milk, 1 1/2 tablespoons veget...</td>\n      <td>[Place ingredients into the bread machine in o...</td>\n      <td>http://images.media-allrecipes.com/userphotos/...</td>\n      <td>Pumpernickel Bread I</td>\n      <td>pumpernickel bread i</td>\n      <td>[bread]</td>\n    </tr>\n    <tr>\n      <th>29</th>\n      <td>[1 1/2 cups buttermilk, 1 1/2 tablespoons marg...</td>\n      <td>[Place buttermilk, butter or margarine, sugar,...</td>\n      <td>http://images.media-allrecipes.com/userphotos/...</td>\n      <td>Buttermilk Bread I</td>\n      <td>buttermilk bread i</td>\n      <td>[bread]</td>\n    </tr>\n    <tr>\n      <th>30</th>\n      <td>[1 cup water, 3 cups bread flour, 2 tablespoon...</td>\n      <td>[Place water, flour, powdered milk, sugar, sal...</td>\n      <td>http://images.media-allrecipes.com/userphotos/...</td>\n      <td>Sun Dried Tomato Focaccia</td>\n      <td>sun dried tomato focaccia</td>\n      <td>[tomato, chicken]</td>\n    </tr>\n    <tr>\n      <th>31</th>\n      <td>[7/8 cup water, 1/2 tablespoon salt, 1/4 cup h...</td>\n      <td>[Place water, salt, honey, eggs, melted butter...</td>\n      <td>http://images.media-allrecipes.com/userphotos/...</td>\n      <td>Michell Jenny's Challah</td>\n      <td>michell jenny's challah</td>\n      <td>[bread]</td>\n    </tr>\n    <tr>\n      <th>32</th>\n      <td>[3/4 cup water, 2/3 cup instant mashed potato ...</td>\n      <td>[Add ingredients to bread machine in order sug...</td>\n      <td>http://images.media-allrecipes.com/userphotos/...</td>\n      <td>Potato Bread I</td>\n      <td>potato bread i</td>\n      <td>[bread]</td>\n    </tr>\n    <tr>\n      <th>33</th>\n      <td>[3 1/4 cups all-purpose flour, 3 cups white su...</td>\n      <td>[Grease and flour three 7 x 3 inch pans. Prehe...</td>\n      <td>http://images.media-allrecipes.com/userphotos/...</td>\n      <td>Delicious Pumpkin Bread</td>\n      <td>delicious pumpkin bread</td>\n      <td>[bread]</td>\n    </tr>\n    <tr>\n      <th>34</th>\n      <td>[3 cups all-purpose flour, 1 teaspoon salt, 1 ...</td>\n      <td>[Grease and flour two 8 x 4 inch pans. Preheat...</td>\n      <td>http://images.media-allrecipes.com/userphotos/...</td>\n      <td>Mom's Zucchini Bread</td>\n      <td>mom's zucchini bread</td>\n      <td>[bread]</td>\n    </tr>\n    <tr>\n      <th>35</th>\n      <td>[3/4 cup warm water, 1 egg, lightly beaten, 1 ...</td>\n      <td>[Place warm water, egg, butter or margarine, f...</td>\n      <td>http://images.media-allrecipes.com/userphotos/...</td>\n      <td>Cinnamon Cranraisin Bread</td>\n      <td>cinnamon cranraisin bread</td>\n      <td>[bread]</td>\n    </tr>\n    <tr>\n      <th>36</th>\n      <td>[1 (.25 ounce) package active dry yeast, 1 pin...</td>\n      <td>[In a large bowl, dissolve yeast and a pinch o...</td>\n      <td>http://images.media-allrecipes.com/userphotos/...</td>\n      <td>Molasses-Oat Bran Bread</td>\n      <td>molasses-oat bran bread</td>\n      <td>[bread]</td>\n    </tr>\n    <tr>\n      <th>37</th>\n      <td>[1/2 cup warm water, 3 (.25 ounce) packages ac...</td>\n      <td>[In the mixing bowl of an electric mixer, stir...</td>\n      <td>http://images.media-allrecipes.com/userphotos/...</td>\n      <td>Fabulous Homemade Bread</td>\n      <td>fabulous homemade bread</td>\n      <td>[bread]</td>\n    </tr>\n    <tr>\n      <th>38</th>\n      <td>[2 eggs, 1 1/2 cups all-purpose flour, 3/4 cup...</td>\n      <td>[Preheat oven to 325 degrees F (165 degrees C)...</td>\n      <td>http://images.media-allrecipes.com/userphotos/...</td>\n      <td>Persimmon Bread I</td>\n      <td>persimmon bread i</td>\n      <td>[bread]</td>\n    </tr>\n    <tr>\n      <th>39</th>\n      <td>[3/4 cup white sugar, 1/4 cup packed brown sug...</td>\n      <td>[Preheat oven to 350 degrees F (175 Degrees C)...</td>\n      <td>http://images.media-allrecipes.com/userphotos/...</td>\n      <td>Cinnamon Carrot Bread</td>\n      <td>cinnamon carrot bread</td>\n      <td>[bread]</td>\n    </tr>\n    <tr>\n      <th>40</th>\n      <td>[1/2 cup butter, softened, 1 cup white sugar, ...</td>\n      <td>[Lightly grease a 9 x 5 inch glass loaf pan, a...</td>\n      <td>http://images.media-allrecipes.com/userphotos/...</td>\n      <td>Strawberry Bread II</td>\n      <td>strawberry bread</td>\n      <td>[bread]</td>\n    </tr>\n    <tr>\n      <th>41</th>\n      <td>[2 cups fresh blueberries, 1/4 cup all-purpose...</td>\n      <td>[Preheat oven to 375 degrees F (190 degrees C)...</td>\n      <td>http://images.media-allrecipes.com/userphotos/...</td>\n      <td>Alienated Blueberry Muffins</td>\n      <td>alienated blueberry muffins</td>\n      <td>[muffins]</td>\n    </tr>\n    <tr>\n      <th>42</th>\n      <td>[6 tablespoons butter, melted, 1 cup white sug...</td>\n      <td>[Generously grease a 9 x 5 inch loaf pan. Preh...</td>\n      <td>http://images.media-allrecipes.com/userphotos/...</td>\n      <td>Yummy Lemon Bread</td>\n      <td>yummy lemon bread</td>\n      <td>[bread]</td>\n    </tr>\n    <tr>\n      <th>43</th>\n      <td>[1/2 cup margarine, 3/4 cup white sugar, 2 egg...</td>\n      <td>[Preheat oven to 350 degrees F (175 degrees C)...</td>\n      <td>http://images.media-allrecipes.com/userphotos/...</td>\n      <td>Nick's Favorite Cherry Pecan Bread</td>\n      <td>nick's favorite cherry pecan bread</td>\n      <td>[bread]</td>\n    </tr>\n    <tr>\n      <th>44</th>\n      <td>[1 1/2 (0.6 ounce) cakes compressed fresh yeas...</td>\n      <td>[Dissolve yeast in warm water., Scald milk. Tr...</td>\n      <td>http://images.media-allrecipes.com/userphotos/...</td>\n      <td>Swedish Rye Bread I</td>\n      <td>swedish rye bread i</td>\n      <td>[bread]</td>\n    </tr>\n    <tr>\n      <th>45</th>\n      <td>[2 cups raisin bran cereal, 4 cups whole bran ...</td>\n      <td>[Mix cereal and boiling water together in a me...</td>\n      <td>http://images.media-allrecipes.com/userphotos/...</td>\n      <td>Bran Muffins I</td>\n      <td>bran muffins i</td>\n      <td>[muffins]</td>\n    </tr>\n    <tr>\n      <th>46</th>\n      <td>[1 cup chopped walnuts, 4 eggs, 2 cups white s...</td>\n      <td>[Whisk together flour, baking soda, salt, cinn...</td>\n      <td>http://images.media-allrecipes.com/userphotos/...</td>\n      <td>Zucchini Walnut Bread</td>\n      <td>zucchini walnut bread</td>\n      <td>[bread]</td>\n    </tr>\n    <tr>\n      <th>47</th>\n      <td>[1 (15 ounce) can apricot halves, 1/3 cup shor...</td>\n      <td>[Drain apricots, and save syrup. Puree apricot...</td>\n      <td>http://images.media-allrecipes.com/userphotos/...</td>\n      <td>Apricot Nut Bread</td>\n      <td>apricot nut bread</td>\n      <td>[bread]</td>\n    </tr>\n    <tr>\n      <th>48</th>\n      <td>[2 cups milk, 1/2 pound unsalted butter, at ro...</td>\n      <td>[In a small saucepan, heat milk until just bel...</td>\n      <td>http://images.media-allrecipes.com/userphotos/...</td>\n      <td>Babka I</td>\n      <td>babka i</td>\n      <td>[chocolate, chocolate, chip, cookies]</td>\n    </tr>\n    <tr>\n      <th>49</th>\n      <td>[3 tablespoons margarine, 2 cups white sugar, ...</td>\n      <td>[Preheat oven to 350 degrees F (175 degrees C)...</td>\n      <td>http://images.media-allrecipes.com/userphotos/...</td>\n      <td>Brazilian Banana Bread</td>\n      <td>brazilian banana bread</td>\n      <td>[banana, banana, bread]</td>\n    </tr>\n    <tr>\n      <th>50</th>\n      <td>[5 very ripe bananas, 4 eggs, 1 cup shortening...</td>\n      <td>[Preheat oven to 300 degrees F (150 degrees C)...</td>\n      <td>http://images.media-allrecipes.com/userphotos/...</td>\n      <td>Easy Banana Bread</td>\n      <td>banana bread</td>\n      <td>[banana, banana, bread]</td>\n    </tr>\n    <tr>\n      <th>51</th>\n      <td>[1 1/2 cups unbleached all-purpose flour, 1 cu...</td>\n      <td>[Combine flour, oats, sugar, baking powder, so...</td>\n      <td>http://images.media-allrecipes.com/userphotos/...</td>\n      <td>Banana Oat Muffins</td>\n      <td>banana oat muffins</td>\n      <td>[banana, banana, bread]</td>\n    </tr>\n    <tr>\n      <th>52</th>\n      <td>[1 tablespoon white sugar, 1/2 cup warm water ...</td>\n      <td>[Dissolve 1 tablespoon sugar and yeast in 1/2 ...</td>\n      <td>http://images.media-allrecipes.com/userphotos/...</td>\n      <td>Canadian Doughnuts</td>\n      <td>canadian doughnuts</td>\n      <td>[bacon]</td>\n    </tr>\n    <tr>\n      <th>53</th>\n      <td>[1 (12 fluid ounce) can or bottle beer, 3 cups...</td>\n      <td>[In a large bowl, mix together the sugar and f...</td>\n      <td>http://images.media-allrecipes.com/userphotos/...</td>\n      <td>Beer Bread I</td>\n      <td>beer bread i</td>\n      <td>[bread]</td>\n    </tr>\n    <tr>\n      <th>54</th>\n      <td>[2 cups all-purpose flour, 3 teaspoons baking ...</td>\n      <td>[Preheat oven to 450 degrees F (230 degrees C)...</td>\n      <td>http://images.media-allrecipes.com/userphotos/...</td>\n      <td>Beer Biscuits</td>\n      <td>beer biscuits</td>\n      <td>[garlic, steak, garlic]</td>\n    </tr>\n    <tr>\n      <th>55</th>\n      <td>[1 egg, 1/4 cup water, 1/2 cup evaporated skim...</td>\n      <td>[Place all ingredients into bread machine in t...</td>\n      <td>http://images.media-allrecipes.com/userphotos/...</td>\n      <td>Cardamom Bread</td>\n      <td>cardamom bread</td>\n      <td>[bread]</td>\n    </tr>\n    <tr>\n      <th>56</th>\n      <td>[3 eggs, beaten, 1/2 cup vegetable oil, 1/2 cu...</td>\n      <td>[Preheat oven to 350 degrees F (175 degrees C)...</td>\n      <td>http://images.media-allrecipes.com/userphotos/...</td>\n      <td>Three C Bread</td>\n      <td>three c bread</td>\n      <td>[bread]</td>\n    </tr>\n    <tr>\n      <th>57</th>\n      <td>[1 medium potato, peeled, 2 cups water, 1 teas...</td>\n      <td>[Dissolve yeast and 1 teaspoon sugar in 1/2 cu...</td>\n      <td>http://images.media-allrecipes.com/userphotos/...</td>\n      <td>Grandma Cornish's Whole Wheat Potato Bread</td>\n      <td>grandma cornish's whole wheat potato bread</td>\n      <td>[bread]</td>\n    </tr>\n    <tr>\n      <th>58</th>\n      <td>[1 tablespoon sunflower seed oil, 2 teaspoons ...</td>\n      <td>[Combine flour, salt, yeast, sugar, cocoa, sun...</td>\n      <td>http://images.media-allrecipes.com/userphotos/...</td>\n      <td>Chocolate Bread</td>\n      <td>chocolate bread</td>\n      <td>[bread]</td>\n    </tr>\n    <tr>\n      <th>59</th>\n      <td>[1 cup bread flour, 1/3 cup amaranth flour, 2/...</td>\n      <td>[Place rhubarb and water in a saucepan, and br...</td>\n      <td>http://images.media-allrecipes.com/userphotos/...</td>\n      <td>Strawberry Rhubarb Muffins</td>\n      <td>strawberry rhubarb muffins</td>\n      <td>[strawberry, chicken]</td>\n    </tr>\n    <tr>\n      <th>60</th>\n      <td>[1 teaspoon salt, 1/4 cup poppy seeds, 3 cups ...</td>\n      <td>[Preheat oven to 325 degrees F (165 degrees C)...</td>\n      <td>http://images.media-allrecipes.com/userphotos/...</td>\n      <td>Poppy Seed Bread I</td>\n      <td>poppy seed bread i</td>\n      <td>[bread]</td>\n    </tr>\n    <tr>\n      <th>61</th>\n      <td>[3 cups all-purpose flour, 3 eggs, 2 cups whit...</td>\n      <td>[Preheat oven to 350 degrees F (175 degrees C)...</td>\n      <td>http://images.media-allrecipes.com/userphotos/...</td>\n      <td>Zucchini Bread</td>\n      <td>zucchini bread</td>\n      <td>[bread]</td>\n    </tr>\n    <tr>\n      <th>62</th>\n      <td>[1 (.25 ounce) package rapid rise yeast, 1 tea...</td>\n      <td>[Dissolve yeast and sugar in 1/2 cup warm wate...</td>\n      <td>http://images.media-allrecipes.com/userphotos/...</td>\n      <td>Honey Wheat Bread I</td>\n      <td>honey wheat bread i</td>\n      <td>[bread]</td>\n    </tr>\n    <tr>\n      <th>63</th>\n      <td>[1 cup milk, 3 tablespoons unsalted butter, me...</td>\n      <td>[Assemble ingredients in the order suggested i...</td>\n      <td>http://images.media-allrecipes.com/userphotos/...</td>\n      <td>Honey White Bread</td>\n      <td>honey white bread</td>\n      <td>[bread]</td>\n    </tr>\n    <tr>\n      <th>65</th>\n      <td>[1 (18.25 ounce) package lemon cake mix, 4 egg...</td>\n      <td>[Preheat oven to 350 degrees F (175 degrees C)...</td>\n      <td>http://images.media-allrecipes.com/userphotos/...</td>\n      <td>Quick Lemon Poppy Seed Bread</td>\n      <td>quick lemon poppy seed bread</td>\n      <td>[bread]</td>\n    </tr>\n    <tr>\n      <th>66</th>\n      <td>[3 eggs, 1 cup vegetable oil, 1 cup packed bro...</td>\n      <td>[In a mixing bowl, beat the 3 eggs; add oil, s...</td>\n      <td>http://images.media-allrecipes.com/userphotos/...</td>\n      <td>Maple Zucchini Bread</td>\n      <td>maple zucchini bread</td>\n      <td>[bread]</td>\n    </tr>\n    <tr>\n      <th>67</th>\n      <td>[3 eggs, 2 cups white sugar, 1 cup vegetable o...</td>\n      <td>[Sift together flour, baking powder, soda, sal...</td>\n      <td>http://images.media-allrecipes.com/userphotos/...</td>\n      <td>Chocolate Chip Orange Zucchini Bread</td>\n      <td>chocolate chip orange zucchini bread</td>\n      <td>[bread]</td>\n    </tr>\n    <tr>\n      <th>68</th>\n      <td>[3 cups white sugar, 1 (15 ounce) can pumpkin ...</td>\n      <td>[Preheat oven to 350 degrees F (175 degrees C)...</td>\n      <td>http://images.media-allrecipes.com/userphotos/...</td>\n      <td>Chocolate Chip Pumpkin Bread</td>\n      <td>chocolate chip pumpkin bread</td>\n      <td>[bread]</td>\n    </tr>\n    <tr>\n      <th>69</th>\n      <td>[2 3/4 cups baking mix, 1/2 teaspoon crushed r...</td>\n      <td>[Preheat oven to 425 degrees F (220 degrees C)...</td>\n      <td>http://images.media-allrecipes.com/userphotos/...</td>\n      <td>Red Pepper Biscuits</td>\n      <td>red pepper biscuits</td>\n      <td>[red, pepper, chicken]</td>\n    </tr>\n    <tr>\n      <th>70</th>\n      <td>[1/3 cup shortening, 1 1/3 cups white sugar, 2...</td>\n      <td>[Preheat oven to 350 degrees F (175 degrees C)...</td>\n      <td>http://images.media-allrecipes.com/userphotos/...</td>\n      <td>Chocolate Wave Zucchini Bread</td>\n      <td>chocolate wave zucchini bread</td>\n      <td>[bread]</td>\n    </tr>\n    <tr>\n      <th>71</th>\n      <td>[3/4 cup wheat and barley nugget cereal (e.g. ...</td>\n      <td>[In a small bowl, soak grape nuts in buttermil...</td>\n      <td>http://images.media-allrecipes.com/userphotos/...</td>\n      <td>Wheat and Barley Bread</td>\n      <td>wheat barley bread</td>\n      <td>[bread]</td>\n    </tr>\n    <tr>\n      <th>72</th>\n      <td>[1 cup tomato juice, 1 cup water, 1 (.25 ounce...</td>\n      <td>[In a sauce pan, heat the tomato juice and wat...</td>\n      <td>http://images.media-allrecipes.com/userphotos/...</td>\n      <td>Tomato Bread I</td>\n      <td>tomato bread i</td>\n      <td>[bread]</td>\n    </tr>\n    <tr>\n      <th>73</th>\n      <td>[3 eggs, 3/4 cup vegetable oil, 1 2/3 cups pac...</td>\n      <td>[In a large bowl, beat eggs well. Add oil, bro...</td>\n      <td>http://images.media-allrecipes.com/userphotos/...</td>\n      <td>Zucchini Bread II</td>\n      <td>zucchini bread</td>\n      <td>[bread]</td>\n    </tr>\n    <tr>\n      <th>74</th>\n      <td>[1 (.25 ounce) package active dry yeast, 2 tab...</td>\n      <td>[In a large mixing bowl, dissolve the yeast, b...</td>\n      <td>http://images.media-allrecipes.com/userphotos/...</td>\n      <td>Mall Pretzels</td>\n      <td>mall pretzels</td>\n      <td>[bacon]</td>\n    </tr>\n    <tr>\n      <th>75</th>\n      <td>[1 1/3 cups warm water (110 degrees F/45 degre...</td>\n      <td>[In a large bowl, dissolve the yeast and sugar...</td>\n      <td>http://images.media-allrecipes.com/userphotos/...</td>\n      <td>Soft Pretzels I</td>\n      <td>soft pretzels i</td>\n      <td>[chocolate, chocolate, chip, cookies]</td>\n    </tr>\n    <tr>\n      <th>76</th>\n      <td>[1 (.25 ounce) package active dry yeast, 4 tab...</td>\n      <td>[Dissolve yeast, warm water, and 1 tablespoon ...</td>\n      <td>http://images.media-allrecipes.com/userphotos/...</td>\n      <td>Sweet Potato Rolls</td>\n      <td>sweet potato rolls</td>\n      <td>[sweet, spicy, sweet, potatoes]</td>\n    </tr>\n    <tr>\n      <th>77</th>\n      <td>[2 cups all-purpose flour, 4 teaspoons baking ...</td>\n      <td>[Preheat oven to 400 degrees F (205 degrees C)...</td>\n      <td>http://images.media-allrecipes.com/userphotos/...</td>\n      <td>Tea Biscuits</td>\n      <td>tea biscuits</td>\n      <td>[garlic, steak, garlic]</td>\n    </tr>\n    <tr>\n      <th>78</th>\n      <td>[2 cups biscuit baking mix, 1 cup shredded Che...</td>\n      <td>[Preheat oven to 400 degrees F (205 degrees C)...</td>\n      <td>http://images.media-allrecipes.com/userphotos/...</td>\n      <td>Cheddar Biscuits</td>\n      <td>cheddar biscuits</td>\n      <td>[bacon]</td>\n    </tr>\n    <tr>\n      <th>79</th>\n      <td>[2/3 cup warm water (110 degrees F/45 degrees ...</td>\n      <td>[Measure ingredients into the machine in the o...</td>\n      <td>http://images.media-allrecipes.com/userphotos/...</td>\n      <td>Cottage Dill Bread</td>\n      <td>cottage dill bread</td>\n      <td>[bread]</td>\n    </tr>\n    <tr>\n      <th>80</th>\n      <td>[2 (.25 ounce) packages active dry yeast, 6 cu...</td>\n      <td>[In a small saucepan, heat the milk and water ...</td>\n      <td>http://images.media-allrecipes.com/userphotos/...</td>\n      <td>English Muffin Loaves</td>\n      <td>english muffin loaves</td>\n      <td>[muffins]</td>\n    </tr>\n    <tr>\n      <th>81</th>\n      <td>[1 1/3 cups warm water (110 degrees F/45 degre...</td>\n      <td>[Place ingredients in the bread machine in the...</td>\n      <td>http://images.media-allrecipes.com/userphotos/...</td>\n      <td>Parmesan Focaccia Bread</td>\n      <td>parmesan focaccia bread</td>\n      <td>[bread]</td>\n    </tr>\n    <tr>\n      <th>82</th>\n      <td>[2 (1 pound) loaves frozen bread dough, thawed...</td>\n      <td>[Thaw frozen bread dough loaves until they can...</td>\n      <td>http://images.media-allrecipes.com/userphotos/...</td>\n      <td>Darbey Bread</td>\n      <td>darbey bread</td>\n      <td>[bread]</td>\n    </tr>\n    <tr>\n      <th>83</th>\n      <td>[3/4 cup fat free sour cream, 1/2 teaspoon sal...</td>\n      <td>[Combine sour cream, sugar, egg whites, milk, ...</td>\n      <td>http://images.media-allrecipes.com/userphotos/...</td>\n      <td>Nonfat Sour Cream Cake Bread</td>\n      <td>nonfat sour cream cake bread</td>\n      <td>[bread]</td>\n    </tr>\n    <tr>\n      <th>84</th>\n      <td>[1/2 cup butter, softened, 1 cup vanilla sugar...</td>\n      <td>[Preheat oven to 350 degrees F (175 degrees C)...</td>\n      <td>http://images.media-allrecipes.com/userphotos/...</td>\n      <td>Coconut Bread I</td>\n      <td>coconut bread i</td>\n      <td>[coconut, chicken]</td>\n    </tr>\n    <tr>\n      <th>85</th>\n      <td>[4 cups all-purpose flour, 1 cup white sugar, ...</td>\n      <td>[Preheat oven to 325 degrees F (165 degrees C)...</td>\n      <td>http://images.media-allrecipes.com/userphotos/...</td>\n      <td>Irish Soda Bread I</td>\n      <td>irish soda bread i</td>\n      <td>[bread]</td>\n    </tr>\n    <tr>\n      <th>86</th>\n      <td>[For Sponge (Biga):, 1/8 teaspoon active dry y...</td>\n      <td>[To Make Sponge: In a small bowl stir together...</td>\n      <td>http://images.media-allrecipes.com/userphotos/...</td>\n      <td>Ciabatta</td>\n      <td>ciabatta</td>\n      <td>[bread]</td>\n    </tr>\n    <tr>\n      <th>87</th>\n      <td>[3/4 cup fat free sour cream, 4 egg whites, 1/...</td>\n      <td>[Preheat oven to 375 degrees F (190 degrees C)...</td>\n      <td>http://images.media-allrecipes.com/userphotos/...</td>\n      <td>Lower Fat Banana Nut Bread</td>\n      <td>lower fat banana nut bread</td>\n      <td>[banana, banana, bread]</td>\n    </tr>\n    <tr>\n      <th>88</th>\n      <td>[1 tablespoon grated orange zest, 1/3 cup fres...</td>\n      <td>[Preheat oven to 350 degrees F (175 degrees C)...</td>\n      <td>http://images.media-allrecipes.com/userphotos/...</td>\n      <td>Orange Nut Bread</td>\n      <td>orange nut bread</td>\n      <td>[bread]</td>\n    </tr>\n    <tr>\n      <th>89</th>\n      <td>[3 cups all-purpose flour, 1 1/2 teaspoons sal...</td>\n      <td>[Preheat oven to 350 degrees F (175 degrees C)...</td>\n      <td>http://images.media-allrecipes.com/userphotos/...</td>\n      <td>Poppy Seed Bread II</td>\n      <td>poppy seed bread</td>\n      <td>[bread]</td>\n    </tr>\n    <tr>\n      <th>90</th>\n      <td>[1 1/4 cups quick cooking oats, 1 1/4 cups mil...</td>\n      <td>[Combine oats and milk and allow to stand for ...</td>\n      <td>http://images.media-allrecipes.com/userphotos/...</td>\n      <td>Oatmeal Chocolate Chip Muffins</td>\n      <td>oatmeal chocolate chip muffins</td>\n      <td>[muffins]</td>\n    </tr>\n    <tr>\n      <th>91</th>\n      <td>[2/3 cup white sugar, 1/4 cup margarine, softe...</td>\n      <td>[Preheat oven to 350 degrees F (175 degrees C)...</td>\n      <td>http://images.media-allrecipes.com/userphotos/...</td>\n      <td>Lower Fat Banana Bread I</td>\n      <td>lower fat banana bread i</td>\n      <td>[banana, banana, bread]</td>\n    </tr>\n    <tr>\n      <th>92</th>\n      <td>[2 1/4 teaspoons active dry yeast, 1/2 cup war...</td>\n      <td>[In a medium bowl, dissolve 2 1/4 teaspoons ye...</td>\n      <td>http://images.media-allrecipes.com/userphotos/...</td>\n      <td>Sourdough Bread II</td>\n      <td>sourdough bread</td>\n      <td>[bread]</td>\n    </tr>\n    <tr>\n      <th>93</th>\n      <td>[2 cups warm water (110 degrees F/45 degrees C...</td>\n      <td>[Sprinkle yeast over water in large bowl. Let ...</td>\n      <td>http://images.media-allrecipes.com/userphotos/...</td>\n      <td>Parmesan Herb Bread</td>\n      <td>parmesan herb bread</td>\n      <td>[bread]</td>\n    </tr>\n    <tr>\n      <th>94</th>\n      <td>[4 ripe bananas, mashed, 2/3 cup white sugar, ...</td>\n      <td>[Preheat oven to 350 degrees F (175 degrees C)...</td>\n      <td>http://images.media-allrecipes.com/userphotos/...</td>\n      <td>Simple Banana Bread</td>\n      <td>simple banana bread</td>\n      <td>[banana, banana, bread]</td>\n    </tr>\n    <tr>\n      <th>95</th>\n      <td>[3/4 cup milk, 3/4 cup water, 1/2 cup white su...</td>\n      <td>[In a medium saucepan over medium heat, warm m...</td>\n      <td>http://images.media-allrecipes.com/userphotos/...</td>\n      <td>Unbelievable Rolls</td>\n      <td>unbelievable rolls</td>\n      <td>[stuffed, chicken]</td>\n    </tr>\n    <tr>\n      <th>96</th>\n      <td>[4 1/2 teaspoons active dry yeast, 1/2 cup war...</td>\n      <td>[Dissolve yeast in warm water in a large mixin...</td>\n      <td>http://images.media-allrecipes.com/userphotos/...</td>\n      <td>Pecan Sticky Buns</td>\n      <td>pecan sticky buns</td>\n      <td>[pie, strawberry, pie]</td>\n    </tr>\n    <tr>\n      <th>97</th>\n      <td>[2 1/2 cups warm water (110 degrees F/45 degre...</td>\n      <td>[In a large bowl, sprinkle yeast over barely w...</td>\n      <td>http://images.media-allrecipes.com/userphotos/...</td>\n      <td>Challah I</td>\n      <td>challah i</td>\n      <td>[bread]</td>\n    </tr>\n    <tr>\n      <th>98</th>\n      <td>[5 cups all-purpose flour, 2 (.25 ounce) packa...</td>\n      <td>[Stir together 2 cups flour and the yeast. In ...</td>\n      <td>http://images.media-allrecipes.com/userphotos/...</td>\n      <td>Tasty Buns</td>\n      <td>tasty buns</td>\n      <td>[turkey]</td>\n    </tr>\n    <tr>\n      <th>99</th>\n      <td>[1 3/4 cups all-purpose flour, 1/3 cup white s...</td>\n      <td>[Preheat oven to 400 degrees F (200 degrees C)...</td>\n      <td>http://images.media-allrecipes.com/userphotos/...</td>\n      <td>Breakfast Muffins</td>\n      <td>breakfast muffins</td>\n      <td>[muffins]</td>\n    </tr>\n    <tr>\n      <th>100</th>\n      <td>[2 cups warm water (110 degrees F/45 degrees C...</td>\n      <td>[Dissolve yeast in warm water. Add honey, and ...</td>\n      <td>http://images.media-allrecipes.com/userphotos/...</td>\n      <td>Honey Wheat Bread II</td>\n      <td>honey wheat bread</td>\n      <td>[bread]</td>\n    </tr>\n    <tr>\n      <th>101</th>\n      <td>[1 1/4 cups vegetable oil, 2 cups pumpkin pure...</td>\n      <td>[In a large bowl, mix together oil, pumpkin, s...</td>\n      <td>http://images.media-allrecipes.com/userphotos/...</td>\n      <td>Special Pumpkin Bread</td>\n      <td>special pumpkin bread</td>\n      <td>[bread]</td>\n    </tr>\n    <tr>\n      <th>102</th>\n      <td>[2 cups all-purpose flour, 1/2 teaspoon baking...</td>\n      <td>[Sift together flour, baking soda, baking powd...</td>\n      <td>http://images.media-allrecipes.com/userphotos/...</td>\n      <td>4H Banana Bread</td>\n      <td>4h banana bread</td>\n      <td>[banana, banana, bread]</td>\n    </tr>\n    <tr>\n      <th>103</th>\n      <td>[1 1/4 cups quick cooking oats, 1 cup all-purp...</td>\n      <td>[Combine oats, flour, sugar, baking powder, an...</td>\n      <td>http://images.media-allrecipes.com/userphotos/...</td>\n      <td>Oatmeal Blueberry Muffins</td>\n      <td>oatmeal blueberry muffins</td>\n      <td>[muffins]</td>\n    </tr>\n    <tr>\n      <th>104</th>\n      <td>[1 cup self-rising flour, 3 tablespoons white ...</td>\n      <td>[Preheat oven to 450 degrees F (230 degrees C)...</td>\n      <td>http://images.media-allrecipes.com/userphotos/...</td>\n      <td>Instant Rolls</td>\n      <td>instant rolls</td>\n      <td>[stuffed, chicken]</td>\n    </tr>\n    <tr>\n      <th>105</th>\n      <td>[1 cup milk, 8 cups sifted all-purpose flour, ...</td>\n      <td>[Scald milk in a medium saucepan. Add cold wat...</td>\n      <td>http://images.media-allrecipes.com/userphotos/...</td>\n      <td>Basic Sweet Dough</td>\n      <td>basic sweet dough</td>\n      <td>[sweet, spicy, sweet, potatoes]</td>\n    </tr>\n    <tr>\n      <th>106</th>\n      <td>[6 tablespoons shortening, 1 cup white sugar, ...</td>\n      <td>[Whisk together flour, salt, and baking powder...</td>\n      <td>http://images.media-allrecipes.com/userphotos/...</td>\n      <td>Lemon Bread</td>\n      <td>lemon bread</td>\n      <td>[bread]</td>\n    </tr>\n    <tr>\n      <th>107</th>\n      <td>[2 cups white sugar, 1 cup packed brown sugar,...</td>\n      <td>[Preheat oven to 350 degrees F (175 degrees C)...</td>\n      <td>http://images.media-allrecipes.com/userphotos/...</td>\n      <td>Pumpkin Coconut Bread</td>\n      <td>pumpkin coconut bread</td>\n      <td>[coconut, chicken]</td>\n    </tr>\n    <tr>\n      <th>108</th>\n      <td>[2 (.25 ounce) packages active dry yeast, 2 1/...</td>\n      <td>[In a large mixing bowl, dissolve yeast in 1/2...</td>\n      <td>http://images.media-allrecipes.com/userphotos/...</td>\n      <td>Simple White Bread</td>\n      <td>simple white bread</td>\n      <td>[bread]</td>\n    </tr>\n    <tr>\n      <th>109</th>\n      <td>[2 cups all-purpose flour, 1/3 cup packed brow...</td>\n      <td>[Preheat oven to 400 degrees F (205 degrees C)...</td>\n      <td>http://images.media-allrecipes.com/userphotos/...</td>\n      <td>Hazelnut Chocolate Chip Scones</td>\n      <td>hazelnut chocolate chip scones</td>\n      <td>[chocolate, chocolate, chip, cookies]</td>\n    </tr>\n    <tr>\n      <th>110</th>\n      <td>[3 cups warm water (110 degrees F/45 degrees C...</td>\n      <td>[In a large bowl, mix warm water, yeast, and 1...</td>\n      <td>http://images.media-allrecipes.com/userphotos/...</td>\n      <td>Simple Whole Wheat Bread</td>\n      <td>simple whole wheat bread</td>\n      <td>[bread]</td>\n    </tr>\n    <tr>\n      <th>111</th>\n      <td>[2 cups rye flour, 1 1/2 cups room temperature...</td>\n      <td>[Combine rye flour, beer, and yeast in a large...</td>\n      <td>http://images.media-allrecipes.com/userphotos/...</td>\n      <td>Rye Beer Bread</td>\n      <td>rye beer bread</td>\n      <td>[bread]</td>\n    </tr>\n    <tr>\n      <th>112</th>\n      <td>[1/4 cup margarine, softened, 1 cup white suga...</td>\n      <td>[Cream together butter or margarine, sugar, an...</td>\n      <td>http://images.media-allrecipes.com/userphotos/...</td>\n      <td>Mrs. Kurtz's Banana Bread</td>\n      <td>mrs. kurtz's banana bread</td>\n      <td>[banana, banana, bread]</td>\n    </tr>\n    <tr>\n      <th>113</th>\n      <td>[3 cups all-purpose flour, 1 (.25 ounce) packa...</td>\n      <td>[Combine flour, salt, sugar, and yeast in a la...</td>\n      <td>http://images.media-allrecipes.com/userphotos/...</td>\n      <td>Pizza Dough I</td>\n      <td>pizza dough i</td>\n      <td>[pizza, chicken]</td>\n    </tr>\n    <tr>\n      <th>114</th>\n      <td>[2 1/2 cups white sugar, 1 cup shortening, 3 e...</td>\n      <td>[Preheat oven to 350 degrees F (175 degrees C)...</td>\n      <td>http://images.media-allrecipes.com/userphotos/...</td>\n      <td>Banana Nut Bread I</td>\n      <td>banana nut bread i</td>\n      <td>[banana, banana, bread]</td>\n    </tr>\n    <tr>\n      <th>115</th>\n      <td>[1 (.25 ounce) package active dry yeast, 1 cup...</td>\n      <td>[In a large bowl, mix together yeast, milk and...</td>\n      <td>http://images.media-allrecipes.com/userphotos/...</td>\n      <td>Blue Ribbon Overnight Rolls</td>\n      <td>blue ribbon overnight rolls</td>\n      <td>[cheese, baked, macaroni, cheese]</td>\n    </tr>\n    <tr>\n      <th>116</th>\n      <td>[1 1/2 cups milk, 1 cup warm water (110 degree...</td>\n      <td>[Warm the milk in a small saucepan until it bu...</td>\n      <td>http://images.media-allrecipes.com/userphotos/...</td>\n      <td>Cinnamon Raisin Bread I</td>\n      <td>cinnamon raisin bread i</td>\n      <td>[bread]</td>\n    </tr>\n    <tr>\n      <th>117</th>\n      <td>[3 1/2 cups all-purpose flour, 1 teaspoon whit...</td>\n      <td>[Combine 1 cup flour, sugar, salt, and yeast. ...</td>\n      <td>http://images.media-allrecipes.com/userphotos/...</td>\n      <td>Homemade Focaccia Bread</td>\n      <td>homemade focaccia bread</td>\n      <td>[bread]</td>\n    </tr>\n    <tr>\n      <th>118</th>\n      <td>[3/8 cup cracked wheat, 3/4 cup water, 2 cups ...</td>\n      <td>[In a two quart saucepan, combine the cracked ...</td>\n      <td>http://images.media-allrecipes.com/userphotos/...</td>\n      <td>Whole Wheat Bread I</td>\n      <td>whole wheat bread i</td>\n      <td>[bread]</td>\n    </tr>\n    <tr>\n      <th>119</th>\n      <td>[1 cup sourdough starter, 1/3 cup vegetable oi...</td>\n      <td>[Sift flour, salt, and soda together into a la...</td>\n      <td>http://images.media-allrecipes.com/userphotos/...</td>\n      <td>Sourdough Drop Biscuits</td>\n      <td>sourdough drop biscuits</td>\n      <td>[garlic, steak, garlic]</td>\n    </tr>\n    <tr>\n      <th>120</th>\n      <td>[2 cups all-purpose flour, 2 cups warm water (...</td>\n      <td>[Mix together flour, warm water, and yeast in ...</td>\n      <td>http://images.media-allrecipes.com/userphotos/...</td>\n      <td>Sourdough Starter II</td>\n      <td>sourdough starter</td>\n      <td>[bread]</td>\n    </tr>\n    <tr>\n      <th>121</th>\n      <td>[2 (.25 ounce) packages active dry yeast, 1/2 ...</td>\n      <td>[In a large bowl, dissolve yeast in warm water...</td>\n      <td>http://images.media-allrecipes.com/userphotos/...</td>\n      <td>Milk and Honey Loaf</td>\n      <td>milk honey loaf</td>\n      <td>[ham, pineapple]</td>\n    </tr>\n    <tr>\n      <th>123</th>\n      <td>[2 (.25 ounce) packages active dry yeast, 2 cu...</td>\n      <td>[Mix yeast, warm water, and white sugar togeth...</td>\n      <td>http://images.media-allrecipes.com/userphotos/...</td>\n      <td>Italian Herb Bread I</td>\n      <td>italian herb bread i</td>\n      <td>[bread]</td>\n    </tr>\n    <tr>\n      <th>124</th>\n      <td>[1 1/3 cups warm water (110 degrees F/45 degre...</td>\n      <td>[Place ingredients in the bread machine in the...</td>\n      <td>http://images.media-allrecipes.com/userphotos/...</td>\n      <td>Potato Bread II</td>\n      <td>potato bread</td>\n      <td>[bread]</td>\n    </tr>\n    <tr>\n      <th>125</th>\n      <td>[2 cups warm water (110 degrees F/45 degrees C...</td>\n      <td>[In a large bowl, dissolve the sugar in warm w...</td>\n      <td>http://images.media-allrecipes.com/userphotos/...</td>\n      <td>Amish White Bread</td>\n      <td>amish white bread</td>\n      <td>[bread]</td>\n    </tr>\n    <tr>\n      <th>126</th>\n      <td>[1/2 cup water, 1 cup cottage cheese, 2 tables...</td>\n      <td>[Add the ingredients to your bread machine in ...</td>\n      <td>http://images.media-allrecipes.com/userphotos/...</td>\n      <td>Cottage Cheese Bread I</td>\n      <td>cottage cheese bread i</td>\n      <td>[bread]</td>\n    </tr>\n    <tr>\n      <th>127</th>\n      <td>[2 tablespoons shortening, 1 1/2 cups white su...</td>\n      <td>[Cream shortening with sugar. Mix in eggs. Dis...</td>\n      <td>http://images.media-allrecipes.com/userphotos/...</td>\n      <td>Nana's Nut Bread</td>\n      <td>nana's nut bread</td>\n      <td>[bread]</td>\n    </tr>\n    <tr>\n      <th>128</th>\n      <td>[3 cups all-purpose flour, 2 teaspoons baking ...</td>\n      <td>[Preheat oven to 350 degrees F (175 degrees C)...</td>\n      <td>http://images.media-allrecipes.com/userphotos/...</td>\n      <td>Irish Soda Bread II</td>\n      <td>irish soda bread</td>\n      <td>[bread]</td>\n    </tr>\n    <tr>\n      <th>129</th>\n      <td>[3 eggs, 1 cup vegetable oil, 1 1/2 cups packe...</td>\n      <td>[In a large bowl, combine eggs, oil, sugar, zu...</td>\n      <td>http://images.media-allrecipes.com/userphotos/...</td>\n      <td>Zucchini Bread III</td>\n      <td>zucchini bread  i</td>\n      <td>[bread]</td>\n    </tr>\n    <tr>\n      <th>130</th>\n      <td>[1 cup warm water (110 degrees F), 1 egg, 3 cu...</td>\n      <td>[Place water, egg, bread flour, white sugar, p...</td>\n      <td>http://images.media-allrecipes.com/userphotos/...</td>\n      <td>Cinnamon Rolls I</td>\n      <td>cinnamon rolls i</td>\n      <td>[apple, salad]</td>\n    </tr>\n    <tr>\n      <th>131</th>\n      <td>[1 cup canned sweet potato puree, 3 egg yolks,...</td>\n      <td>[Stir together flour, baking powder, sugar, sa...</td>\n      <td>http://images.media-allrecipes.com/userphotos/...</td>\n      <td>Sweet Potato Pecan Waffles</td>\n      <td>sweet potato pecan waffles</td>\n      <td>[sweet, spicy, sweet, potatoes]</td>\n    </tr>\n    <tr>\n      <th>132</th>\n      <td>[2 cups all-purpose flour, 2 1/2 teaspoons bak...</td>\n      <td>[Preheat oven to 450 degrees F (230 degrees C)...</td>\n      <td>http://images.media-allrecipes.com/userphotos/...</td>\n      <td>Mom's Baking Powder Biscuits</td>\n      <td>mom's baking powder biscuits</td>\n      <td>[garlic, steak, garlic]</td>\n    </tr>\n    <tr>\n      <th>133</th>\n      <td>[1 cup buttermilk, 1 cup stone ground cornmeal...</td>\n      <td>[Preheat oven to 450 degrees F (225 degrees C)...</td>\n      <td>http://images.media-allrecipes.com/userphotos/...</td>\n      <td>Cornbread I</td>\n      <td>cornbread i</td>\n      <td>[muffins]</td>\n    </tr>\n    <tr>\n      <th>134</th>\n      <td>[1 (15 ounce) can pumpkin puree, 1 cup vegetab...</td>\n      <td>[Combine pumpkin, oil and eggs. Sift together ...</td>\n      <td>http://images.media-allrecipes.com/userphotos/...</td>\n      <td>Pumpkin Bread II</td>\n      <td>pumpkin bread</td>\n      <td>[bread]</td>\n    </tr>\n    <tr>\n      <th>135</th>\n      <td>[3 1/2 cups all-purpose flour, 1 cup packed br...</td>\n      <td>[Preheat oven to 350 degrees F (175 degrees C)...</td>\n      <td>http://images.media-allrecipes.com/userphotos/...</td>\n      <td>Cranberry Pumpkin Bread</td>\n      <td>cranberry pumpkin bread</td>\n      <td>[bread]</td>\n    </tr>\n    <tr>\n      <th>136</th>\n      <td>[1 1/8 cups warm water (110 degrees F/45 degre...</td>\n      <td>[Add ingredients according to the manufacturer...</td>\n      <td>http://images.media-allrecipes.com/userphotos/...</td>\n      <td>Honey Whole Wheat Bread</td>\n      <td>honey whole wheat bread</td>\n      <td>[bread]</td>\n    </tr>\n    <tr>\n      <th>137</th>\n      <td>[1 1/8 cups warm water, 2 tablespoons molasses...</td>\n      <td>[Add ingredients according to bread machine's ...</td>\n      <td>http://images.media-allrecipes.com/userphotos/...</td>\n      <td>Basic Rye Bread</td>\n      <td>basic rye bread</td>\n      <td>[bread]</td>\n    </tr>\n    <tr>\n      <th>138</th>\n      <td>[1 cup buttermilk, 1 egg, 1/4 cup warm water (...</td>\n      <td>[Place ingredients into the bread machine in o...</td>\n      <td>http://images.media-allrecipes.com/userphotos/...</td>\n      <td>Oat-N-Honey Bread</td>\n      <td>oat-n-honey bread</td>\n      <td>[bread]</td>\n    </tr>\n    <tr>\n      <th>139</th>\n      <td>[2 eggs, 1/4 cup corn oil, 1 cup buttermilk, 1...</td>\n      <td>[Preheat oven to 350 degrees F (175 degrees C)...</td>\n      <td>http://images.media-allrecipes.com/userphotos/...</td>\n      <td>Mexican Style Cornbread</td>\n      <td>mexican style cornbread</td>\n      <td>[italian, style, sausage]</td>\n    </tr>\n    <tr>\n      <th>140</th>\n      <td>[2 1/2 cups warm water (110 degrees F/45 degre...</td>\n      <td>[Place water, yeast, and molasses in a mixing ...</td>\n      <td>http://images.media-allrecipes.com/userphotos/...</td>\n      <td>Olive Bread</td>\n      <td>ol e bread</td>\n      <td>[bread]</td>\n    </tr>\n    <tr>\n      <th>141</th>\n      <td>[3 eggs, 2 cups white sugar, 1 cup vegetable o...</td>\n      <td>[Preheat oven to 350 degrees F (175 degrees C)...</td>\n      <td>http://images.media-allrecipes.com/userphotos/...</td>\n      <td>Donna's Chocolate Zucchini Bread</td>\n      <td>donna's chocolate zucchini bread</td>\n      <td>[bread]</td>\n    </tr>\n    <tr>\n      <th>142</th>\n      <td>[1 cup milk, 1 egg, 1/3 cup vegetable oil, 2 c...</td>\n      <td>[Preheat oven to 400 degrees F (205 degrees C)...</td>\n      <td>http://images.media-allrecipes.com/userphotos/...</td>\n      <td>Blueberry Muffins I</td>\n      <td>blueberry muffins i</td>\n      <td>[muffins]</td>\n    </tr>\n    <tr>\n      <th>143</th>\n      <td>[1 1/4 cups water, 1 teaspoon salt, 3 cups bre...</td>\n      <td>[Place water, salt, bread flour, dry milk, sug...</td>\n      <td>http://images.media-allrecipes.com/userphotos/...</td>\n      <td>Calzone</td>\n      <td>calzone</td>\n      <td>[spinach, salad]</td>\n    </tr>\n    <tr>\n      <th>144</th>\n      <td>[1 1/2 cups water, 3 tablespoons honey, 2 tabl...</td>\n      <td>[Place ingredients in the pan of the bread mac...</td>\n      <td>http://images.media-allrecipes.com/userphotos/...</td>\n      <td>Uncle Wynn's Bread Machine Rye</td>\n      <td>uncle wynn's bread machine rye</td>\n      <td>[bread]</td>\n    </tr>\n    <tr>\n      <th>145</th>\n      <td>[3 cups self-rising flour, 2 tablespoons white...</td>\n      <td>[Preheat oven to 350 degrees F (175 degrees C)...</td>\n      <td>http://images.media-allrecipes.com/userphotos/...</td>\n      <td>Beer Bread II</td>\n      <td>beer bread</td>\n      <td>[bread]</td>\n    </tr>\n    <tr>\n      <th>146</th>\n      <td>[4 1/4 cups all-purpose flour, 3 tablespoons w...</td>\n      <td>[In large bowl, combine 1 1/2 cups flour, suga...</td>\n      <td>http://images.media-allrecipes.com/userphotos/...</td>\n      <td>Garden Herb Loaf</td>\n      <td>garden herb loaf</td>\n      <td>[garlic, steak, garlic]</td>\n    </tr>\n    <tr>\n      <th>148</th>\n      <td>[1 (.25 ounce) package active dry yeast, 1 cup...</td>\n      <td>[In a medium bowl, combine yeast, water and su...</td>\n      <td>http://images.media-allrecipes.com/userphotos/...</td>\n      <td>Panettone I</td>\n      <td>panettone i</td>\n      <td>[bread]</td>\n    </tr>\n    <tr>\n      <th>149</th>\n      <td>[1 1/8 cups warm water, 2 tablespoons olive oi...</td>\n      <td>[Measure and add warm water, olive oil, dry mi...</td>\n      <td>http://images.media-allrecipes.com/userphotos/...</td>\n      <td>Potato Rosemary Rolls</td>\n      <td>potato rosemary rolls</td>\n      <td>[sweet, potato, potato, salad]</td>\n    </tr>\n    <tr>\n      <th>150</th>\n      <td>[1 cup warm water (110 degrees F/45 degrees C)...</td>\n      <td>[Place water, sugar, salt, oil, bread flour an...</td>\n      <td>http://images.media-allrecipes.com/userphotos/...</td>\n      <td>White Bread For The Bread Machine</td>\n      <td>white bread for bread machine</td>\n      <td>[bread]</td>\n    </tr>\n    <tr>\n      <th>151</th>\n      <td>[1 cup warm water (110 degrees F/45 degrees C)...</td>\n      <td>[Stir water, sugar and yeast together until di...</td>\n      <td>http://images.media-allrecipes.com/userphotos/...</td>\n      <td>Valentino's Pizza Crust</td>\n      <td>valentino's pizza crust</td>\n      <td>[pizza, chicken]</td>\n    </tr>\n    <tr>\n      <th>152</th>\n      <td>[3 (12 ounce) packages refrigerated biscuit do...</td>\n      <td>[Preheat oven to 350 degrees F (175 degrees C)...</td>\n      <td>http://images.media-allrecipes.com/userphotos/...</td>\n      <td>Monkey Bread I</td>\n      <td>monkey bread i</td>\n      <td>[bread]</td>\n    </tr>\n    <tr>\n      <th>153</th>\n      <td>[3 cups unbleached all-purpose flour, 1 tables...</td>\n      <td>[Add all ingredients except egg, 1 tablespoon ...</td>\n      <td>http://images.media-allrecipes.com/userphotos/...</td>\n      <td>Italian Bread II</td>\n      <td>italian bread</td>\n      <td>[bread]</td>\n    </tr>\n    <tr>\n      <th>154</th>\n      <td>[1 1/8 cups warm water, 1 1/3 tablespoons vege...</td>\n      <td>[Place all ingredients in to your bread machin...</td>\n      <td>http://images.media-allrecipes.com/userphotos/...</td>\n      <td>New York Rye Bread</td>\n      <td>new york rye bread</td>\n      <td>[bread]</td>\n    </tr>\n    <tr>\n      <th>155</th>\n      <td>[3/4 cup water, 2 teaspoons honey, 2 teaspoons...</td>\n      <td>[Add to your bread machine per manufacturer in...</td>\n      <td>http://images.media-allrecipes.com/userphotos/...</td>\n      <td>Sweet Honey French Bread</td>\n      <td>sweet honey french bread</td>\n      <td>[bread]</td>\n    </tr>\n    <tr>\n      <th>156</th>\n      <td>[1 (20 ounce) can crushed pineapple with juice...</td>\n      <td>[Preheat oven to 350 degrees F (175 degrees C)...</td>\n      <td>http://images.media-allrecipes.com/userphotos/...</td>\n      <td>Pineapple Tangerine Bread</td>\n      <td>pineapple tangerine bread</td>\n      <td>[bread]</td>\n    </tr>\n    <tr>\n      <th>157</th>\n      <td>[1 (15 ounce) can pumpkin puree, 4 eggs, 1 cup...</td>\n      <td>[Preheat oven to 350 degrees F (175 degrees C)...</td>\n      <td>http://images.media-allrecipes.com/userphotos/...</td>\n      <td>Downeast Maine Pumpkin Bread</td>\n      <td>downeast maine pumpkin bread</td>\n      <td>[bread]</td>\n    </tr>\n    <tr>\n      <th>158</th>\n      <td>[1 1/8 cups warm water (110 degrees F/45 degre...</td>\n      <td>[Place all ingredients in bread pan of your br...</td>\n      <td>http://images.media-allrecipes.com/userphotos/...</td>\n      <td>Peppy's Pita Bread</td>\n      <td>peppy's pita bread</td>\n      <td>[bread]</td>\n    </tr>\n    <tr>\n      <th>159</th>\n      <td>[1 cup packed brown sugar, 1/2 cup margarine, ...</td>\n      <td>[Heat oven to 350 degrees F (175 degrees C). G...</td>\n      <td>http://images.media-allrecipes.com/userphotos/...</td>\n      <td>Pineapple Zucchini Bread</td>\n      <td>pineapple zucchini bread</td>\n      <td>[bread]</td>\n    </tr>\n    <tr>\n      <th>160</th>\n      <td>[2 cups all-purpose flour, 2 tablespoons white...</td>\n      <td>[In a large bowl combine flour, sugar, baking ...</td>\n      <td>http://images.media-allrecipes.com/userphotos/...</td>\n      <td>Walnut Raisin Scones</td>\n      <td>walnut raisin scones</td>\n      <td>[bread]</td>\n    </tr>\n    <tr>\n      <th>161</th>\n      <td>[2 cups sifted all-purpose flour, 1 teaspoon b...</td>\n      <td>[Preheat the oven to 350 degrees F (175 degree...</td>\n      <td>http://images.media-allrecipes.com/userphotos/...</td>\n      <td>Pumpkin Nut Muffins</td>\n      <td>pumpkin nut muffins</td>\n      <td>[pumpkin, cake]</td>\n    </tr>\n    <tr>\n      <th>162</th>\n      <td>[2 cups all-purpose flour, 2 teaspoons baking ...</td>\n      <td>[Combine flour, baking powder, baking soda, sa...</td>\n      <td>http://images.media-allrecipes.com/userphotos/...</td>\n      <td>Orange Muffins</td>\n      <td>orange muffins</td>\n      <td>[muffins]</td>\n    </tr>\n    <tr>\n      <th>163</th>\n      <td>[3/4 cup plain yogurt, 1/3 cup water, 1 tables...</td>\n      <td>[Place all ingredients in the bread machine in...</td>\n      <td>http://images.media-allrecipes.com/userphotos/...</td>\n      <td>Yogurt Cornbread</td>\n      <td>yogurt cornbread</td>\n      <td>[muffins]</td>\n    </tr>\n    <tr>\n      <th>164</th>\n      <td>[4 1/2 cups all-purpose flour, 3 tablespoons w...</td>\n      <td>[Mix together the unsifted flour, 3 tablespoon...</td>\n      <td>http://images.media-allrecipes.com/userphotos/...</td>\n      <td>Bagels I</td>\n      <td>bagels i</td>\n      <td>[ham, pineapple]</td>\n    </tr>\n    <tr>\n      <th>165</th>\n      <td>[5 cups all-purpose flour, 2 tablespoons short...</td>\n      <td>[Mix together the flour, baking powder, and sa...</td>\n      <td>http://images.media-allrecipes.com/userphotos/...</td>\n      <td>Tortillas I</td>\n      <td>tortillas i</td>\n      <td>[corn, salad]</td>\n    </tr>\n    <tr>\n      <th>166</th>\n      <td>[2 cups whole wheat flour, 1 teaspoon baking s...</td>\n      <td>[Preheat oven to 350 degrees F (175 degrees C)...</td>\n      <td>http://images.media-allrecipes.com/userphotos/...</td>\n      <td>Whole Wheat Banana Strawberry Loaf</td>\n      <td>whole wheat banana strawberry loaf</td>\n      <td>[banana, banana, bread]</td>\n    </tr>\n    <tr>\n      <th>167</th>\n      <td>[2 cups all-purpose flour, 3 1/2 teaspoons bak...</td>\n      <td>[Sift flour with baking powder, salt, and papr...</td>\n      <td>http://images.media-allrecipes.com/userphotos/...</td>\n      <td>Cheddar Muffins</td>\n      <td>cheddar muffins</td>\n      <td>[muffins]</td>\n    </tr>\n    <tr>\n      <th>168</th>\n      <td>[1 cup milk, 1/2 cup water, 1/4 cup butter, 4 ...</td>\n      <td>[In a small saucepan, heat milk, water and but...</td>\n      <td>http://images.media-allrecipes.com/userphotos/...</td>\n      <td>Burger or Hot Dog Buns</td>\n      <td>burger or hot dog buns</td>\n      <td>[dip]</td>\n    </tr>\n    <tr>\n      <th>169</th>\n      <td>[1 1/8 cups water, 3 tablespoons honey, 1 tabl...</td>\n      <td>[Add ingredients to bread machine pan in order...</td>\n      <td>http://images.media-allrecipes.com/userphotos/...</td>\n      <td>Buttermilk White Bread</td>\n      <td>buttermilk white bread</td>\n      <td>[bread]</td>\n    </tr>\n    <tr>\n      <th>170</th>\n      <td>[3 tablespoons active dry yeast, 2/3 cup warm ...</td>\n      <td>[In a small bowl, dissolve yeast in warm water...</td>\n      <td>http://images.media-allrecipes.com/userphotos/...</td>\n      <td>Carolyn's Orange Rolls</td>\n      <td>carolyn's orange rolls</td>\n      <td>[cranberry, orange, cookies]</td>\n    </tr>\n    <tr>\n      <th>171</th>\n      <td>[2 cups buttermilk baking mix, 2 tablespoons w...</td>\n      <td>[Preheat oven to 400 degrees F (205 degrees C)...</td>\n      <td>http://images.media-allrecipes.com/userphotos/...</td>\n      <td>Orange Juice Muffins with Honey Spread</td>\n      <td>orange juice muffins honey spread</td>\n      <td>[muffins]</td>\n    </tr>\n    <tr>\n      <th>172</th>\n      <td>[1 (15 ounce) can pumpkin puree, 4 cups all-pu...</td>\n      <td>[Cook, peel and mash the sugar pumpkin., Sift ...</td>\n      <td>http://images.media-allrecipes.com/userphotos/...</td>\n      <td>Seminole Pumpkin Bread</td>\n      <td>seminole pumpkin bread</td>\n      <td>[bread]</td>\n    </tr>\n    <tr>\n      <th>173</th>\n      <td>[2 cups buttermilk baking mix, 2/3 cup milk, 1...</td>\n      <td>[Preheat oven to 450 degrees F (230 degrees C)...</td>\n      <td>http://images.media-allrecipes.com/userphotos/...</td>\n      <td>Garlic Cheese Biscuits</td>\n      <td>garlic cheese biscuits</td>\n      <td>[garlic, steak, garlic]</td>\n    </tr>\n    <tr>\n      <th>174</th>\n      <td>[1 (10 ounce) can refrigerated biscuit dough, ...</td>\n      <td>[Cut each biscuit in half and form each piece ...</td>\n      <td>http://images.media-allrecipes.com/userphotos/...</td>\n      <td>Quick Sticky Buns</td>\n      <td>quick sticky buns</td>\n      <td>[chili]</td>\n    </tr>\n    <tr>\n      <th>175</th>\n      <td>[3 cups all-purpose flour, 2 1/4 cups white su...</td>\n      <td>[Mix together the flour, 2 1/4 cups white suga...</td>\n      <td>http://images.media-allrecipes.com/userphotos/...</td>\n      <td>Poppy Seed Bread III</td>\n      <td>poppy seed bread  i</td>\n      <td>[bread]</td>\n    </tr>\n    <tr>\n      <th>176</th>\n      <td>[1 egg, 1/2 cup milk, 1/4 cup vegetable oil, 1...</td>\n      <td>[Preheat oven to 400 degrees F (205 degrees C)...</td>\n      <td>http://images.media-allrecipes.com/userphotos/...</td>\n      <td>Sweeter Muffins</td>\n      <td>sweeter muffins</td>\n      <td>[muffins]</td>\n    </tr>\n    <tr>\n      <th>177</th>\n      <td>[3 cups all-purpose flour, 3 cups white sugar,...</td>\n      <td>[Preheat oven to 350 degrees F (175 degrees C)...</td>\n      <td>http://images.media-allrecipes.com/userphotos/...</td>\n      <td>Pumpkin Bread III</td>\n      <td>pumpkin bread  i</td>\n      <td>[bread]</td>\n    </tr>\n    <tr>\n      <th>178</th>\n      <td>[1/2 cup water, 2 teaspoons honey, 1 tablespoo...</td>\n      <td>[Place ingredients in the pan of the bread mac...</td>\n      <td>http://images.media-allrecipes.com/userphotos/...</td>\n      <td>Whole Wheat Zucchini Herb Bread</td>\n      <td>whole wheat zucchini herb bread</td>\n      <td>[bread]</td>\n    </tr>\n    <tr>\n      <th>179</th>\n      <td>[4 cups grated fresh cassava, 3 cups coconut m...</td>\n      <td>[NOTE: Cassava, also known as Manioc, tapioca ...</td>\n      <td>http://images.media-allrecipes.com/userphotos/...</td>\n      <td>Chinky's Bibingka</td>\n      <td>chinky's bibingka</td>\n      <td>[bread]</td>\n    </tr>\n    <tr>\n      <th>180</th>\n      <td>[2 cups all-purpose flour, 2 teaspoons ground ...</td>\n      <td>[Combine all of the dry ingredients. Beat eggs...</td>\n      <td>http://images.media-allrecipes.com/userphotos/...</td>\n      <td>Chinky's Mango Bread</td>\n      <td>chinky's mango bread</td>\n      <td>[bread]</td>\n    </tr>\n    <tr>\n      <th>181</th>\n      <td>[2 3/4 cups cake flour, 1 1/4 cups white sugar...</td>\n      <td>[Preheat oven to 375 degrees F (190 degrees C)...</td>\n      <td>http://images.media-allrecipes.com/userphotos/...</td>\n      <td>Chinky's Puto Bread</td>\n      <td>chinky's puto bread</td>\n      <td>[bread]</td>\n    </tr>\n    <tr>\n      <th>182</th>\n      <td>[1 1/2 cups all-purpose flour, 1 1/4 teaspoons...</td>\n      <td>[Preheat oven to 350 degrees F (175 degrees C)...</td>\n      <td>http://images.media-allrecipes.com/userphotos/...</td>\n      <td>Baked Pumpkin Bread</td>\n      <td>baked pumpkin bread</td>\n      <td>[baked, chicken]</td>\n    </tr>\n    <tr>\n      <th>183</th>\n      <td>[1 1/2 cups all-purpose flour, 1 cup fresh blu...</td>\n      <td>[Preheat oven to 400 degrees F (205 degrees C)...</td>\n      <td>http://images.media-allrecipes.com/userphotos/...</td>\n      <td>Blueberry Muffins II</td>\n      <td>blueberry muffins</td>\n      <td>[muffins]</td>\n    </tr>\n    <tr>\n      <th>184</th>\n      <td>[2 eggs, 1 cup white sugar, 1/2 cup butter, me...</td>\n      <td>[Preheat oven to 350 degrees F (175 degrees C)...</td>\n      <td>http://images.media-allrecipes.com/userphotos/...</td>\n      <td>Eggnog Quick Bread</td>\n      <td>eggnog quick bread</td>\n      <td>[bread]</td>\n    </tr>\n    <tr>\n      <th>185</th>\n      <td>[3 cups all-purpose flour, 1 teaspoon baking s...</td>\n      <td>[Preheat oven to 350 degrees F (175 degrees C)...</td>\n      <td>http://images.media-allrecipes.com/userphotos/...</td>\n      <td>Strawberry Nut Bread</td>\n      <td>strawberry nut bread</td>\n      <td>[bread]</td>\n    </tr>\n    <tr>\n      <th>186</th>\n      <td>[4 1/4 cups all-purpose flour, 2 (.25 ounce) p...</td>\n      <td>[In large bowl, combine 1-1/2 cups flour and y...</td>\n      <td>http://images.media-allrecipes.com/userphotos/...</td>\n      <td>Boiled Bagels</td>\n      <td>boiled bagels</td>\n      <td>[bacon]</td>\n    </tr>\n    <tr>\n      <th>187</th>\n      <td>[1/8 cup coffee flavored liqueur, 1/4 cup wate...</td>\n      <td>[Place all ingredients, except for the semi-sw...</td>\n      <td>http://images.media-allrecipes.com/userphotos/...</td>\n      <td>Mocha Cream Bread</td>\n      <td>mocha cream bread</td>\n      <td>[bread]</td>\n    </tr>\n    <tr>\n      <th>188</th>\n      <td>[2/3 cup crushed pineapple with juice, 3 table...</td>\n      <td>[Place all ingredients in bread pan in order s...</td>\n      <td>http://images.media-allrecipes.com/userphotos/...</td>\n      <td>Pina Colada Bread</td>\n      <td>pina colada bread</td>\n      <td>[bread]</td>\n    </tr>\n    <tr>\n      <th>189</th>\n      <td>[1 1/2 cups dates, pitted and chopped, 2 1/4 c...</td>\n      <td>[Combine baking soda with the boiling water. S...</td>\n      <td>http://images.media-allrecipes.com/userphotos/...</td>\n      <td>Date Nut Bread</td>\n      <td>date nut bread</td>\n      <td>[bread]</td>\n    </tr>\n    <tr>\n      <th>190</th>\n      <td>[2/3 cup white sugar, 1 tablespoon ground cinn...</td>\n      <td>[Preheat oven to 350 degrees F (175 degrees C)...</td>\n      <td>http://images.media-allrecipes.com/userphotos/...</td>\n      <td>Blueberry Monkey Bread</td>\n      <td>blueberry monkey bread</td>\n      <td>[bread]</td>\n    </tr>\n    <tr>\n      <th>191</th>\n      <td>[2 cups all-purpose flour, 2 teaspoons baking ...</td>\n      <td>[Preheat oven to 375 degrees F (190 degrees C)...</td>\n      <td>http://images.media-allrecipes.com/userphotos/...</td>\n      <td>Streusel Topped Blueberry Muffins</td>\n      <td>streusel topped blueberry muffins</td>\n      <td>[muffins]</td>\n    </tr>\n    <tr>\n      <th>192</th>\n      <td>[2 1/4 cups self-rising flour, 3/4 cup shorten...</td>\n      <td>[Combine and mix ingredients together. Pour ou...</td>\n      <td>http://images.media-allrecipes.com/userphotos/...</td>\n      <td>Easy Biscuits</td>\n      <td>biscuits</td>\n      <td>[garlic, steak, garlic]</td>\n    </tr>\n    <tr>\n      <th>193</th>\n      <td>[1 cup Amish Friendship Bread Starter (see foo...</td>\n      <td>[Preheat oven to 350 degrees F (175 degrees C)...</td>\n      <td>http://images.media-allrecipes.com/userphotos/...</td>\n      <td>Amish Friendship Bread I</td>\n      <td>amish friendship bread i</td>\n      <td>[bread]</td>\n    </tr>\n    <tr>\n      <th>194</th>\n      <td>[1 cup warm water (110 degrees F/45 degrees C)...</td>\n      <td>[Add ingredients according to the bread machin...</td>\n      <td>http://images.media-allrecipes.com/userphotos/...</td>\n      <td>Jalapeno Bread I</td>\n      <td>jalapeno bread i</td>\n      <td>[bread]</td>\n    </tr>\n    <tr>\n      <th>195</th>\n      <td>[1 1/8 cups warm water (110 degrees F/45 degre...</td>\n      <td>[Add ingredients according to the bread machin...</td>\n      <td>http://images.media-allrecipes.com/userphotos/...</td>\n      <td>Jalapeno Bread II</td>\n      <td>jalapeno bread</td>\n      <td>[bread]</td>\n    </tr>\n    <tr>\n      <th>196</th>\n      <td>[1 1/2 cups sourdough starter, 1 cup warm wate...</td>\n      <td>[Dissolve yeast in 1 cup warm water, set aside...</td>\n      <td>http://images.media-allrecipes.com/userphotos/...</td>\n      <td>Sourdough Tomato Bread</td>\n      <td>sourdough tomato bread</td>\n      <td>[bread]</td>\n    </tr>\n    <tr>\n      <th>197</th>\n      <td>[1 cup warm milk (110 degrees F/45 degrees C),...</td>\n      <td>[Add the milk, salt, 2 tablespoons butter or m...</td>\n      <td>http://images.media-allrecipes.com/userphotos/...</td>\n      <td>Chocolate Chip Almond Bread</td>\n      <td>chocolate chip almond bread</td>\n      <td>[bread]</td>\n    </tr>\n    <tr>\n      <th>198</th>\n      <td>[1 1/2 (.25 ounce) packages active dry yeast, ...</td>\n      <td>[Dissolve yeast in warm water with 1 tablespoo...</td>\n      <td>http://images.media-allrecipes.com/userphotos/...</td>\n      <td>Hot Onion Pinwheels</td>\n      <td>hot onion pinwheels</td>\n      <td>[dip]</td>\n    </tr>\n    <tr>\n      <th>199</th>\n      <td>[3 cups canned pumpkin puree, 1 1/2 cups veget...</td>\n      <td>[Preheat the oven to 350 degrees F (175 degree...</td>\n      <td>http://images.media-allrecipes.com/userphotos/...</td>\n      <td>Pumpkin Bread IV</td>\n      <td>pumpkin bread</td>\n      <td>[bread]</td>\n    </tr>\n    <tr>\n      <th>200</th>\n      <td>[1 (.25 ounce) package active dry yeast, 3 cup...</td>\n      <td>[Add ingredients according to the manufacturer...</td>\n      <td>http://images.media-allrecipes.com/userphotos/...</td>\n      <td>Italian Bread III</td>\n      <td>italian bread  i</td>\n      <td>[bread]</td>\n    </tr>\n    <tr>\n      <th>201</th>\n      <td>[2 1/2 teaspoons active dry yeast, 3 cups all-...</td>\n      <td>[Remove baking pan from machine. Place yeast, ...</td>\n      <td>http://images.media-allrecipes.com/userphotos/...</td>\n      <td>Monkey Bread II</td>\n      <td>monkey bread</td>\n      <td>[bread]</td>\n    </tr>\n    <tr>\n      <th>202</th>\n      <td>[1 1/2 cups all-purpose flour, 3/4 cup white s...</td>\n      <td>[Preheat oven to 400 degrees F (200 degrees C)...</td>\n      <td>http://images.media-allrecipes.com/userphotos/...</td>\n      <td>To Die For Blueberry Muffins</td>\n      <td>to die for blueberry muffins</td>\n      <td>[muffins]</td>\n    </tr>\n  </tbody>\n</table>\n</div>"
     },
     "execution_count": 33,
     "metadata": {},
     "output_type": "execute_result"
    }
   ],
   "source": [
    "pd.set_option('display.max_rows', 200)\n",
    "data[:200]"
   ]
  },
  {
   "cell_type": "code",
   "execution_count": 59,
   "id": "6ba91e98",
   "metadata": {
    "pycharm": {
     "name": "#%%\n"
    }
   },
   "outputs": [],
   "source": [
    "import os\n",
    "import shutil\n",
    "def createFolder(directory):\n",
    "    try:\n",
    "        if not os.path.exists(directory):\n",
    "            os.makedirs(directory)\n",
    "    except OSError:\n",
    "        print ('Error: Creating directory. ' +  directory)\n",
    "def movePic(src, dest):\n",
    "    shutil.copy(src, dest)\n",
    "    \n",
    "categories_for_recipes\n",
    "directories_names = []\n",
    "\n",
    "for directt in categories_for_recipes:\n",
    "    d_name = '_'.join(directt)\n",
    "    directories_names.append(d_name)\n",
    "\n",
    "for curr_dir_category in directories_names:\n",
    "    createFolder('C:\\\\Users\\\\Nilay\\\\Documents\\\\GitHub\\\\OMCS_CS7643_DL\\\\data\\\\images\\\\' + curr_dir_category)"
   ]
  },
  {
   "cell_type": "code",
   "execution_count": 60,
   "id": "2c589264",
   "metadata": {
    "pycharm": {
     "name": "#%%\n"
    }
   },
   "outputs": [],
   "source": [
    "data['directories_names'] = directories_names\n",
    "image_category = dict(zip(data.photo_url, data.directories_names))"
   ]
  },
  {
   "cell_type": "code",
   "execution_count": 61,
   "id": "6a24beff",
   "metadata": {
    "pycharm": {
     "name": "#%%\n"
    }
   },
   "outputs": [
    {
     "name": "stdout",
     "output_type": "stream",
     "text": [
      "<class 'pandas.core.frame.DataFrame'>\n"
     ]
    }
   ],
   "source": [
    "from collections import defaultdict\n",
    "image_category = defaultdict(list)\n",
    "print(type(data))\n",
    "for index, row in data.iterrows():\n",
    "    #print(row['photo_url'], row['directories_names'])\n",
    "    image_category[row.directories_names].append(row.photo_url)"
   ]
  },
  {
   "cell_type": "code",
   "execution_count": 62,
   "id": "ee9bfc63",
   "metadata": {
    "pycharm": {
     "name": "#%%\n"
    }
   },
   "outputs": [
    {
     "name": "stdout",
     "output_type": "stream",
     "text": [
      "roasted_chicken:\n",
      "#NAME?\n"
     ]
    }
   ],
   "source": [
    "for directory in ['roasted_chicken']:\n",
    "    print(directory+':')\n",
    "    for image in image_category[directory]:\n",
    "        if \"http://images.media-allrecipes.com/\" in image:\n",
    "            image_dir = image.split(\".com\")[1]\n",
    "            image_name = image_dir.split('/')[-1]\n",
    "            image_dir = image_dir.replace(\"/\", \"\\\\\")\n",
    "            try:\n",
    "                movePic(\"C:\\\\Users\\\\Nilay\\\\Documents\\\\GitHub\\\\OMCS_CS7643_DL\\\\data\"+image_dir, \"C:\\\\Users\\\\Nilay\\\\Documents\\\\GitHub\\\\OMCS_CS7643_DL\\\\data\\\\images\\\\\"+directory+'\\\\'+image_name)\n",
    "            except:\n",
    "                print(\"C:\\\\Users\\\\Nilay\\\\Documents\\\\GitHub\\\\OMCS_CS7643_DL\\\\data\"+image_dir, \"C:\\\\Users\\\\Nilay\\\\Documents\\\\GitHub\\\\OMCS_CS7643_DL\\\\data\\\\images\\\\\"+directory+'\\\\'+image_name)\n",
    "        else:\n",
    "            try:\n",
    "                movePic(\"C:\\\\Users\\\\Nilay\\\\Documents\\\\GitHub\\\\OMCS_CS7643_DL\\\\data\\\\food_images\\\\\"+image+'.jpg', \"C:\\\\Users\\\\Nilay\\\\Documents\\\\GitHub\\\\OMCS_CS7643_DL\\\\data\\\\images\\\\\"+directory+'\\\\'+image+'.jpg')\n",
    "            except:\n",
    "                print(image)\n",
    "            #print(image_dir.split('/')[-1])"
   ]
  },
  {
   "cell_type": "code",
   "execution_count": 64,
   "outputs": [],
   "source": [
    "data.to_csv('recipe_name_image_lookup.csv')"
   ],
   "metadata": {
    "collapsed": false,
    "pycharm": {
     "name": "#%%\n"
    }
   }
  },
  {
   "cell_type": "code",
   "execution_count": null,
   "outputs": [],
   "source": [],
   "metadata": {
    "collapsed": false,
    "pycharm": {
     "name": "#%%\n"
    }
   }
  }
 ],
 "metadata": {
  "kernelspec": {
   "display_name": "Python 3 (ipykernel)",
   "language": "python",
   "name": "python3"
  },
  "language_info": {
   "codemirror_mode": {
    "name": "ipython",
    "version": 3
   },
   "file_extension": ".py",
   "mimetype": "text/x-python",
   "name": "python",
   "nbconvert_exporter": "python",
   "pygments_lexer": "ipython3",
   "version": "3.8.13"
  }
 },
 "nbformat": 4,
 "nbformat_minor": 5
}